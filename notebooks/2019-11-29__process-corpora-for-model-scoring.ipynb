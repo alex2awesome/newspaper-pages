{
 "cells": [
  {
   "cell_type": "code",
   "execution_count": 2,
   "metadata": {},
   "outputs": [],
   "source": [
    "import pandas as pd\n",
    "import os"
   ]
  },
  {
   "cell_type": "markdown",
   "metadata": {},
   "source": [
    "# Court Documents"
   ]
  },
  {
   "cell_type": "code",
   "execution_count": null,
   "metadata": {},
   "outputs": [],
   "source": [
    "import pandas as pd\n",
    "\n",
    "opinion_df_all = pd.read_csv(\"../court_documents/unprocessed_appeals_plain_text__current.csv\", index_col=0)\n",
    "long_cases = opinion_df_all.loc[lambda df: df['plain_text'].apply(lambda x: len(x.split()) > 400)]\n",
    "\n",
    "def split_text_head(text):\n",
    "    split_points = [\n",
    "        'OPINION', 'FACTS', 'CHARGE', 'PROCEDURAL BACKGROUND',\n",
    "        'INTRODUCTION', 'BACKGROUND', 'I. Facts', 'FACT', ', Judge', ', Presiding Judge', ', Chief Judge', \n",
    "    ]\n",
    "    \n",
    "    for point in split_points:\n",
    "        if 'Judge' in point:\n",
    "            if point in text:\n",
    "                return text.split(point)[-1]\n",
    "        if point in text:\n",
    "            return text.split(point)[1]\n",
    "\n",
    "def split_text_tail(text):\n",
    "    if pd.notnull(text):        \n",
    "        split_points = ['NOTES', 'DISTRIBUTION']\n",
    "        for point in split_points:\n",
    "            if point in text:\n",
    "                return text.split(point)[0]\n",
    "        return text\n",
    "\n",
    "long_case_text = (\n",
    "    long_cases['plain_text']\n",
    "          .apply(split_text_head)\n",
    "          .apply(split_text_tail)\n",
    "          .dropna()\n",
    "          .str.strip()\n",
    ")\n",
    "\n",
    "import spacy\n",
    "nlp = spacy.load('en_core_web_lg')\n",
    "\n",
    "def preprocess(body, nlp=nlp):\n",
    "    text = body.split()\n",
    "    text = ' '.join(text)\n",
    "    ## cut sentence fragments.\n",
    "    doc = nlp(text)\n",
    "    sentences = list(filter(lambda x: len(x.text.split())>5, doc.sents))\n",
    "    ## \n",
    "    text = [word.text for sent in sentences for word in sent]\n",
    "    body = ' '.join(text)\n",
    "\n",
    "    ### other cleanup\n",
    "    body = body.lower()\n",
    "    body = body.strip()\n",
    "    return body\n",
    "\n",
    "import swifter\n",
    "import util\n",
    "from tqdm import tqdm_notebook as tqdm\n",
    "\n",
    "long_case_text_processed = []\n",
    "for text in tqdm(long_case_text, total=len(long_case_text)):\n",
    "    long_case_text_processed.append(preprocess(text))\n",
    "\n",
    "with open('court-processed.txt', 'w', encoding='utf-8') as f:\n",
    "    for line in long_case_text_processed:\n",
    "        f.write(line)\n",
    "        f.write('\\n')"
   ]
  },
  {
   "cell_type": "markdown",
   "metadata": {},
   "source": [
    "# City Council Meeting Minutes"
   ]
  },
  {
   "cell_type": "code",
   "execution_count": null,
   "metadata": {},
   "outputs": [],
   "source": [
    "import pandas as pd\n",
    "all_meetings_df = pd.read_csv('../council_meetings/all_items_df_processed.csv', index_col=0)\n",
    "\n",
    "def clean_num_header(text):\n",
    "    numbers = ['1', '2', '3', '4', '5', '6', '7', '8', '9', '0']\n",
    "    first = numbers + ['-', ' ', ',']\n",
    "    done = False\n",
    "    while not done:\n",
    "        if text[0] in first:\n",
    "            text = text[1:]\n",
    "        elif text[1] in numbers:\n",
    "            text = text[2:]\n",
    "        elif text[:2] == 'CD':\n",
    "            text = text[2:]\n",
    "        else:\n",
    "            done = True\n",
    "    return text\n",
    "\n",
    "meeting_text = (all_meetings_df\n",
    " .loc[lambda df: df['item_num'].notnull()]['text']\n",
    "#  .head()\n",
    " .str.replace(r'ITEM NO\\.\\(\\d+\\)', '')\n",
    " .str.strip()\n",
    " .apply(clean_num_header)\n",
    ")\n",
    "\n",
    "sample = meeting_text.sample(1000)\n",
    "\n",
    "sample.to_csv('../app/data/council-meetings-for-datastore.csv', header='')\n",
    "sample.to_json(\"../app/data/council-meetings-sample.json\")"
   ]
  },
  {
   "cell_type": "markdown",
   "metadata": {},
   "source": [
    "# Bills"
   ]
  },
  {
   "cell_type": "code",
   "execution_count": 8,
   "metadata": {},
   "outputs": [
    {
     "name": "stderr",
     "output_type": "stream",
     "text": [
      "C:\\ProgramData\\Anaconda3\\lib\\site-packages\\numpy\\lib\\arraysetops.py:569: FutureWarning: elementwise comparison failed; returning scalar instead, but in the future will perform elementwise comparison\n",
      "  mask |= (ar1 == a)\n"
     ]
    }
   ],
   "source": [
    "bill_data = pd.read_csv('../bills/unprocessed-bills-data-all.csv', index_col=0)"
   ]
  },
  {
   "cell_type": "code",
   "execution_count": 16,
   "metadata": {},
   "outputs": [
    {
     "data": {
      "text/plain": [
       "'\"An Act relating to the procurement of supplies, services, professional services, and construction for the Alaska Energy Authority; establishing the Alaska Railbelt energy fund and relating to the fund; relating to and repealing the Railbelt energy fund; relating to the quorum of the board of the Alaska Energy Authority; relating to the powers of the Alaska Energy Authority regarding employees and the transfer of certain employees of the Alaska Industrial Development Export Authority to the Alaska Energy Authority; relating to acquiring or constructing certain projects by the Alaska Energy Authority; relating to the definition of \\'feasibility study\\' in the Alaska Energy Authority Act; and providing for an effective date.\"'"
      ]
     },
     "execution_count": 16,
     "metadata": {},
     "output_type": "execute_result"
    }
   ],
   "source": [
    "bill_data['title'][5]"
   ]
  },
  {
   "cell_type": "code",
   "execution_count": 20,
   "metadata": {},
   "outputs": [],
   "source": [
    "os.makedirs('../models/data/unlabeled-corpora')"
   ]
  },
  {
   "cell_type": "code",
   "execution_count": 21,
   "metadata": {},
   "outputs": [],
   "source": [
    "t_data = open('../models/data/bert-data/train.tsv').readlines()[:100]"
   ]
  },
  {
   "cell_type": "code",
   "execution_count": 24,
   "metadata": {},
   "outputs": [
    {
     "data": {
      "text/plain": [
       "'\"reacting fears deadly disease may entered human food chain , european commission today imposed ban exports british beef host goods , ranging medicine cosmetics candy , ingredients beef byproducts . even though coupled offer financial aid , move , expected european veterinary committee recommended monday , rebuff brtain european partners serious blow $ 6.5 billion beef industry . action certain sour atmosphere european union negotiations open friday . [ . ] reacting fears deadly disease may entered human food chain , european commission today imposed ban exports british beef host goods , ranging medicine cosmetics candy , ingredients beef byproducts . even though coupled offer financial aid , move , expected european veterinary committee recommended monday , rebuff brtain european partners serious blow $ 6.5 billion beef industry . action certain sour atmosphere european union negotiations open friday . [ . ] also made virtually certain government , already fire handling crisis , forced order least partial slaughter older cattle among nation \\'s 11 million head . ban , took effect immediately , reviewed six weeks . government made clear today considering various proposals culling animals , , emphasized , measure win back public \\'s confidence considers beef unsafe eat . \"\" argument moved , \"\" said health secretary stephen dorrell . \"\" issue longer question safety british beef . question consumer confidence . \"\" crisis ignited week ago mr. dorrell told house commons scientific advisory panel reported \"\" likely explanation \"\" new variant creutzfeldt - jakob disease , fatal degenerative brain disorder diagnosed 10 people , exposure similar ailment cattle known bovine spongiform encepthalopathy , mad cow disease . 10 years , government vigorously denied link two . one plan considered government came national farmers union , main body representing british farmers . called dairy cows breeding cattle destroyed end productive lives , would otherwise slaughtered meat go soups low - grade meat pies . plan , union said , would involve 850,000 cows first year , cost $ 685 million , place five years . would less costly disruptive immediate destruction 4.5 million older animals -- believed highest risk carrying disease -- proposed . day british announcement , france european countries began imposing bans british beef . reaction spread ireland denmark european union , countries around world , south africa singapore south korea . meanwhile , scare galloped home . british beef dropped menus schools went ignored restaurants supermarkets . major hamburger chains said would longer serve beef airlines said would offer alternatives . widening boycott crippled industry . many livestock markets empty . today meat livestock association , main industry group , said half country \\'s 15,000 slaughterhouse workers laid . monday european union \\'s standing veterinary committee met recommended european commission , union \\'s executive body , impose worldwide ban . move infuriated prime minister john major , placed angry telephone call jacques santer , commission president , right scientific experts argue measures already place sufficient guarantee beef \\'s safety . argument wash commission members , supported ban unanimously , apparently also fearful stigma british beef could undermine beef exports europe whole . last year britain exported 277,000 tons beef overall production 857,000 tons . soften blow somewhat , franz fischler , agricultural commissioner farmer , said ban would reviewed six weeks could accompanied aid help pay new measures combat crisis . banned today includes meat also products derived slaughtered cattle might possibly enter animal human food chain , including cosmetics pharmaceuticals even things gelatin . today enraged british member european parliament held pack jelly babies , popular candy , pointed , \"\" \"\" included ban . spokesman department health said british european guidelines use animal extracts cosmetics pharmaceuticals tightened considerably since 1992 products currently produced using bovine material .\"\\t1\\n'"
      ]
     },
     "execution_count": 24,
     "metadata": {},
     "output_type": "execute_result"
    }
   ],
   "source": [
    "t_data[2]"
   ]
  },
  {
   "cell_type": "code",
   "execution_count": null,
   "metadata": {},
   "outputs": [],
   "source": []
  },
  {
   "cell_type": "code",
   "execution_count": null,
   "metadata": {},
   "outputs": [],
   "source": []
  }
 ],
 "metadata": {
  "hide_input": false,
  "kernelspec": {
   "display_name": "Python 3",
   "language": "python",
   "name": "python3"
  },
  "language_info": {
   "codemirror_mode": {
    "name": "ipython",
    "version": 3
   },
   "file_extension": ".py",
   "mimetype": "text/x-python",
   "name": "python",
   "nbconvert_exporter": "python",
   "pygments_lexer": "ipython3",
   "version": "3.7.3"
  },
  "latex_envs": {
   "LaTeX_envs_menu_present": true,
   "autoclose": false,
   "autocomplete": true,
   "bibliofile": "biblio.bib",
   "cite_by": "apalike",
   "current_citInitial": 1,
   "eqLabelWithNumbers": true,
   "eqNumInitial": 1,
   "hotkeys": {
    "equation": "Ctrl-E",
    "itemize": "Ctrl-I"
   },
   "labels_anchors": false,
   "latex_user_defs": false,
   "report_style_numbering": false,
   "user_envs_cfg": false
  }
 },
 "nbformat": 4,
 "nbformat_minor": 2
}
