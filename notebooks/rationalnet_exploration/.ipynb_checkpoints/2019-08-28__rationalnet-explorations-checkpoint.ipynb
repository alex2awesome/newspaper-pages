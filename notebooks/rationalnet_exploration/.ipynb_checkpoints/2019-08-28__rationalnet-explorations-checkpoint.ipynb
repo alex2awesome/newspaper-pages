{
 "cells": [
  {
   "cell_type": "markdown",
   "metadata": {},
   "source": [
    "# Read in results"
   ]
  },
  {
   "cell_type": "code",
   "execution_count": 1,
   "metadata": {},
   "outputs": [],
   "source": [
    "from sklearn.metrics import roc_auc_score\n",
    "import sys\n",
    "sys.path.append('../text_nn')\n",
    "import pandas as pd\n",
    "import rationale_net\n",
    "from rationale_net.datasets.new_york_times_dataset import NYTimesDataset\n",
    "import pickle\n",
    "import glob\n",
    "import re\n",
    "from tqdm import tqdm_notebook as tqdm\n",
    "%matplotlib inline\n",
    "import matplotlib.pyplot as plt"
   ]
  },
  {
   "cell_type": "code",
   "execution_count": 2,
   "metadata": {},
   "outputs": [],
   "source": [
    "from collections import defaultdict"
   ]
  },
  {
   "cell_type": "code",
   "execution_count": 3,
   "metadata": {},
   "outputs": [],
   "source": [
    "rationale_net_log_files = glob.glob(\"models/*punc*\")"
   ]
  },
  {
   "cell_type": "code",
   "execution_count": 15,
   "metadata": {},
   "outputs": [],
   "source": [
    "to_compress = list(filter(lambda x: 'small' not in x, rationale_net_log_files))"
   ]
  },
  {
   "cell_type": "markdown",
   "metadata": {},
   "source": [
    "# Compress"
   ]
  },
  {
   "cell_type": "code",
   "execution_count": 16,
   "metadata": {
    "scrolled": true
   },
   "outputs": [
    {
     "data": {
      "application/vnd.jupyter.widget-view+json": {
       "model_id": "c2def396424340789c3980c37d8e73f0",
       "version_major": 2,
       "version_minor": 0
      },
      "text/plain": [
       "HBox(children=(IntProgress(value=0, max=10), HTML(value='')))"
      ]
     },
     "metadata": {},
     "output_type": "display_data"
    },
    {
     "name": "stdout",
     "output_type": "stream",
     "text": [
      "\n"
     ]
    }
   ],
   "source": [
    "for f in tqdm(to_compress):\n",
    "    continuity_lambda, selection_lambda = re.findall('cont-lambda_(\\.*\\d+)__sel-lam_(\\.*\\d+)', f)[0]    ## parse results\n",
    "    results = pickle.load(open(f, 'rb'))\n",
    "    test_stats = pd.Series(results['test_stats'])\n",
    "    y_proba = list(map(lambda x: x[1] if x[0] == 1 else 1-x[1], zip(test_stats['preds'], test_stats['probas'])))\n",
    "    y_true = results['test_stats']['golds']\n",
    "       \n",
    "    output = {\n",
    "        'rationales': results['test_stats']['rationales'],\n",
    "        'y_proba': y_proba,\n",
    "        'y_true': y_true\n",
    "    }\n",
    "    \n",
    "    pickle.dump(output, open(f + '-small.pkl', 'wb'))"
   ]
  },
  {
   "cell_type": "code",
   "execution_count": null,
   "metadata": {},
   "outputs": [],
   "source": []
  },
  {
   "cell_type": "markdown",
   "metadata": {},
   "source": [
    "# Load"
   ]
  },
  {
   "cell_type": "code",
   "execution_count": 4,
   "metadata": {},
   "outputs": [],
   "source": [
    "to_load = list(filter(lambda x: 'small' in x, rationale_net_log_files))"
   ]
  },
  {
   "cell_type": "code",
   "execution_count": 196,
   "metadata": {},
   "outputs": [
    {
     "data": {
      "application/vnd.jupyter.widget-view+json": {
       "model_id": "3961d7c0395f46b68bc0f50faf2f24d2",
       "version_major": 2,
       "version_minor": 0
      },
      "text/plain": [
       "HBox(children=(IntProgress(value=0, max=36), HTML(value='')))"
      ]
     },
     "metadata": {},
     "output_type": "display_data"
    },
    {
     "name": "stdout",
     "output_type": "stream",
     "text": [
      "\n"
     ]
    }
   ],
   "source": [
    "aucs = defaultdict(dict)\n",
    "rationales = defaultdict(dict)\n",
    "y_trues = []\n",
    "y_preds = []\n",
    "\n",
    "for f in tqdm(to_load):\n",
    "    continuity_lambda, selection_lambda = re.findall('cont-lambda_(\\.*\\d+)__sel-lam_(\\.*\\d+)', f)[0]    ## parse results\n",
    "    results = pickle.load(open(f, 'rb'))\n",
    "    \n",
    "    y_proba = results['y_proba']\n",
    "    y_true = results['y_true']\n",
    "    \n",
    "    y_preds.append({\n",
    "        'cont_lam': float(continuity_lambda),\n",
    "        'sel_lam': float(selection_lambda),\n",
    "        'y_preds': y_proba\n",
    "    })\n",
    "    \n",
    "    y_trues.append({\n",
    "        'cont_lam': float(continuity_lambda),\n",
    "        'sel_lam': float(selection_lambda),\n",
    "        'y_true': y_true\n",
    "    })\n",
    "    \n",
    "    ## calculate AUC\n",
    "    aucs[continuity_lambda][selection_lambda] = roc_auc_score(y_true, y_proba)\n",
    "    ## store rationales \n",
    "    rationales[continuity_lambda][selection_lambda] = results['rationales']"
   ]
  },
  {
   "cell_type": "code",
   "execution_count": 7,
   "metadata": {},
   "outputs": [],
   "source": [
    "aucs_2 = []\n",
    "for cont_lam, items in list(aucs.items()):\n",
    "    for sel_lam, auc in items.items():\n",
    "        aucs_2.append({'sel_lam': float(sel_lam), 'cont_lam': float(cont_lam), 'auc': auc})\n",
    "        \n",
    "rationales_2 = []\n",
    "for cont_lam, items in list(rationales.items()):\n",
    "    for sel_lam, r in items.items():\n",
    "        rationales_2.append({'sel_lam': float(sel_lam), 'cont_lam': float(cont_lam), 'r': r})"
   ]
  },
  {
   "cell_type": "code",
   "execution_count": 9,
   "metadata": {},
   "outputs": [],
   "source": [
    "auc_df = pd.DataFrame(aucs)\n",
    "auc_df.columns = list(map(float, auc_df.columns ))\n",
    "auc_df.index = list(map(float, auc_df.index ))\n",
    "auc_df.index.name = 'sel_lam'\n",
    "auc_df.columns.name = 'cont_lam'"
   ]
  },
  {
   "cell_type": "code",
   "execution_count": 10,
   "metadata": {},
   "outputs": [
    {
     "data": {
      "text/html": [
       "<div>\n",
       "<style scoped>\n",
       "    .dataframe tbody tr th:only-of-type {\n",
       "        vertical-align: middle;\n",
       "    }\n",
       "\n",
       "    .dataframe tbody tr th {\n",
       "        vertical-align: top;\n",
       "    }\n",
       "\n",
       "    .dataframe thead th {\n",
       "        text-align: right;\n",
       "    }\n",
       "</style>\n",
       "<table border=\"1\" class=\"dataframe\">\n",
       "  <thead>\n",
       "    <tr style=\"text-align: right;\">\n",
       "      <th>cont_lam</th>\n",
       "      <th>0.0001</th>\n",
       "      <th>0.001</th>\n",
       "      <th>0.005</th>\n",
       "      <th>0.01</th>\n",
       "      <th>0.025</th>\n",
       "      <th>0.05</th>\n",
       "      <th>0.075</th>\n",
       "      <th>0.1</th>\n",
       "      <th>0.25</th>\n",
       "      <th>0.5</th>\n",
       "      <th>0.0</th>\n",
       "    </tr>\n",
       "    <tr>\n",
       "      <th>sel_lam</th>\n",
       "      <th></th>\n",
       "      <th></th>\n",
       "      <th></th>\n",
       "      <th></th>\n",
       "      <th></th>\n",
       "      <th></th>\n",
       "      <th></th>\n",
       "      <th></th>\n",
       "      <th></th>\n",
       "      <th></th>\n",
       "      <th></th>\n",
       "    </tr>\n",
       "  </thead>\n",
       "  <tbody>\n",
       "    <tr>\n",
       "      <th>0.0000</th>\n",
       "      <td>NaN</td>\n",
       "      <td>NaN</td>\n",
       "      <td>NaN</td>\n",
       "      <td>0.909849</td>\n",
       "      <td>0.909912</td>\n",
       "      <td>0.909993</td>\n",
       "      <td>0.90969</td>\n",
       "      <td>0.909933</td>\n",
       "      <td>0.909835</td>\n",
       "      <td>0.909715</td>\n",
       "      <td>NaN</td>\n",
       "    </tr>\n",
       "    <tr>\n",
       "      <th>0.0001</th>\n",
       "      <td>NaN</td>\n",
       "      <td>NaN</td>\n",
       "      <td>NaN</td>\n",
       "      <td>0.910068</td>\n",
       "      <td>0.909964</td>\n",
       "      <td>0.909825</td>\n",
       "      <td>NaN</td>\n",
       "      <td>NaN</td>\n",
       "      <td>NaN</td>\n",
       "      <td>NaN</td>\n",
       "      <td>NaN</td>\n",
       "    </tr>\n",
       "    <tr>\n",
       "      <th>0.0010</th>\n",
       "      <td>0.777268</td>\n",
       "      <td>0.736051</td>\n",
       "      <td>NaN</td>\n",
       "      <td>NaN</td>\n",
       "      <td>NaN</td>\n",
       "      <td>NaN</td>\n",
       "      <td>NaN</td>\n",
       "      <td>NaN</td>\n",
       "      <td>NaN</td>\n",
       "      <td>NaN</td>\n",
       "      <td>NaN</td>\n",
       "    </tr>\n",
       "    <tr>\n",
       "      <th>0.0025</th>\n",
       "      <td>0.764605</td>\n",
       "      <td>0.730166</td>\n",
       "      <td>NaN</td>\n",
       "      <td>NaN</td>\n",
       "      <td>NaN</td>\n",
       "      <td>NaN</td>\n",
       "      <td>NaN</td>\n",
       "      <td>NaN</td>\n",
       "      <td>NaN</td>\n",
       "      <td>NaN</td>\n",
       "      <td>0.734407</td>\n",
       "    </tr>\n",
       "    <tr>\n",
       "      <th>0.0050</th>\n",
       "      <td>NaN</td>\n",
       "      <td>0.675633</td>\n",
       "      <td>0.705536</td>\n",
       "      <td>0.703870</td>\n",
       "      <td>0.703984</td>\n",
       "      <td>NaN</td>\n",
       "      <td>NaN</td>\n",
       "      <td>0.703123</td>\n",
       "      <td>NaN</td>\n",
       "      <td>NaN</td>\n",
       "      <td>0.731809</td>\n",
       "    </tr>\n",
       "    <tr>\n",
       "      <th>0.0075</th>\n",
       "      <td>0.742999</td>\n",
       "      <td>0.741580</td>\n",
       "      <td>NaN</td>\n",
       "      <td>NaN</td>\n",
       "      <td>NaN</td>\n",
       "      <td>NaN</td>\n",
       "      <td>NaN</td>\n",
       "      <td>NaN</td>\n",
       "      <td>NaN</td>\n",
       "      <td>NaN</td>\n",
       "      <td>0.733058</td>\n",
       "    </tr>\n",
       "    <tr>\n",
       "      <th>0.0100</th>\n",
       "      <td>0.732879</td>\n",
       "      <td>NaN</td>\n",
       "      <td>0.701972</td>\n",
       "      <td>0.705767</td>\n",
       "      <td>0.705886</td>\n",
       "      <td>NaN</td>\n",
       "      <td>NaN</td>\n",
       "      <td>0.705315</td>\n",
       "      <td>NaN</td>\n",
       "      <td>NaN</td>\n",
       "      <td>0.733680</td>\n",
       "    </tr>\n",
       "    <tr>\n",
       "      <th>0.0250</th>\n",
       "      <td>0.735376</td>\n",
       "      <td>NaN</td>\n",
       "      <td>NaN</td>\n",
       "      <td>NaN</td>\n",
       "      <td>NaN</td>\n",
       "      <td>NaN</td>\n",
       "      <td>NaN</td>\n",
       "      <td>NaN</td>\n",
       "      <td>NaN</td>\n",
       "      <td>NaN</td>\n",
       "      <td>0.729445</td>\n",
       "    </tr>\n",
       "    <tr>\n",
       "      <th>0.0750</th>\n",
       "      <td>0.734903</td>\n",
       "      <td>NaN</td>\n",
       "      <td>NaN</td>\n",
       "      <td>NaN</td>\n",
       "      <td>NaN</td>\n",
       "      <td>NaN</td>\n",
       "      <td>NaN</td>\n",
       "      <td>NaN</td>\n",
       "      <td>NaN</td>\n",
       "      <td>NaN</td>\n",
       "      <td>0.729633</td>\n",
       "    </tr>\n",
       "    <tr>\n",
       "      <th>0.1000</th>\n",
       "      <td>0.733222</td>\n",
       "      <td>NaN</td>\n",
       "      <td>NaN</td>\n",
       "      <td>NaN</td>\n",
       "      <td>NaN</td>\n",
       "      <td>NaN</td>\n",
       "      <td>NaN</td>\n",
       "      <td>NaN</td>\n",
       "      <td>NaN</td>\n",
       "      <td>NaN</td>\n",
       "      <td>0.732043</td>\n",
       "    </tr>\n",
       "  </tbody>\n",
       "</table>\n",
       "</div>"
      ],
      "text/plain": [
       "cont_lam    0.0001    0.0010    0.0050    0.0100    0.0250    0.0500   0.0750  \\\n",
       "sel_lam                                                                         \n",
       "0.0000         NaN       NaN       NaN  0.909849  0.909912  0.909993  0.90969   \n",
       "0.0001         NaN       NaN       NaN  0.910068  0.909964  0.909825      NaN   \n",
       "0.0010    0.777268  0.736051       NaN       NaN       NaN       NaN      NaN   \n",
       "0.0025    0.764605  0.730166       NaN       NaN       NaN       NaN      NaN   \n",
       "0.0050         NaN  0.675633  0.705536  0.703870  0.703984       NaN      NaN   \n",
       "0.0075    0.742999  0.741580       NaN       NaN       NaN       NaN      NaN   \n",
       "0.0100    0.732879       NaN  0.701972  0.705767  0.705886       NaN      NaN   \n",
       "0.0250    0.735376       NaN       NaN       NaN       NaN       NaN      NaN   \n",
       "0.0750    0.734903       NaN       NaN       NaN       NaN       NaN      NaN   \n",
       "0.1000    0.733222       NaN       NaN       NaN       NaN       NaN      NaN   \n",
       "\n",
       "cont_lam    0.1000    0.2500    0.5000    0.0000  \n",
       "sel_lam                                           \n",
       "0.0000    0.909933  0.909835  0.909715       NaN  \n",
       "0.0001         NaN       NaN       NaN       NaN  \n",
       "0.0010         NaN       NaN       NaN       NaN  \n",
       "0.0025         NaN       NaN       NaN  0.734407  \n",
       "0.0050    0.703123       NaN       NaN  0.731809  \n",
       "0.0075         NaN       NaN       NaN  0.733058  \n",
       "0.0100    0.705315       NaN       NaN  0.733680  \n",
       "0.0250         NaN       NaN       NaN  0.729445  \n",
       "0.0750         NaN       NaN       NaN  0.729633  \n",
       "0.1000         NaN       NaN       NaN  0.732043  "
      ]
     },
     "execution_count": 10,
     "metadata": {},
     "output_type": "execute_result"
    }
   ],
   "source": [
    "auc_df.sort_index()"
   ]
  },
  {
   "cell_type": "code",
   "execution_count": 189,
   "metadata": {},
   "outputs": [],
   "source": [
    "from sklearn.metrics import f1_score, precision_score, recall_score"
   ]
  },
  {
   "cell_type": "code",
   "execution_count": 210,
   "metadata": {},
   "outputs": [],
   "source": [
    "y_trues_df = pd.DataFrame(y_trues)\n",
    "y_true = pd.Series((y_trues_df\n",
    "     .loc[lambda df: df['cont_lam'] == .01]\n",
    "     .loc[lambda df: df['sel_lam'] == .0001]\n",
    ")['y_true'].iloc[0])"
   ]
  },
  {
   "cell_type": "code",
   "execution_count": 206,
   "metadata": {},
   "outputs": [
    {
     "data": {
      "text/plain": [
       "<matplotlib.axes._subplots.AxesSubplot at 0x2ab0ed9d4e0>"
      ]
     },
     "execution_count": 206,
     "metadata": {},
     "output_type": "execute_result"
    },
    {
     "data": {
      "image/png": "[encoded data removed]",
      "text/plain": [
       "<Figure size 432x288 with 1 Axes>"
      ]
     },
     "metadata": {
      "needs_background": "light"
     },
     "output_type": "display_data"
    }
   ],
   "source": [
    "y_preds_df = pd.DataFrame(y_preds)\n",
    "y_preds = pd.Series((y_preds_df\n",
    "            .loc[lambda df: df['cont_lam'] == .01]\n",
    "            .loc[lambda df: df['sel_lam'] == .0001]\n",
    "        )['y_preds'].iloc[0])\n",
    "y_preds.hist(bins=50)"
   ]
  },
  {
   "cell_type": "code",
   "execution_count": 214,
   "metadata": {},
   "outputs": [
    {
     "data": {
      "text/plain": [
       "0    0.955804\n",
       "1    0.044196\n",
       "dtype: float64"
      ]
     },
     "execution_count": 214,
     "metadata": {},
     "output_type": "execute_result"
    }
   ],
   "source": [
    "y_true.value_counts().pipe(lambda s: s/s.sum())"
   ]
  },
  {
   "cell_type": "code",
   "execution_count": 221,
   "metadata": {},
   "outputs": [],
   "source": [
    "import numpy as np"
   ]
  },
  {
   "cell_type": "code",
   "execution_count": 227,
   "metadata": {},
   "outputs": [
    {
     "data": {
      "application/vnd.jupyter.widget-view+json": {
       "model_id": "b0b56861715c4cdcaca745f18274975f",
       "version_major": 2,
       "version_minor": 0
      },
      "text/plain": [
       "HBox(children=(IntProgress(value=0), HTML(value='')))"
      ]
     },
     "metadata": {},
     "output_type": "display_data"
    },
    {
     "name": "stdout",
     "output_type": "stream",
     "text": [
      "\n"
     ]
    }
   ],
   "source": [
    "f1_score_thresholds = {}\n",
    "prec_score_thresholds = {}\n",
    "rec_score_thresholds = {}\n",
    "for i in tqdm(np.arange(0, 1, .01)):\n",
    "    preds = y_preds.pipe(lambda s:s > i ).astype(int)\n",
    "    f1_score_thresholds[i] = f1_score(y_true, preds)\n",
    "    prec_score_thresholds[i] = precision_score(y_true, preds)\n",
    "    rec_score_thresholds[i] = recall_score(y_true, preds)"
   ]
  },
  {
   "cell_type": "code",
   "execution_count": 228,
   "metadata": {},
   "outputs": [
    {
     "data": {
      "text/plain": [
       "<matplotlib.legend.Legend at 0x2ab07ba4978>"
      ]
     },
     "execution_count": 228,
     "metadata": {},
     "output_type": "execute_result"
    },
    {
     "data": {
      "image/png": "[encoded data removed]",
      "text/plain": [
       "<Figure size 432x288 with 1 Axes>"
      ]
     },
     "metadata": {
      "needs_background": "light"
     },
     "output_type": "display_data"
    }
   ],
   "source": [
    "ax = pd.Series(f1_score_thresholds).plot()\n",
    "pd.Series(prec_score_thresholds).plot(ax=ax, label='precision')\n",
    "pd.Series(rec_score_thresholds).plot(ax=ax, label='recall')\n",
    "plt.legend()"
   ]
  },
  {
   "cell_type": "markdown",
   "metadata": {},
   "source": [
    "# Rationale Net Words"
   ]
  },
  {
   "cell_type": "code",
   "execution_count": 46,
   "metadata": {},
   "outputs": [],
   "source": [
    "def get_rationale_words(rationale):\n",
    "    rational_words = rationale.split('_')\n",
    "    rational_words = list(map(lambda x: x.strip(), rational_words))\n",
    "    in_rationale = False\n",
    "    ## \n",
    "    all_rationals = []\n",
    "    rational_output = []\n",
    "    for word in rational_words:\n",
    "        if in_rationale:\n",
    "            if word != '':\n",
    "                rational_output.append(word)\n",
    "            else:\n",
    "                all_rationals.append(' '.join(rational_output))\n",
    "                rational_output = []\n",
    "                in_rationale = False\n",
    "        else:\n",
    "            if word != '':\n",
    "                rational_output.append(word)\n",
    "                in_rationale = True\n",
    "    return all_rationals"
   ]
  },
  {
   "cell_type": "code",
   "execution_count": 168,
   "metadata": {},
   "outputs": [],
   "source": [
    "rationales = (pd.DataFrame(rationales_2)\n",
    " .loc[lambda df: df['sel_lam'] == .0001]\n",
    " .loc[lambda df: df['cont_lam'] == .05]\n",
    " .iloc[0]['r']\n",
    ")"
   ]
  },
  {
   "cell_type": "code",
   "execution_count": 169,
   "metadata": {},
   "outputs": [],
   "source": [
    "rationale_words = pd.Series(rationales).apply(get_rationale_words)"
   ]
  },
  {
   "cell_type": "code",
   "execution_count": 186,
   "metadata": {},
   "outputs": [
    {
     "data": {
      "text/html": [
       "<div>\n",
       "<style scoped>\n",
       "    .dataframe tbody tr th:only-of-type {\n",
       "        vertical-align: middle;\n",
       "    }\n",
       "\n",
       "    .dataframe tbody tr th {\n",
       "        vertical-align: top;\n",
       "    }\n",
       "\n",
       "    .dataframe thead th {\n",
       "        text-align: right;\n",
       "    }\n",
       "</style>\n",
       "<table border=\"1\" class=\"dataframe\">\n",
       "  <thead>\n",
       "    <tr style=\"text-align: right;\">\n",
       "      <th></th>\n",
       "      <th>count</th>\n",
       "    </tr>\n",
       "  </thead>\n",
       "  <tbody>\n",
       "    <tr>\n",
       "      <th>0</th>\n",
       "      <td>223162</td>\n",
       "    </tr>\n",
       "    <tr>\n",
       "      <th>1</th>\n",
       "      <td>24428</td>\n",
       "    </tr>\n",
       "    <tr>\n",
       "      <th>2</th>\n",
       "      <td>6596</td>\n",
       "    </tr>\n",
       "    <tr>\n",
       "      <th>3</th>\n",
       "      <td>1875</td>\n",
       "    </tr>\n",
       "    <tr>\n",
       "      <th>4</th>\n",
       "      <td>727</td>\n",
       "    </tr>\n",
       "    <tr>\n",
       "      <th>5</th>\n",
       "      <td>264</td>\n",
       "    </tr>\n",
       "    <tr>\n",
       "      <th>6</th>\n",
       "      <td>163</td>\n",
       "    </tr>\n",
       "    <tr>\n",
       "      <th>7</th>\n",
       "      <td>92</td>\n",
       "    </tr>\n",
       "    <tr>\n",
       "      <th>8</th>\n",
       "      <td>68</td>\n",
       "    </tr>\n",
       "    <tr>\n",
       "      <th>9</th>\n",
       "      <td>31</td>\n",
       "    </tr>\n",
       "    <tr>\n",
       "      <th>10</th>\n",
       "      <td>18</td>\n",
       "    </tr>\n",
       "    <tr>\n",
       "      <th>11</th>\n",
       "      <td>12</td>\n",
       "    </tr>\n",
       "    <tr>\n",
       "      <th>12</th>\n",
       "      <td>9</td>\n",
       "    </tr>\n",
       "    <tr>\n",
       "      <th>13</th>\n",
       "      <td>6</td>\n",
       "    </tr>\n",
       "    <tr>\n",
       "      <th>15</th>\n",
       "      <td>6</td>\n",
       "    </tr>\n",
       "    <tr>\n",
       "      <th>14</th>\n",
       "      <td>5</td>\n",
       "    </tr>\n",
       "    <tr>\n",
       "      <th>16</th>\n",
       "      <td>2</td>\n",
       "    </tr>\n",
       "    <tr>\n",
       "      <th>17</th>\n",
       "      <td>2</td>\n",
       "    </tr>\n",
       "    <tr>\n",
       "      <th>18</th>\n",
       "      <td>1</td>\n",
       "    </tr>\n",
       "    <tr>\n",
       "      <th>21</th>\n",
       "      <td>1</td>\n",
       "    </tr>\n",
       "  </tbody>\n",
       "</table>\n",
       "</div>"
      ],
      "text/plain": [
       "     count\n",
       "0   223162\n",
       "1    24428\n",
       "2     6596\n",
       "3     1875\n",
       "4      727\n",
       "5      264\n",
       "6      163\n",
       "7       92\n",
       "8       68\n",
       "9       31\n",
       "10      18\n",
       "11      12\n",
       "12       9\n",
       "13       6\n",
       "15       6\n",
       "14       5\n",
       "16       2\n",
       "17       2\n",
       "18       1\n",
       "21       1"
      ]
     },
     "execution_count": 186,
     "metadata": {},
     "output_type": "execute_result"
    }
   ],
   "source": [
    "rationale_words.str.len().value_counts().to_frame('count')"
   ]
  },
  {
   "cell_type": "code",
   "execution_count": 173,
   "metadata": {},
   "outputs": [],
   "source": [
    "rational_df = pd.concat([\n",
    "    rationale_words.to_frame('word_list'),\n",
    "#     pd.Series(y_true).to_frame('y_true'),\n",
    "#     pd.Series(results['test_stats']['preds']).to_frame('y_pred')\n",
    "], axis=1)"
   ]
  },
  {
   "cell_type": "markdown",
   "metadata": {},
   "source": [
    "Overall most popular rationales"
   ]
  },
  {
   "cell_type": "code",
   "execution_count": 179,
   "metadata": {},
   "outputs": [],
   "source": [
    "from collections import Counter\n",
    "def get_wc(list_of_lists):\n",
    "    c = Counter()\n",
    "    for l in list_of_lists:\n",
    "        c.update(l)\n",
    "    return pd.Series(c).sort_values(ascending=False)"
   ]
  },
  {
   "cell_type": "code",
   "execution_count": 181,
   "metadata": {},
   "outputs": [
    {
     "data": {
      "text/plain": [
       "editor       41\n",
       "directed     14\n",
       "michael      11\n",
       "dr           11\n",
       "eric          9\n",
       "mike          9\n",
       "threats       9\n",
       "selective     9\n",
       "de            9\n",
       "s             8\n",
       "dtype: int64"
      ]
     },
     "execution_count": 181,
     "metadata": {},
     "output_type": "execute_result"
    }
   ],
   "source": [
    "rational_df['word_list'].pipe(get_wc).head(10)"
   ]
  },
  {
   "cell_type": "markdown",
   "metadata": {},
   "source": [
    "Popular two-word rationales"
   ]
  },
  {
   "cell_type": "code",
   "execution_count": 188,
   "metadata": {},
   "outputs": [
    {
     "data": {
      "text/plain": [
       "index\n",
       "212 769                2\n",
       "ruth yoy               2\n",
       "pcl inf                2\n",
       "editor reading         2\n",
       "thee onne              2\n",
       "congregation rodeph    2\n",
       "goldman rose           1\n",
       "ryan ludwick           1\n",
       "versace fulvio         1\n",
       "supervisor 1977        1\n",
       "Name: 0, dtype: int64"
      ]
     },
     "execution_count": 188,
     "metadata": {},
     "output_type": "execute_result"
    }
   ],
   "source": [
    "(rational_df['word_list']\n",
    " .pipe(get_wc)\n",
    " .to_frame()\n",
    " .reset_index()\n",
    " .loc[lambda df: df['index'].str.split().str.len() == 2]\n",
    " .set_index('index')[0]\n",
    " .head(10)\n",
    ")"
   ]
  },
  {
   "cell_type": "markdown",
   "metadata": {},
   "source": [
    "Popular rationals for y_pred = 1 (article = front page)"
   ]
  },
  {
   "cell_type": "code",
   "execution_count": 60,
   "metadata": {},
   "outputs": [
    {
     "data": {
      "text/plain": [
       "bush         3071\n",
       "officials    2289\n",
       "             2288\n",
       "nation       1395\n",
       "pataki       1335\n",
       "workers      1300\n",
       "bloomberg    1117\n",
       "thousands     901\n",
       "old           812\n",
       "experts       786\n",
       "Name: word_list, dtype: int64"
      ]
     },
     "execution_count": 60,
     "metadata": {},
     "output_type": "execute_result"
    }
   ],
   "source": [
    "rational_df.loc[lambda df: df['y_pred'] == 1]['word_list'].value_counts().head(10)"
   ]
  },
  {
   "cell_type": "markdown",
   "metadata": {},
   "source": [
    "Popular rationales for y_pred = 0 (article != front page)"
   ]
  },
  {
   "cell_type": "code",
   "execution_count": 59,
   "metadata": {},
   "outputs": [
    {
     "data": {
      "text/plain": [
       ":            11696\n",
       "-             9834\n",
       "(             7825\n",
       "--            2511\n",
       "monday        2272\n",
       "tuesday       2226\n",
       "wednesday     1859\n",
       "thursday      1641\n",
       ")             1483\n",
       "sunday        1326\n",
       "Name: word_list, dtype: int64"
      ]
     },
     "execution_count": 59,
     "metadata": {},
     "output_type": "execute_result"
    }
   ],
   "source": [
    "rational_df.loc[lambda df: df['y_pred'] == 0]['word_list'].value_counts().head(10)"
   ]
  },
  {
   "cell_type": "code",
   "execution_count": null,
   "metadata": {},
   "outputs": [],
   "source": []
  },
  {
   "cell_type": "code",
   "execution_count": null,
   "metadata": {},
   "outputs": [],
   "source": []
  },
  {
   "cell_type": "markdown",
   "metadata": {},
   "source": [
    "# Word Counts"
   ]
  },
  {
   "cell_type": "code",
   "execution_count": 13,
   "metadata": {},
   "outputs": [
    {
     "data": {
      "application/vnd.jupyter.widget-view+json": {
       "model_id": "e58cc91fdcde4418b01fdf7be2048f14",
       "version_major": 2,
       "version_minor": 0
      },
      "text/plain": [
       "HBox(children=(IntProgress(value=0, max=5), HTML(value='')))"
      ]
     },
     "metadata": {},
     "output_type": "display_data"
    },
    {
     "name": "stdout",
     "output_type": "stream",
     "text": [
      "\n"
     ]
    }
   ],
   "source": [
    "aucs = {}\n",
    "\n",
    "for f in tqdm(rationale_net_log_files):\n",
    "    cutoff = re.findall('cutoff_(\\d+)', f)[0]\n",
    "    ## parse results\n",
    "    results = pickle.load(open(f, 'rb'))\n",
    "    test_stats = pd.Series(results['test_stats'])\n",
    "    y_proba = list(map(lambda x: x[1] if x[0] == 1 else 1-x[1], zip(test_stats['preds'], test_stats['probas'])))\n",
    "    y_true = results['test_stats']['golds']\n",
    "    ## calculate AUC\n",
    "    aucs[cutoff] = roc_auc_score(y_true, y_proba)"
   ]
  },
  {
   "cell_type": "code",
   "execution_count": 19,
   "metadata": {},
   "outputs": [],
   "source": [
    "plt.rc(\"font\", size=18)"
   ]
  },
  {
   "cell_type": "code",
   "execution_count": 21,
   "metadata": {},
   "outputs": [
    {
     "data": {
      "text/plain": [
       "Text(0, 0.5, 'AUC')"
      ]
     },
     "execution_count": 21,
     "metadata": {},
     "output_type": "execute_result"
    },
    {
     "data": {
      "image/png": "[encoded data removed]",
      "text/plain": [
       "<Figure size 432x288 with 1 Axes>"
      ]
     },
     "metadata": {
      "needs_background": "light"
     },
     "output_type": "display_data"
    }
   ],
   "source": [
    "pd.Series(aucs).plot()\n",
    "plt.xlabel(\"Word Count\")\n",
    "plt.ylabel(\"AUC\")"
   ]
  },
  {
   "cell_type": "code",
   "execution_count": null,
   "metadata": {},
   "outputs": [],
   "source": []
  },
  {
   "cell_type": "code",
   "execution_count": null,
   "metadata": {},
   "outputs": [],
   "source": []
  },
  {
   "cell_type": "markdown",
   "metadata": {},
   "source": [
    "# SLURM Output"
   ]
  },
  {
   "cell_type": "code",
   "execution_count": 54,
   "metadata": {},
   "outputs": [],
   "source": [
    "import os\n",
    "import glob"
   ]
  },
  {
   "cell_type": "code",
   "execution_count": 59,
   "metadata": {},
   "outputs": [],
   "source": [
    "slurm_files = (\n",
    "    pd.Series(glob.glob('../rationalnet_exploration/slurm_output/*'))\n",
    "    .to_frame('files')\n",
    "    .assign(size=lambda df: df['files'].apply(os.path.getsize))\n",
    ")"
   ]
  },
  {
   "cell_type": "code",
   "execution_count": 126,
   "metadata": {},
   "outputs": [],
   "source": [
    "files_to_parse = slurm_files.loc[lambda df: df['size'] > 1_000_000]['files']"
   ]
  },
  {
   "cell_type": "code",
   "execution_count": 128,
   "metadata": {},
   "outputs": [],
   "source": [
    "def parse_lines(file_lines):\n",
    "    ## strings\n",
    "    res_path_str = 'RESULTS_PATH'\n",
    "    acc_str = 'accuracy'\n",
    "    prec_str = 'precision'\n",
    "    epoch_str = 'Epoch'\n",
    "    \n",
    "    ## \n",
    "    \n",
    "    output_file = ''\n",
    "    epoch = False\n",
    "    epoch_output = {}\n",
    "    all_output = []\n",
    "    saw_training_acc=False\n",
    "    saw_training_prec = False\n",
    "    \n",
    "    kept_lines = list(\n",
    "        filter(lambda line: \n",
    "               any(map(lambda word: word in line, \n",
    "                       [res_path_str, acc_str, prec_str, epoch_str])),\n",
    "               file_lines))\n",
    "    \n",
    "    for line in kept_lines:\n",
    "        if res_path_str in line:\n",
    "            output_filename = line.strip().replace(res_path_str + '=', '')\n",
    "        \n",
    "        if epoch_str in line:\n",
    "            epoch_output['epoch'] = line\n",
    "    \n",
    "        if acc_str in line:\n",
    "            if saw_training_acc:\n",
    "                epoch_output['dev_acc'] = line\n",
    "            else:\n",
    "                epoch_output['train_acc'] = line\n",
    "                saw_training_acc = True\n",
    "        \n",
    "        if prec_str in line:\n",
    "            if saw_training_prec:\n",
    "                epoch_output['dev_prec'] = line\n",
    "                all_output.append(epoch_output)\n",
    "                epoch_output = {}\n",
    "                saw_training_acc = saw_training_prec = False\n",
    "            else:\n",
    "                epoch_output['train_prec'] = line\n",
    "                saw_training_prec = True\n",
    "    \n",
    "    return output_filename, all_output"
   ]
  },
  {
   "cell_type": "code",
   "execution_count": 134,
   "metadata": {},
   "outputs": [
    {
     "data": {
      "application/vnd.jupyter.widget-view+json": {
       "model_id": "8be298a76872429b8de45ee81525f51d",
       "version_major": 2,
       "version_minor": 0
      },
      "text/plain": [
       "HBox(children=(IntProgress(value=0, max=41), HTML(value='')))"
      ]
     },
     "metadata": {},
     "output_type": "display_data"
    },
    {
     "name": "stdout",
     "output_type": "stream",
     "text": [
      "\n"
     ]
    }
   ],
   "source": [
    "all_files = []\n",
    "for f in tqdm(files_to_parse):\n",
    "    file_lines = open(f, mode='r', encoding='utf-8').read().split('\\n')\n",
    "    output_fn, parsed_lines = parse_lines(file_lines)\n",
    "    parsed_lines_df = pd.DataFrame(parsed_lines)\n",
    "    continuity_lambda, selection_lambda = re.findall('cont-lambda_(\\.*\\d+)__sel-lam_(\\.*\\d+)', output_fn)[0]\n",
    "    \n",
    "    all_files.append( {\n",
    "        'cont_lam':float(continuity_lambda),\n",
    "        'sel_lam': float(selection_lambda),\n",
    "        'parsed_df': parsed_lines_df\n",
    "    })"
   ]
  },
  {
   "cell_type": "code",
   "execution_count": 144,
   "metadata": {},
   "outputs": [],
   "source": [
    "all_files_df = pd.DataFrame(all_files).set_index(['sel_lam', 'cont_lam'])['parsed_df']\n",
    "# .loc[.0025].loc[.0001]"
   ]
  },
  {
   "cell_type": "code",
   "execution_count": 146,
   "metadata": {},
   "outputs": [
    {
     "data": {
      "text/html": [
       "<div>\n",
       "<style scoped>\n",
       "    .dataframe tbody tr th:only-of-type {\n",
       "        vertical-align: middle;\n",
       "    }\n",
       "\n",
       "    .dataframe tbody tr th {\n",
       "        vertical-align: top;\n",
       "    }\n",
       "\n",
       "    .dataframe thead th {\n",
       "        text-align: right;\n",
       "    }\n",
       "</style>\n",
       "<table border=\"1\" class=\"dataframe\">\n",
       "  <thead>\n",
       "    <tr style=\"text-align: right;\">\n",
       "      <th>cont_lam</th>\n",
       "      <th>0.0001</th>\n",
       "      <th>0.001</th>\n",
       "      <th>0.005</th>\n",
       "      <th>0.01</th>\n",
       "      <th>0.025</th>\n",
       "      <th>0.05</th>\n",
       "      <th>0.075</th>\n",
       "      <th>0.1</th>\n",
       "      <th>0.25</th>\n",
       "      <th>0.5</th>\n",
       "      <th>0.0</th>\n",
       "    </tr>\n",
       "    <tr>\n",
       "      <th>sel_lam</th>\n",
       "      <th></th>\n",
       "      <th></th>\n",
       "      <th></th>\n",
       "      <th></th>\n",
       "      <th></th>\n",
       "      <th></th>\n",
       "      <th></th>\n",
       "      <th></th>\n",
       "      <th></th>\n",
       "      <th></th>\n",
       "      <th></th>\n",
       "    </tr>\n",
       "  </thead>\n",
       "  <tbody>\n",
       "    <tr>\n",
       "      <th>0.0001</th>\n",
       "      <td>NaN</td>\n",
       "      <td>NaN</td>\n",
       "      <td>NaN</td>\n",
       "      <td>0.910068</td>\n",
       "      <td>0.909964</td>\n",
       "      <td>0.909825</td>\n",
       "      <td>NaN</td>\n",
       "      <td>NaN</td>\n",
       "      <td>NaN</td>\n",
       "      <td>NaN</td>\n",
       "      <td>NaN</td>\n",
       "    </tr>\n",
       "    <tr>\n",
       "      <th>0.0010</th>\n",
       "      <td>0.777268</td>\n",
       "      <td>0.736051</td>\n",
       "      <td>NaN</td>\n",
       "      <td>NaN</td>\n",
       "      <td>NaN</td>\n",
       "      <td>NaN</td>\n",
       "      <td>NaN</td>\n",
       "      <td>NaN</td>\n",
       "      <td>NaN</td>\n",
       "      <td>NaN</td>\n",
       "      <td>NaN</td>\n",
       "    </tr>\n",
       "    <tr>\n",
       "      <th>0.0025</th>\n",
       "      <td>0.764605</td>\n",
       "      <td>0.730166</td>\n",
       "      <td>NaN</td>\n",
       "      <td>NaN</td>\n",
       "      <td>NaN</td>\n",
       "      <td>NaN</td>\n",
       "      <td>NaN</td>\n",
       "      <td>NaN</td>\n",
       "      <td>NaN</td>\n",
       "      <td>NaN</td>\n",
       "      <td>0.734407</td>\n",
       "    </tr>\n",
       "    <tr>\n",
       "      <th>0.0050</th>\n",
       "      <td>NaN</td>\n",
       "      <td>0.675633</td>\n",
       "      <td>0.705536</td>\n",
       "      <td>0.703870</td>\n",
       "      <td>0.703984</td>\n",
       "      <td>NaN</td>\n",
       "      <td>NaN</td>\n",
       "      <td>0.703123</td>\n",
       "      <td>NaN</td>\n",
       "      <td>NaN</td>\n",
       "      <td>0.731809</td>\n",
       "    </tr>\n",
       "    <tr>\n",
       "      <th>0.0075</th>\n",
       "      <td>0.742999</td>\n",
       "      <td>0.741580</td>\n",
       "      <td>NaN</td>\n",
       "      <td>NaN</td>\n",
       "      <td>NaN</td>\n",
       "      <td>NaN</td>\n",
       "      <td>NaN</td>\n",
       "      <td>NaN</td>\n",
       "      <td>NaN</td>\n",
       "      <td>NaN</td>\n",
       "      <td>0.733058</td>\n",
       "    </tr>\n",
       "    <tr>\n",
       "      <th>0.0100</th>\n",
       "      <td>0.732879</td>\n",
       "      <td>NaN</td>\n",
       "      <td>0.701972</td>\n",
       "      <td>0.705767</td>\n",
       "      <td>0.705886</td>\n",
       "      <td>NaN</td>\n",
       "      <td>NaN</td>\n",
       "      <td>0.705315</td>\n",
       "      <td>NaN</td>\n",
       "      <td>NaN</td>\n",
       "      <td>0.733680</td>\n",
       "    </tr>\n",
       "    <tr>\n",
       "      <th>0.0250</th>\n",
       "      <td>0.735376</td>\n",
       "      <td>NaN</td>\n",
       "      <td>NaN</td>\n",
       "      <td>NaN</td>\n",
       "      <td>NaN</td>\n",
       "      <td>NaN</td>\n",
       "      <td>NaN</td>\n",
       "      <td>NaN</td>\n",
       "      <td>NaN</td>\n",
       "      <td>NaN</td>\n",
       "      <td>0.729445</td>\n",
       "    </tr>\n",
       "    <tr>\n",
       "      <th>0.0750</th>\n",
       "      <td>0.734903</td>\n",
       "      <td>NaN</td>\n",
       "      <td>NaN</td>\n",
       "      <td>NaN</td>\n",
       "      <td>NaN</td>\n",
       "      <td>NaN</td>\n",
       "      <td>NaN</td>\n",
       "      <td>NaN</td>\n",
       "      <td>NaN</td>\n",
       "      <td>NaN</td>\n",
       "      <td>0.729633</td>\n",
       "    </tr>\n",
       "    <tr>\n",
       "      <th>0.1000</th>\n",
       "      <td>0.733222</td>\n",
       "      <td>NaN</td>\n",
       "      <td>NaN</td>\n",
       "      <td>NaN</td>\n",
       "      <td>NaN</td>\n",
       "      <td>NaN</td>\n",
       "      <td>NaN</td>\n",
       "      <td>NaN</td>\n",
       "      <td>NaN</td>\n",
       "      <td>NaN</td>\n",
       "      <td>0.732043</td>\n",
       "    </tr>\n",
       "    <tr>\n",
       "      <th>0.0000</th>\n",
       "      <td>NaN</td>\n",
       "      <td>NaN</td>\n",
       "      <td>NaN</td>\n",
       "      <td>0.909849</td>\n",
       "      <td>0.909912</td>\n",
       "      <td>0.909993</td>\n",
       "      <td>0.90969</td>\n",
       "      <td>0.909933</td>\n",
       "      <td>0.909835</td>\n",
       "      <td>0.909715</td>\n",
       "      <td>NaN</td>\n",
       "    </tr>\n",
       "  </tbody>\n",
       "</table>\n",
       "</div>"
      ],
      "text/plain": [
       "cont_lam    0.0001    0.0010    0.0050    0.0100    0.0250    0.0500   0.0750  \\\n",
       "sel_lam                                                                         \n",
       "0.0001         NaN       NaN       NaN  0.910068  0.909964  0.909825      NaN   \n",
       "0.0010    0.777268  0.736051       NaN       NaN       NaN       NaN      NaN   \n",
       "0.0025    0.764605  0.730166       NaN       NaN       NaN       NaN      NaN   \n",
       "0.0050         NaN  0.675633  0.705536  0.703870  0.703984       NaN      NaN   \n",
       "0.0075    0.742999  0.741580       NaN       NaN       NaN       NaN      NaN   \n",
       "0.0100    0.732879       NaN  0.701972  0.705767  0.705886       NaN      NaN   \n",
       "0.0250    0.735376       NaN       NaN       NaN       NaN       NaN      NaN   \n",
       "0.0750    0.734903       NaN       NaN       NaN       NaN       NaN      NaN   \n",
       "0.1000    0.733222       NaN       NaN       NaN       NaN       NaN      NaN   \n",
       "0.0000         NaN       NaN       NaN  0.909849  0.909912  0.909993  0.90969   \n",
       "\n",
       "cont_lam    0.1000    0.2500    0.5000    0.0000  \n",
       "sel_lam                                           \n",
       "0.0001         NaN       NaN       NaN       NaN  \n",
       "0.0010         NaN       NaN       NaN       NaN  \n",
       "0.0025         NaN       NaN       NaN  0.734407  \n",
       "0.0050    0.703123       NaN       NaN  0.731809  \n",
       "0.0075         NaN       NaN       NaN  0.733058  \n",
       "0.0100    0.705315       NaN       NaN  0.733680  \n",
       "0.0250         NaN       NaN       NaN  0.729445  \n",
       "0.0750         NaN       NaN       NaN  0.729633  \n",
       "0.1000         NaN       NaN       NaN  0.732043  \n",
       "0.0000    0.909933  0.909835  0.909715       NaN  "
      ]
     },
     "execution_count": 146,
     "metadata": {},
     "output_type": "execute_result"
    }
   ],
   "source": [
    "auc_df"
   ]
  },
  {
   "cell_type": "code",
   "execution_count": 160,
   "metadata": {},
   "outputs": [],
   "source": [
    "import matplotlib.pyplot as plt"
   ]
  },
  {
   "cell_type": "code",
   "execution_count": 166,
   "metadata": {},
   "outputs": [
    {
     "data": {
      "image/png": "[encoded data removed]",
      "text/plain": [
       "<Figure size 432x288 with 1 Axes>"
      ]
     },
     "metadata": {
      "needs_background": "light"
     },
     "output_type": "display_data"
    },
    {
     "data": {
      "image/png": "[encoded data removed]",
      "text/plain": [
       "<Figure size 432x288 with 1 Axes>"
      ]
     },
     "metadata": {
      "needs_background": "light"
     },
     "output_type": "display_data"
    },
    {
     "data": {
      "image/png": "[encoded data removed]",
      "text/plain": [
       "<Figure size 432x288 with 1 Axes>"
      ]
     },
     "metadata": {
      "needs_background": "light"
     },
     "output_type": "display_data"
    }
   ],
   "source": [
    "prec_regex = re.compile('-precision: (\\d\\.\\d+)')\n",
    "rec_regex = re.compile('-recall: (\\d\\.\\d+)')\n",
    "f1_regex = re.compile('-f1: (\\d\\.\\d+)')\n",
    "to_plot = [(.005, .1), (.005, .025), (.005, .01)]\n",
    "\n",
    "for sel_lam, cont_lam in to_plot:\n",
    "    df = all_files_df.loc[sel_lam][cont_lam]\n",
    "\n",
    "    ## precision\n",
    "    ax= (df['dev_prec']\n",
    "        .apply(lambda x: re.findall(prec_regex, x)[0])\n",
    "        .astype(float)\n",
    "     .plot(title='sel %.03f cont %.03f' % (sel_lam, cont_lam), label='precision')\n",
    "    )\n",
    "\n",
    "    ## recall\n",
    "    (df['dev_prec']\n",
    "        .apply(lambda x: re.findall(rec_regex, x)[0])\n",
    "        .astype(float)\n",
    "     .plot(title='sel %.03f cont %.03f' % (sel_lam, cont_lam), label='recall', ax=ax)\n",
    "    )\n",
    "\n",
    "    ## f1\n",
    "    (df['dev_prec']\n",
    "        .apply(lambda x: re.findall(f1_regex, x)[0])\n",
    "        .astype(float)\n",
    "     .plot(title='sel %.03f cont %.03f' % (sel_lam, cont_lam), label='f1', ax=ax)\n",
    "    )\n",
    "    plt.show()"
   ]
  },
  {
   "cell_type": "code",
   "execution_count": null,
   "metadata": {},
   "outputs": [],
   "source": []
  }
 ],
 "metadata": {
  "hide_input": false,
  "kernelspec": {
   "display_name": "Python 3",
   "language": "python",
   "name": "python3"
  },
  "language_info": {
   "codemirror_mode": {
    "name": "ipython",
    "version": 3
   },
   "file_extension": ".py",
   "mimetype": "text/x-python",
   "name": "python",
   "nbconvert_exporter": "python",
   "pygments_lexer": "ipython3",
   "version": "3.7.3"
  }
 },
 "nbformat": 4,
 "nbformat_minor": 2
}
