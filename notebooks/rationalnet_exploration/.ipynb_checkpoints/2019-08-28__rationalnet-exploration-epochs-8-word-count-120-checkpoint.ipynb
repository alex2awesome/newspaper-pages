{
 "cells": [
  {
   "cell_type": "markdown",
   "metadata": {},
   "source": [
    "# Read in results"
   ]
  },
  {
   "cell_type": "code",
   "execution_count": null,
   "metadata": {},
   "outputs": [],
   "source": [
    "from sklearn.metrics import roc_auc_score\n",
    "import sys\n",
    "sys.path.append('text_nn')\n",
    "import pandas as pd\n",
    "import rationale_net\n",
    "from rationale_net.datasets.new_york_times_dataset import NYTimesDataset\n",
    "import pickle\n",
    "results = pickle.load(open(\"exploratory_analysis/logs/demo_run.results\", 'rb'))"
   ]
  },
  {
   "cell_type": "code",
   "execution_count": 67,
   "metadata": {},
   "outputs": [
    {
     "data": {
      "text/plain": [
       "train                                                              True\n",
       "test                                                               True\n",
       "cuda                                                              False\n",
       "num_gpus                                                              1\n",
       "debug_mode                                                        False\n",
       "class_balance                                                     False\n",
       "objective                                                 cross_entropy\n",
       "aspect                                                          overall\n",
       "init_lr                                                          0.0001\n",
       "epochs                                                                8\n",
       "batch_size                                                           64\n",
       "patience                                                              5\n",
       "tuning_metric                                                      loss\n",
       "save_dir                                                       snapshot\n",
       "results_path              ../exploratory_analysis/logs/demo_run.results\n",
       "snapshot                                                           None\n",
       "num_workers                                                           0\n",
       "model_form                                                          cnn\n",
       "hidden_dim                                                          100\n",
       "num_layers                                                            1\n",
       "dropout                                                            0.05\n",
       "weight_decay                                                      5e-06\n",
       "filter_num                                                          100\n",
       "filters                                                       [3, 4, 5]\n",
       "dataset                                                    nytimes_data\n",
       "embedding                                                         glove\n",
       "training_data_path                                                 None\n",
       "test_data_path                                                     None\n",
       "word_cutoff                                                         120\n",
       "gumbel_temprature                                              0.918503\n",
       "gumbel_decay                                                      1e-05\n",
       "get_rationales                                                     True\n",
       "selection_lambda                                                  0.001\n",
       "continuity_lambda                                                     0\n",
       "num_class                                                            20\n",
       "use_as_tagger                                                     False\n",
       "tag_lambda                                                          0.5\n",
       "embedding_dim                                                       300\n",
       "model_path                                         snapshot\\demo_run.pt\n",
       "lr                                                               0.0001\n",
       "epoch_stats           {'train_loss': [0.6639973828882983, 0.50476555...\n",
       "test_stats            {'test_loss': [0.5951213313073564], 'test_obj_...\n",
       "train_data            ({'text': 'president bush 's new team campaign...\n",
       "test_data             ({'text': 'glimpses victims sept. 11 attack wo...\n",
       "dtype: object"
      ]
     },
     "execution_count": 67,
     "metadata": {},
     "output_type": "execute_result"
    }
   ],
   "source": [
    "pd.Series(results)"
   ]
  },
  {
   "cell_type": "code",
   "execution_count": 25,
   "metadata": {},
   "outputs": [],
   "source": [
    "test_stats = pd.Series(results['test_stats'])"
   ]
  },
  {
   "cell_type": "markdown",
   "metadata": {},
   "source": [
    "True ratio"
   ]
  },
  {
   "cell_type": "code",
   "execution_count": 23,
   "metadata": {},
   "outputs": [
    {
     "data": {
      "text/plain": [
       "0    246089\n",
       "1     11379\n",
       "dtype: int64"
      ]
     },
     "execution_count": 23,
     "metadata": {},
     "output_type": "execute_result"
    }
   ],
   "source": [
    "pd.Series(results['test_stats']['golds']).value_counts()"
   ]
  },
  {
   "cell_type": "markdown",
   "metadata": {},
   "source": [
    "Predicted ratio"
   ]
  },
  {
   "cell_type": "code",
   "execution_count": 36,
   "metadata": {},
   "outputs": [
    {
     "data": {
      "text/plain": [
       "0    171097\n",
       "1     86371\n",
       "dtype: int64"
      ]
     },
     "execution_count": 36,
     "metadata": {},
     "output_type": "execute_result"
    }
   ],
   "source": [
    "pd.Series(results['test_stats']['preds']).value_counts()"
   ]
  },
  {
   "cell_type": "code",
   "execution_count": 33,
   "metadata": {},
   "outputs": [],
   "source": [
    "y_proba = list(map(lambda x: x[1] if x[0] == 1 else 1-x[1], zip(test_stats['preds'], test_stats['probas'])))\n",
    "y_true = results['test_stats']['golds']"
   ]
  },
  {
   "cell_type": "markdown",
   "metadata": {},
   "source": [
    "ROC"
   ]
  },
  {
   "cell_type": "code",
   "execution_count": 34,
   "metadata": {},
   "outputs": [
    {
     "data": {
      "text/plain": [
       "0.735410304992871"
      ]
     },
     "execution_count": 34,
     "metadata": {},
     "output_type": "execute_result"
    }
   ],
   "source": [
    "roc_auc_score(y_true, y_proba)"
   ]
  },
  {
   "cell_type": "markdown",
   "metadata": {},
   "source": [
    "# Rationals"
   ]
  },
  {
   "cell_type": "code",
   "execution_count": 35,
   "metadata": {},
   "outputs": [],
   "source": [
    "rationales = results['test_stats']['rationales']"
   ]
  },
  {
   "cell_type": "code",
   "execution_count": 10,
   "metadata": {},
   "outputs": [
    {
     "data": {
      "text/plain": [
       "'_ _ _ _ _ _ _ _ _ _ _ _ _ _ _ _ _ _ _ _ _ _ _ _ _ _ _ _ _ _ _ cazale _ _ _ _ _ _ _ _ _ _ _ _ _ _ _ _ _ _ _ _ _ _ _ _ _ _ _ _ _ _ _ _ _ _ _ _ _ _ _ _ _ _ _ _ _ _ _ _ _ _ _ _ _ _ _ _ _ _ _ _ _ _ _ _ _ _ _ _ _ _ _ _ _ _ _ _ _ _ _ _ _ _ _ _ _ _ _ _'"
      ]
     },
     "execution_count": 10,
     "metadata": {},
     "output_type": "execute_result"
    }
   ],
   "source": [
    "rationales[4]"
   ]
  },
  {
   "cell_type": "code",
   "execution_count": 37,
   "metadata": {},
   "outputs": [],
   "source": [
    "rationale_words = pd.Series(list(map(lambda r: ' '.join(r.replace('_', '').split()), rationales)))"
   ]
  },
  {
   "cell_type": "markdown",
   "metadata": {},
   "source": [
    "Length of Rational"
   ]
  },
  {
   "cell_type": "code",
   "execution_count": 74,
   "metadata": {},
   "outputs": [
    {
     "data": {
      "text/html": [
       "<div>\n",
       "<style scoped>\n",
       "    .dataframe tbody tr th:only-of-type {\n",
       "        vertical-align: middle;\n",
       "    }\n",
       "\n",
       "    .dataframe tbody tr th {\n",
       "        vertical-align: top;\n",
       "    }\n",
       "\n",
       "    .dataframe thead th {\n",
       "        text-align: right;\n",
       "    }\n",
       "</style>\n",
       "<table border=\"1\" class=\"dataframe\">\n",
       "  <thead>\n",
       "    <tr style=\"text-align: right;\">\n",
       "      <th></th>\n",
       "      <th>count</th>\n",
       "    </tr>\n",
       "  </thead>\n",
       "  <tbody>\n",
       "    <tr>\n",
       "      <th>1</th>\n",
       "      <td>257421</td>\n",
       "    </tr>\n",
       "    <tr>\n",
       "      <th>2</th>\n",
       "      <td>47</td>\n",
       "    </tr>\n",
       "  </tbody>\n",
       "</table>\n",
       "</div>"
      ],
      "text/plain": [
       "    count\n",
       "1  257421\n",
       "2      47"
      ]
     },
     "execution_count": 74,
     "metadata": {},
     "output_type": "execute_result"
    }
   ],
   "source": [
    "rationale_words.str.split(' ').str.len().value_counts().to_frame('count')"
   ]
  },
  {
   "cell_type": "code",
   "execution_count": 56,
   "metadata": {},
   "outputs": [],
   "source": [
    "rational_df = pd.concat([\n",
    "    rationale_words.to_frame('word_list'),\n",
    "    pd.Series(y_true).to_frame('y_true'),\n",
    "    pd.Series(results['test_stats']['preds']).to_frame('y_pred')\n",
    "], axis=1)"
   ]
  },
  {
   "cell_type": "markdown",
   "metadata": {},
   "source": [
    "Overall most popular rationales"
   ]
  },
  {
   "cell_type": "code",
   "execution_count": 57,
   "metadata": {},
   "outputs": [
    {
     "data": {
      "text/plain": [
       ":            11696\n",
       "-             9834\n",
       "(             7825\n",
       "bush          3071\n",
       "--            2511\n",
       "officials     2289\n",
       "              2288\n",
       "monday        2272\n",
       "tuesday       2226\n",
       "wednesday     1859\n",
       "Name: word_list, dtype: int64"
      ]
     },
     "execution_count": 57,
     "metadata": {},
     "output_type": "execute_result"
    }
   ],
   "source": [
    "rational_df['word_list'].value_counts().head(10)"
   ]
  },
  {
   "cell_type": "markdown",
   "metadata": {},
   "source": [
    "Popular two-word rationales"
   ]
  },
  {
   "cell_type": "code",
   "execution_count": 65,
   "metadata": {},
   "outputs": [
    {
     "data": {
      "text/plain": [
       "pataki pataki            7\n",
       "( (                      2\n",
       "corzine corzine          2\n",
       "saudi saudi              1\n",
       ": :                      1\n",
       "mcgreevey mcgreevey      1\n",
       "presse presse            1\n",
       "valls valls              1\n",
       "schuster schuster        1\n",
       "federation federation    1\n",
       "Name: word_list, dtype: int64"
      ]
     },
     "execution_count": 65,
     "metadata": {},
     "output_type": "execute_result"
    }
   ],
   "source": [
    "rational_df['word_list'].loc[lambda s: s.str.split().str.len()==2].value_counts().head(10)"
   ]
  },
  {
   "cell_type": "markdown",
   "metadata": {},
   "source": [
    "Popular rationals for y_pred = 1 (article = front page)"
   ]
  },
  {
   "cell_type": "code",
   "execution_count": 60,
   "metadata": {},
   "outputs": [
    {
     "data": {
      "text/plain": [
       "bush         3071\n",
       "officials    2289\n",
       "             2288\n",
       "nation       1395\n",
       "pataki       1335\n",
       "workers      1300\n",
       "bloomberg    1117\n",
       "thousands     901\n",
       "old           812\n",
       "experts       786\n",
       "Name: word_list, dtype: int64"
      ]
     },
     "execution_count": 60,
     "metadata": {},
     "output_type": "execute_result"
    }
   ],
   "source": [
    "rational_df.loc[lambda df: df['y_pred'] == 1]['word_list'].value_counts().head(10)"
   ]
  },
  {
   "cell_type": "markdown",
   "metadata": {},
   "source": [
    "Popular rationales for y_pred = 0 (article != front page)"
   ]
  },
  {
   "cell_type": "code",
   "execution_count": 59,
   "metadata": {},
   "outputs": [
    {
     "data": {
      "text/plain": [
       ":            11696\n",
       "-             9834\n",
       "(             7825\n",
       "--            2511\n",
       "monday        2272\n",
       "tuesday       2226\n",
       "wednesday     1859\n",
       "thursday      1641\n",
       ")             1483\n",
       "sunday        1326\n",
       "Name: word_list, dtype: int64"
      ]
     },
     "execution_count": 59,
     "metadata": {},
     "output_type": "execute_result"
    }
   ],
   "source": [
    "rational_df.loc[lambda df: df['y_pred'] == 0]['word_list'].value_counts().head(10)"
   ]
  }
 ],
 "metadata": {
  "hide_input": false,
  "kernelspec": {
   "display_name": "Python 3",
   "language": "python",
   "name": "python3"
  },
  "language_info": {
   "codemirror_mode": {
    "name": "ipython",
    "version": 3
   },
   "file_extension": ".py",
   "mimetype": "text/x-python",
   "name": "python",
   "nbconvert_exporter": "python",
   "pygments_lexer": "ipython3",
   "version": "3.7.3"
  }
 },
 "nbformat": 4,
 "nbformat_minor": 2
}
