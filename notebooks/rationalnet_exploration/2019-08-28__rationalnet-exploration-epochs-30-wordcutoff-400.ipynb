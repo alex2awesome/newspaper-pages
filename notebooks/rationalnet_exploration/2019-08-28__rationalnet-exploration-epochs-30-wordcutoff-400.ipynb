{
 "cells": [
  {
   "cell_type": "markdown",
   "metadata": {},
   "source": [
    "# Read in results"
   ]
  },
  {
   "cell_type": "code",
   "execution_count": 1,
   "metadata": {},
   "outputs": [],
   "source": [
    "from sklearn.metrics import roc_auc_score\n",
    "import sys\n",
    "sys.path.append('text_nn')\n",
    "import pandas as pd\n",
    "import rationale_net\n",
    "from rationale_net.datasets.new_york_times_dataset import NYTimesDataset\n",
    "import pickle\n",
    "results = pickle.load(open(\"exploratory_analysis/logs/results__model-form_cnn__num-layers_1__word-cutoff_400__epochs_30\", 'rb'))"
   ]
  },
  {
   "cell_type": "code",
   "execution_count": 2,
   "metadata": {},
   "outputs": [
    {
     "data": {
      "text/plain": [
       "train                                                              True\n",
       "test                                                               True\n",
       "cuda                                                               True\n",
       "num_gpus                                                              1\n",
       "debug_mode                                                        False\n",
       "class_balance                                                     False\n",
       "objective                                                 cross_entropy\n",
       "aspect                                                          overall\n",
       "init_lr                                                          0.0001\n",
       "epochs                                                               30\n",
       "batch_size                                                           64\n",
       "patience                                                              5\n",
       "tuning_metric                                                      loss\n",
       "save_dir                                                       snapshot\n",
       "results_path          results__model-form_cnn__num-layers_1__word-cu...\n",
       "snapshot                                                           None\n",
       "num_workers                                                           0\n",
       "model_form                                                          cnn\n",
       "hidden_dim                                                          100\n",
       "num_layers                                                            1\n",
       "dropout                                                            0.05\n",
       "weight_decay                                                      5e-06\n",
       "filter_num                                                          100\n",
       "filters                                                       [3, 4, 5]\n",
       "dataset                                                    nytimes_data\n",
       "embedding                                                         glove\n",
       "training_data_path                                                 None\n",
       "test_data_path                                                     None\n",
       "word_cutoff                                                         400\n",
       "gumbel_temprature                                              0.726142\n",
       "gumbel_decay                                                      1e-05\n",
       "get_rationales                                                     True\n",
       "selection_lambda                                                  0.001\n",
       "continuity_lambda                                                     0\n",
       "num_class                                                            20\n",
       "use_as_tagger                                                     False\n",
       "tag_lambda                                                          0.5\n",
       "embedding_dim                                                       300\n",
       "model_path            snapshot/results__model-form_cnn__num-layers_1...\n",
       "lr                                                            3.125e-06\n",
       "epoch_stats           {'train_loss': [0.7288836837372976, 0.51363420...\n",
       "test_stats            {'test_loss': [0.5890803847025794], 'test_obj_...\n",
       "train_data            ({'text': 'president bush 's new team campaign...\n",
       "test_data             ({'text': 'glimpses victims sept. 11 attack wo...\n",
       "dtype: object"
      ]
     },
     "execution_count": 2,
     "metadata": {},
     "output_type": "execute_result"
    }
   ],
   "source": [
    "pd.Series(results)"
   ]
  },
  {
   "cell_type": "code",
   "execution_count": 3,
   "metadata": {},
   "outputs": [
    {
     "data": {
      "text/plain": [
       "'lead : paul vario , convicted gangster said leader lucchese crime family three decades , died lung failure tuesday fort worth federal prison , serving 10-year sentence extorting payoffs air - freight companies kennedy international airport . lead : paul vario , convicted gangster said leader lucchese crime family three decades , died lung failure tuesday fort worth federal prison , serving 10-year sentence extorting payoffs air - freight companies kennedy international airport . paul vario , convicted gangster said leader lucchese crime family three decades , died lung failure tuesday fort worth federal prison , serving 10-year sentence extorting payoffs air - freight companies kennedy international airport . 73 years old . prison officer , alice d. davis , said mr. vario , ailing several years , found late afternoon floor cell minimum - security penitentiary . taken st. joseph hospital pronounced dead 5:04 . autopsy attributed death respiratory arrest resulting chronic obstructive lung disease , ms. davis said . tall barrel - chested man said florist , mr. vario jail since 1921 charges ranging burglary tax evasion rape . best - selling book , \" wiseguy : life mafia family , \" nicholas pileggi described mr. vario running \" one city \\'s toughest violent gangs , \" whose \" thugs strong - arm work rest lucchese family . \" 1972 , law - enforcement agents secretly taped six months conversations mr. vario \\'s headquarters trailer junkyard canarsie area brooklyn , implicating hundreds mafia figures broad range organized - crime activities . also found members mr. vario \\'s organization maintained close ties corrupt police officers , used activities fixing cases obtaining coffee . headquarters , mr. vario reportedly oversaw schemes included hijackings , loan - sharking , bookmaking fencing stolen property . associates reputed particularly influential criminal dealings kennedy airport , extorting money shippers airlines exchange labor peace .'"
      ]
     },
     "execution_count": 3,
     "metadata": {},
     "output_type": "execute_result"
    }
   ],
   "source": [
    "results['train_data'][3]['text']"
   ]
  },
  {
   "cell_type": "code",
   "execution_count": 4,
   "metadata": {},
   "outputs": [],
   "source": [
    "test_stats = pd.Series(results['test_stats'])"
   ]
  },
  {
   "cell_type": "markdown",
   "metadata": {},
   "source": [
    "True ratio"
   ]
  },
  {
   "cell_type": "code",
   "execution_count": 5,
   "metadata": {},
   "outputs": [
    {
     "data": {
      "text/plain": [
       "0    246089\n",
       "1     11379\n",
       "dtype: int64"
      ]
     },
     "execution_count": 5,
     "metadata": {},
     "output_type": "execute_result"
    }
   ],
   "source": [
    "pd.Series(results['test_stats']['golds']).value_counts()"
   ]
  },
  {
   "cell_type": "markdown",
   "metadata": {},
   "source": [
    "Predicted ratio"
   ]
  },
  {
   "cell_type": "code",
   "execution_count": 6,
   "metadata": {},
   "outputs": [
    {
     "data": {
      "text/plain": [
       "0    171564\n",
       "1     85904\n",
       "dtype: int64"
      ]
     },
     "execution_count": 6,
     "metadata": {},
     "output_type": "execute_result"
    }
   ],
   "source": [
    "pd.Series(results['test_stats']['preds']).value_counts()"
   ]
  },
  {
   "cell_type": "code",
   "execution_count": 7,
   "metadata": {},
   "outputs": [],
   "source": [
    "y_proba = list(map(lambda x: x[1] if x[0] == 1 else 1-x[1], zip(test_stats['preds'], test_stats['probas'])))\n",
    "y_true = results['test_stats']['golds']"
   ]
  },
  {
   "cell_type": "markdown",
   "metadata": {},
   "source": [
    "ROC"
   ]
  },
  {
   "cell_type": "code",
   "execution_count": 8,
   "metadata": {},
   "outputs": [
    {
     "data": {
      "text/plain": [
       "0.7650085622044425"
      ]
     },
     "execution_count": 8,
     "metadata": {},
     "output_type": "execute_result"
    }
   ],
   "source": [
    "roc_auc_score(y_true, y_proba)"
   ]
  },
  {
   "cell_type": "markdown",
   "metadata": {},
   "source": [
    "# Rationals"
   ]
  },
  {
   "cell_type": "code",
   "execution_count": 9,
   "metadata": {},
   "outputs": [],
   "source": [
    "rationales = results['test_stats']['rationales']"
   ]
  },
  {
   "cell_type": "code",
   "execution_count": 10,
   "metadata": {},
   "outputs": [],
   "source": [
    "def get_rationale_words(rationale):\n",
    "    rational_words = rationale.split('_')\n",
    "    rational_words = list(map(lambda x: x.strip(), rational_words))\n",
    "    in_rationale = False\n",
    "    ## \n",
    "    all_rationals = []\n",
    "    rational_output = []\n",
    "    for word in rational_words:\n",
    "        if in_rationale:\n",
    "            if word != '':\n",
    "                rational_output.append(word)\n",
    "            else:\n",
    "                all_rationals.append(' '.join(rational_output))\n",
    "                rational_output = []\n",
    "                in_rationale = False\n",
    "        else:\n",
    "            if word != '':\n",
    "                rational_output.append(word)\n",
    "                in_rationale = True\n",
    "    return all_rationals"
   ]
  },
  {
   "cell_type": "code",
   "execution_count": 11,
   "metadata": {},
   "outputs": [],
   "source": [
    "rationale_words = pd.Series(rationales).apply(get_rationale_words)"
   ]
  },
  {
   "cell_type": "code",
   "execution_count": 12,
   "metadata": {},
   "outputs": [
    {
     "data": {
      "text/plain": [
       "1    247818\n",
       "       9736\n",
       "2         3\n",
       "dtype: int64"
      ]
     },
     "execution_count": 12,
     "metadata": {},
     "output_type": "execute_result"
    }
   ],
   "source": [
    "(rationale_words\n",
    " .apply(lambda x: list(map(lambda y: str(len(y.split(' '))), x)))\n",
    " .str.join(':::').str.split(':::', expand=True)\n",
    " .unstack().dropna()\n",
    " .value_counts()\n",
    ")"
   ]
  },
  {
   "cell_type": "code",
   "execution_count": 13,
   "metadata": {},
   "outputs": [],
   "source": [
    "rational_df = pd.concat([\n",
    "    rationale_words.to_frame('word_list'),\n",
    "    pd.Series(y_true).to_frame('y_true'),\n",
    "    pd.Series(results['test_stats']['preds']).to_frame('y_pred')\n",
    "], axis=1)"
   ]
  },
  {
   "cell_type": "markdown",
   "metadata": {},
   "source": [
    "Overall most popular rationales"
   ]
  },
  {
   "cell_type": "code",
   "execution_count": 14,
   "metadata": {},
   "outputs": [
    {
     "data": {
      "text/plain": [
       ")            39508\n",
       "(            21854\n",
       ",            16901\n",
       "officials    12339\n",
       "-             9757\n",
       "              9737\n",
       ":             8861\n",
       "--            6782\n",
       ".             5728\n",
       "bush          4251\n",
       "dtype: int64"
      ]
     },
     "execution_count": 14,
     "metadata": {},
     "output_type": "execute_result"
    }
   ],
   "source": [
    "(rational_df['word_list']\n",
    " .str.join(':::')\n",
    " .str.split(':::', expand=True)\n",
    " .unstack().dropna()\n",
    ".value_counts().head(10)\n",
    ")"
   ]
  },
  {
   "cell_type": "markdown",
   "metadata": {},
   "source": [
    "Popular two-word rationales"
   ]
  },
  {
   "cell_type": "code",
   "execution_count": 15,
   "metadata": {},
   "outputs": [
    {
     "data": {
      "text/plain": [
       "( )      2\n",
       "( nyt    1\n",
       "dtype: int64"
      ]
     },
     "execution_count": 15,
     "metadata": {},
     "output_type": "execute_result"
    }
   ],
   "source": [
    "(rational_df['word_list']\n",
    " .str.join(':::')\n",
    " .str.split(':::', expand=True)\n",
    " .unstack().dropna()\n",
    " .loc[lambda s: s.str.split().str.len()==2]\n",
    " .value_counts()\n",
    " .head(10)\n",
    ")"
   ]
  },
  {
   "cell_type": "markdown",
   "metadata": {},
   "source": [
    "Popular rationales for y_pred = 0 (article != front page)"
   ]
  },
  {
   "cell_type": "code",
   "execution_count": 16,
   "metadata": {
    "scrolled": true
   },
   "outputs": [
    {
     "data": {
      "text/plain": [
       ")                39508\n",
       "(                21854\n",
       ",                16901\n",
       "-                 9757\n",
       ":                 8861\n",
       "--                6778\n",
       "                  6700\n",
       ".                 5728\n",
       ";                 3517\n",
       "11                2412\n",
       "/                 2179\n",
       "bloomberg         1526\n",
       "18                1224\n",
       "13                1034\n",
       "died               995\n",
       "17                 980\n",
       "international      949\n",
       "23                 847\n",
       "14                 837\n",
       "editor             829\n",
       "26                 784\n",
       "22                 772\n",
       "9                  754\n",
       "12                 748\n",
       "19                 744\n",
       "chief              738\n",
       "15                 735\n",
       "pm                 658\n",
       "16                 634\n",
       "street             632\n",
       "10                 597\n",
       "reported           595\n",
       "21                 581\n",
       "20                 575\n",
       "may                569\n",
       "a.m.               556\n",
       "27                 555\n",
       "28                 552\n",
       "29                 529\n",
       "8                  524\n",
       "24                 510\n",
       "25                 496\n",
       "7                  496\n",
       "30                 454\n",
       "companies          359\n",
       "2                  356\n",
       "inc.               349\n",
       "monday             346\n",
       "6                  344\n",
       "31                 332\n",
       "dtype: int64"
      ]
     },
     "execution_count": 16,
     "metadata": {},
     "output_type": "execute_result"
    }
   ],
   "source": [
    "(rational_df\n",
    " .loc[lambda df: df['y_pred'] == 0]['word_list']\n",
    " .str.join(':::')\n",
    " .str.split(':::', expand=True)\n",
    " .unstack().dropna()\n",
    " .value_counts().head(50)\n",
    ")"
   ]
  },
  {
   "cell_type": "markdown",
   "metadata": {},
   "source": [
    "Popular rationals for y_pred = 1 (article = front page)"
   ]
  },
  {
   "cell_type": "code",
   "execution_count": 17,
   "metadata": {},
   "outputs": [
    {
     "data": {
      "text/plain": [
       "officials         12339\n",
       "bush               4251\n",
       "administration     4174\n",
       "experts            3169\n",
       "workers            3110\n",
       "                   3037\n",
       "government         2873\n",
       "leaders            1751\n",
       "killed             1744\n",
       "say                1522\n",
       "dtype: int64"
      ]
     },
     "execution_count": 17,
     "metadata": {},
     "output_type": "execute_result"
    }
   ],
   "source": [
    "(rational_df\n",
    " .loc[lambda df: df['y_pred'] == 1]['word_list']\n",
    " .str.join(':::')\n",
    " .str.split(':::', expand=True)\n",
    " .unstack().dropna()\n",
    " .value_counts().head(10)\n",
    ")"
   ]
  },
  {
   "cell_type": "code",
   "execution_count": null,
   "metadata": {},
   "outputs": [],
   "source": []
  },
  {
   "cell_type": "code",
   "execution_count": null,
   "metadata": {},
   "outputs": [],
   "source": []
  },
  {
   "cell_type": "code",
   "execution_count": null,
   "metadata": {},
   "outputs": [],
   "source": []
  },
  {
   "cell_type": "code",
   "execution_count": null,
   "metadata": {},
   "outputs": [],
   "source": []
  }
 ],
 "metadata": {
  "hide_input": false,
  "kernelspec": {
   "display_name": "Python 3",
   "language": "python",
   "name": "python3"
  },
  "language_info": {
   "codemirror_mode": {
    "name": "ipython",
    "version": 3
   },
   "file_extension": ".py",
   "mimetype": "text/x-python",
   "name": "python",
   "nbconvert_exporter": "python",
   "pygments_lexer": "ipython3",
   "version": "3.7.3"
  }
 },
 "nbformat": 4,
 "nbformat_minor": 2
}
