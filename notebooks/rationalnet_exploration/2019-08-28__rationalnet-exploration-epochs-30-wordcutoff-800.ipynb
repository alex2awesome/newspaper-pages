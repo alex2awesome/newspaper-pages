{
 "cells": [
  {
   "cell_type": "markdown",
   "metadata": {},
   "source": [
    "# Read in results"
   ]
  },
  {
   "cell_type": "code",
   "execution_count": 1,
   "metadata": {},
   "outputs": [],
   "source": [
    "from sklearn.metrics import roc_auc_score\n",
    "import sys\n",
    "sys.path.append('text_nn')\n",
    "import pandas as pd\n",
    "import rationale_net\n",
    "from rationale_net.datasets.new_york_times_dataset import NYTimesDataset\n",
    "import pickle\n",
    "results = pickle.load(open(\"exploratory_analysis/logs/results__model-form_cnn__num-layers_1__word-cutoff_800__epochs_30\", 'rb'))"
   ]
  },
  {
   "cell_type": "code",
   "execution_count": 2,
   "metadata": {},
   "outputs": [
    {
     "data": {
      "text/plain": [
       "train                                                              True\n",
       "test                                                               True\n",
       "cuda                                                               True\n",
       "num_gpus                                                              1\n",
       "debug_mode                                                        False\n",
       "class_balance                                                     False\n",
       "objective                                                 cross_entropy\n",
       "aspect                                                          overall\n",
       "init_lr                                                          0.0001\n",
       "epochs                                                               30\n",
       "batch_size                                                           64\n",
       "patience                                                              5\n",
       "tuning_metric                                                      loss\n",
       "save_dir                                                       snapshot\n",
       "results_path          results__model-form_cnn__num-layers_1__word-cu...\n",
       "snapshot                                                           None\n",
       "num_workers                                                           0\n",
       "model_form                                                          cnn\n",
       "hidden_dim                                                          100\n",
       "num_layers                                                            1\n",
       "dropout                                                            0.05\n",
       "weight_decay                                                      5e-06\n",
       "filter_num                                                          100\n",
       "filters                                                       [3, 4, 5]\n",
       "dataset                                                    nytimes_data\n",
       "embedding                                                         glove\n",
       "training_data_path                                                 None\n",
       "test_data_path                                                     None\n",
       "word_cutoff                                                         800\n",
       "gumbel_temprature                                              0.726142\n",
       "gumbel_decay                                                      1e-05\n",
       "get_rationales                                                     True\n",
       "selection_lambda                                                  0.001\n",
       "continuity_lambda                                                     0\n",
       "num_class                                                            20\n",
       "use_as_tagger                                                     False\n",
       "tag_lambda                                                          0.5\n",
       "embedding_dim                                                       300\n",
       "model_path            snapshot/results__model-form_cnn__num-layers_1...\n",
       "lr                                                            3.125e-06\n",
       "epoch_stats           {'train_loss': [0.7911875672387273, 0.52556496...\n",
       "test_stats            {'test_loss': [0.4387451350511143], 'test_obj_...\n",
       "train_data            ({'text': 'president bush 's new team campaign...\n",
       "test_data             ({'text': 'glimpses victims sept. 11 attack wo...\n",
       "dtype: object"
      ]
     },
     "execution_count": 2,
     "metadata": {},
     "output_type": "execute_result"
    }
   ],
   "source": [
    "pd.Series(results)"
   ]
  },
  {
   "cell_type": "code",
   "execution_count": 63,
   "metadata": {},
   "outputs": [
    {
     "data": {
      "text/plain": [
       "'lead : paul vario , convicted gangster said leader lucchese crime family three decades , died lung failure tuesday fort worth federal prison , serving 10-year sentence extorting payoffs air - freight companies kennedy international airport . lead : paul vario , convicted gangster said leader lucchese crime family three decades , died lung failure tuesday fort worth federal prison , serving 10-year sentence extorting payoffs air - freight companies kennedy international airport . paul vario , convicted gangster said leader lucchese crime family three decades , died lung failure tuesday fort worth federal prison , serving 10-year sentence extorting payoffs air - freight companies kennedy international airport . 73 years old . prison officer , alice d. davis , said mr. vario , ailing several years , found late afternoon floor cell minimum - security penitentiary . taken st. joseph hospital pronounced dead 5:04 . autopsy attributed death respiratory arrest resulting chronic obstructive lung disease , ms. davis said . tall barrel - chested man said florist , mr. vario jail since 1921 charges ranging burglary tax evasion rape . best - selling book , \" wiseguy : life mafia family , \" nicholas pileggi described mr. vario running \" one city \\'s toughest violent gangs , \" whose \" thugs strong - arm work rest lucchese family . \" 1972 , law - enforcement agents secretly taped six months conversations mr. vario \\'s headquarters trailer junkyard canarsie area brooklyn , implicating hundreds mafia figures broad range organized - crime activities . also found members mr. vario \\'s organization maintained close ties corrupt police officers , used activities fixing cases obtaining coffee . headquarters , mr. vario reportedly oversaw schemes included hijackings , loan - sharking , bookmaking fencing stolen property . associates reputed particularly influential criminal dealings kennedy airport , extorting money shippers airlines exchange labor peace .'"
      ]
     },
     "execution_count": 63,
     "metadata": {},
     "output_type": "execute_result"
    }
   ],
   "source": [
    "results['train_data'][3]['text']"
   ]
  },
  {
   "cell_type": "code",
   "execution_count": 4,
   "metadata": {},
   "outputs": [],
   "source": [
    "test_stats = pd.Series(results['test_stats'])"
   ]
  },
  {
   "cell_type": "markdown",
   "metadata": {},
   "source": [
    "True ratio"
   ]
  },
  {
   "cell_type": "code",
   "execution_count": 5,
   "metadata": {},
   "outputs": [
    {
     "data": {
      "text/plain": [
       "0    246089\n",
       "1     11379\n",
       "dtype: int64"
      ]
     },
     "execution_count": 5,
     "metadata": {},
     "output_type": "execute_result"
    }
   ],
   "source": [
    "pd.Series(results['test_stats']['golds']).value_counts()"
   ]
  },
  {
   "cell_type": "markdown",
   "metadata": {},
   "source": [
    "Predicted ratio"
   ]
  },
  {
   "cell_type": "code",
   "execution_count": 6,
   "metadata": {},
   "outputs": [
    {
     "data": {
      "text/plain": [
       "0    188186\n",
       "1     69282\n",
       "dtype: int64"
      ]
     },
     "execution_count": 6,
     "metadata": {},
     "output_type": "execute_result"
    }
   ],
   "source": [
    "pd.Series(results['test_stats']['preds']).value_counts()"
   ]
  },
  {
   "cell_type": "code",
   "execution_count": 7,
   "metadata": {},
   "outputs": [],
   "source": [
    "y_proba = list(map(lambda x: x[1] if x[0] == 1 else 1-x[1], zip(test_stats['preds'], test_stats['probas'])))\n",
    "y_true = results['test_stats']['golds']"
   ]
  },
  {
   "cell_type": "markdown",
   "metadata": {},
   "source": [
    "ROC"
   ]
  },
  {
   "cell_type": "code",
   "execution_count": 8,
   "metadata": {},
   "outputs": [
    {
     "data": {
      "text/plain": [
       "0.77327062773741"
      ]
     },
     "execution_count": 8,
     "metadata": {},
     "output_type": "execute_result"
    }
   ],
   "source": [
    "roc_auc_score(y_true, y_proba)"
   ]
  },
  {
   "cell_type": "markdown",
   "metadata": {},
   "source": [
    "# Rationals"
   ]
  },
  {
   "cell_type": "code",
   "execution_count": 9,
   "metadata": {},
   "outputs": [],
   "source": [
    "rationales = results['test_stats']['rationales']"
   ]
  },
  {
   "cell_type": "code",
   "execution_count": 30,
   "metadata": {},
   "outputs": [],
   "source": [
    "def get_rationale_words(rationale):\n",
    "    rational_words = rationale.split('_')\n",
    "    rational_words = list(map(lambda x: x.strip(), rational_words))\n",
    "    in_rationale = False\n",
    "    ## \n",
    "    all_rationals = []\n",
    "    rational_output = []\n",
    "    for word in rational_words:\n",
    "        if in_rationale:\n",
    "            if word != '':\n",
    "                rational_output.append(word)\n",
    "            else:\n",
    "                all_rationals.append(' '.join(rational_output))\n",
    "                rational_output = []\n",
    "                in_rationale = False\n",
    "        else:\n",
    "            if word != '':\n",
    "                rational_output.append(word)\n",
    "                in_rationale = True\n",
    "    return all_rationals"
   ]
  },
  {
   "cell_type": "code",
   "execution_count": 32,
   "metadata": {},
   "outputs": [],
   "source": [
    "rationale_words = pd.Series(rationales).apply(get_rationale_words)"
   ]
  },
  {
   "cell_type": "code",
   "execution_count": 40,
   "metadata": {},
   "outputs": [
    {
     "data": {
      "text/plain": [
       "1    252597\n",
       "       4979\n",
       "2         3\n",
       "dtype: int64"
      ]
     },
     "execution_count": 40,
     "metadata": {},
     "output_type": "execute_result"
    }
   ],
   "source": [
    "(rationale_words\n",
    " .apply(lambda x: list(map(lambda y: str(len(y.split(' '))), x)))\n",
    " .str.join(' ').str.split(' ', expand=True)\n",
    " .unstack().dropna()\n",
    " .value_counts()\n",
    ")"
   ]
  },
  {
   "cell_type": "code",
   "execution_count": 41,
   "metadata": {},
   "outputs": [],
   "source": [
    "rational_df = pd.concat([\n",
    "    rationale_words.to_frame('word_list'),\n",
    "    pd.Series(y_true).to_frame('y_true'),\n",
    "    pd.Series(results['test_stats']['preds']).to_frame('y_pred')\n",
    "], axis=1)"
   ]
  },
  {
   "cell_type": "markdown",
   "metadata": {},
   "source": [
    "Overall most popular rationales"
   ]
  },
  {
   "cell_type": "code",
   "execution_count": 56,
   "metadata": {},
   "outputs": [
    {
     "data": {
      "text/plain": [
       "(                 35870\n",
       ":                 21409\n",
       ")                 20459\n",
       ",                 16027\n",
       "old               12019\n",
       "--                 9434\n",
       "bush               7525\n",
       "administration     7495\n",
       ";                  6779\n",
       "-                  5641\n",
       "dtype: int64"
      ]
     },
     "execution_count": 56,
     "metadata": {},
     "output_type": "execute_result"
    }
   ],
   "source": [
    "(rational_df['word_list']\n",
    " .str.join(':::')\n",
    " .str.split(':::', expand=True)\n",
    " .unstack().dropna()\n",
    ".value_counts().head(10)\n",
    ")"
   ]
  },
  {
   "cell_type": "markdown",
   "metadata": {},
   "source": [
    "Popular two-word rationales"
   ]
  },
  {
   "cell_type": "code",
   "execution_count": 57,
   "metadata": {},
   "outputs": [
    {
     "data": {
      "text/plain": [
       "( nyt    2\n",
       "( )      1\n",
       "dtype: int64"
      ]
     },
     "execution_count": 57,
     "metadata": {},
     "output_type": "execute_result"
    }
   ],
   "source": [
    "(rational_df['word_list']\n",
    " .str.join(':::')\n",
    " .str.split(':::', expand=True)\n",
    " .unstack().dropna()\n",
    " .loc[lambda s: s.str.split().str.len()==2]\n",
    " .value_counts()\n",
    " .head(10)\n",
    ")"
   ]
  },
  {
   "cell_type": "markdown",
   "metadata": {},
   "source": [
    "Popular rationales for y_pred = 0 (article != front page)"
   ]
  },
  {
   "cell_type": "code",
   "execution_count": 61,
   "metadata": {},
   "outputs": [
    {
     "data": {
      "text/plain": [
       "(              35870\n",
       ":              21409\n",
       ")              20459\n",
       ",              16027\n",
       "old            12019\n",
       "--              9434\n",
       ";               6779\n",
       "-               5641\n",
       "                4834\n",
       ".               4542\n",
       "nyt             3665\n",
       "$               2562\n",
       "editor          1564\n",
       "/               1409\n",
       "million         1276\n",
       "bloomberg       1101\n",
       "street           751\n",
       "cents            694\n",
       "billion          672\n",
       "born             596\n",
       "chief            523\n",
       "john             441\n",
       "robert           403\n",
       "'s               382\n",
       "former           354\n",
       "analysts         336\n",
       "died             315\n",
       "new              311\n",
       "department       301\n",
       "corporation      299\n",
       "us               290\n",
       "9                285\n",
       "c.               283\n",
       "william          279\n",
       "city             277\n",
       "county           276\n",
       "&                275\n",
       "state            268\n",
       "percent          256\n",
       "inc.             237\n",
       "law              214\n",
       "george           208\n",
       "agency           207\n",
       "s.               199\n",
       "civil            191\n",
       "reported         184\n",
       "johnson          183\n",
       "corzine          182\n",
       "paul             179\n",
       "m.               171\n",
       "dtype: int64"
      ]
     },
     "execution_count": 61,
     "metadata": {},
     "output_type": "execute_result"
    }
   ],
   "source": [
    "(rational_df\n",
    " .loc[lambda df: df['y_pred'] == 0]['word_list']\n",
    " .str.join(':::')\n",
    " .str.split(':::', expand=True)\n",
    " .unstack().dropna()\n",
    " .value_counts().head(50)\n",
    ")"
   ]
  },
  {
   "cell_type": "markdown",
   "metadata": {},
   "source": [
    "Popular rationals for y_pred = 1 (article = front page)"
   ]
  },
  {
   "cell_type": "code",
   "execution_count": 59,
   "metadata": {},
   "outputs": [
    {
     "data": {
      "text/plain": [
       "bush              7525\n",
       "administration    7495\n",
       "government        5034\n",
       "federal           4650\n",
       "officials         3590\n",
       "say               2256\n",
       "people            1413\n",
       "workers           1365\n",
       "experts            849\n",
       "lawmakers          795\n",
       "dtype: int64"
      ]
     },
     "execution_count": 59,
     "metadata": {},
     "output_type": "execute_result"
    }
   ],
   "source": [
    "(rational_df\n",
    " .loc[lambda df: df['y_pred'] == 1]['word_list']\n",
    " .str.join(':::')\n",
    " .str.split(':::', expand=True)\n",
    " .unstack().dropna()\n",
    " .value_counts().head(10)\n",
    ")"
   ]
  },
  {
   "cell_type": "code",
   "execution_count": null,
   "metadata": {},
   "outputs": [],
   "source": []
  },
  {
   "cell_type": "code",
   "execution_count": null,
   "metadata": {},
   "outputs": [],
   "source": []
  },
  {
   "cell_type": "code",
   "execution_count": null,
   "metadata": {},
   "outputs": [],
   "source": []
  },
  {
   "cell_type": "code",
   "execution_count": null,
   "metadata": {},
   "outputs": [],
   "source": []
  }
 ],
 "metadata": {
  "hide_input": false,
  "kernelspec": {
   "display_name": "Python 3",
   "language": "python",
   "name": "python3"
  },
  "language_info": {
   "codemirror_mode": {
    "name": "ipython",
    "version": 3
   },
   "file_extension": ".py",
   "mimetype": "text/x-python",
   "name": "python",
   "nbconvert_exporter": "python",
   "pygments_lexer": "ipython3",
   "version": "3.7.3"
  }
 },
 "nbformat": 4,
 "nbformat_minor": 2
}
