{
 "cells": [
  {
   "cell_type": "markdown",
   "metadata": {},
   "source": [
    "# Read in results"
   ]
  },
  {
   "cell_type": "code",
   "execution_count": 1,
   "metadata": {},
   "outputs": [],
   "source": [
    "from sklearn.metrics import roc_auc_score\n",
    "import sys\n",
    "sys.path.append('text_nn')\n",
    "import pandas as pd\n",
    "import rationale_net\n",
    "from rationale_net.datasets.new_york_times_dataset import NYTimesDataset\n",
    "import pickle\n",
    "results = pickle.load(open(\"exploratory_analysis/logs/results__model-form_cnn__num-layers_1__word-cutoff_110__epochs_18\", 'rb'))"
   ]
  },
  {
   "cell_type": "code",
   "execution_count": 2,
   "metadata": {},
   "outputs": [
    {
     "data": {
      "text/plain": [
       "train                                                              True\n",
       "test                                                               True\n",
       "cuda                                                               True\n",
       "num_gpus                                                              1\n",
       "debug_mode                                                        False\n",
       "class_balance                                                     False\n",
       "objective                                                 cross_entropy\n",
       "aspect                                                          overall\n",
       "init_lr                                                          0.0001\n",
       "epochs                                                               18\n",
       "batch_size                                                           64\n",
       "patience                                                              5\n",
       "tuning_metric                                                      loss\n",
       "save_dir                                                       snapshot\n",
       "results_path          results__model-form_cnn__num-layers_1__word-cu...\n",
       "snapshot                                                           None\n",
       "num_workers                                                           0\n",
       "model_form                                                          cnn\n",
       "hidden_dim                                                          100\n",
       "num_layers                                                            1\n",
       "dropout                                                            0.05\n",
       "weight_decay                                                      5e-06\n",
       "filter_num                                                          100\n",
       "filters                                                       [3, 4, 5]\n",
       "dataset                                                    nytimes_data\n",
       "embedding                                                         glove\n",
       "training_data_path                                                 None\n",
       "test_data_path                                                     None\n",
       "word_cutoff                                                          80\n",
       "gumbel_temprature                                              0.825299\n",
       "gumbel_decay                                                      1e-05\n",
       "get_rationales                                                     True\n",
       "selection_lambda                                                  0.001\n",
       "continuity_lambda                                                     0\n",
       "num_class                                                            20\n",
       "use_as_tagger                                                     False\n",
       "tag_lambda                                                          0.5\n",
       "embedding_dim                                                       300\n",
       "model_path            snapshot/results__model-form_cnn__num-layers_1...\n",
       "lr                                                                5e-05\n",
       "epoch_stats           {'train_loss': [0.6728193692946702, 0.50169473...\n",
       "test_stats            {'test_loss': [0.6657959012554974], 'test_obj_...\n",
       "train_data            ({'text': 'president bush 's new team campaign...\n",
       "test_data             ({'text': 'glimpses victims sept. 11 attack wo...\n",
       "dtype: object"
      ]
     },
     "execution_count": 2,
     "metadata": {},
     "output_type": "execute_result"
    }
   ],
   "source": [
    "pd.Series(results)"
   ]
  },
  {
   "cell_type": "code",
   "execution_count": 3,
   "metadata": {},
   "outputs": [],
   "source": [
    "test_stats = pd.Series(results['test_stats'])"
   ]
  },
  {
   "cell_type": "markdown",
   "metadata": {},
   "source": [
    "True ratio"
   ]
  },
  {
   "cell_type": "code",
   "execution_count": 4,
   "metadata": {},
   "outputs": [
    {
     "data": {
      "text/plain": [
       "0    246089\n",
       "1     11379\n",
       "dtype: int64"
      ]
     },
     "execution_count": 4,
     "metadata": {},
     "output_type": "execute_result"
    }
   ],
   "source": [
    "pd.Series(results['test_stats']['golds']).value_counts()"
   ]
  },
  {
   "cell_type": "markdown",
   "metadata": {},
   "source": [
    "Predicted ratio"
   ]
  },
  {
   "cell_type": "code",
   "execution_count": 5,
   "metadata": {},
   "outputs": [
    {
     "data": {
      "text/plain": [
       "0    176288\n",
       "1     81180\n",
       "dtype: int64"
      ]
     },
     "execution_count": 5,
     "metadata": {},
     "output_type": "execute_result"
    }
   ],
   "source": [
    "pd.Series(results['test_stats']['preds']).value_counts()"
   ]
  },
  {
   "cell_type": "code",
   "execution_count": 6,
   "metadata": {},
   "outputs": [],
   "source": [
    "y_proba = list(map(lambda x: x[1] if x[0] == 1 else 1-x[1], zip(test_stats['preds'], test_stats['probas'])))\n",
    "y_true = results['test_stats']['golds']"
   ]
  },
  {
   "cell_type": "markdown",
   "metadata": {},
   "source": [
    "ROC"
   ]
  },
  {
   "cell_type": "code",
   "execution_count": 8,
   "metadata": {},
   "outputs": [
    {
     "data": {
      "text/plain": [
       "0.6537010522091742"
      ]
     },
     "execution_count": 8,
     "metadata": {},
     "output_type": "execute_result"
    }
   ],
   "source": [
    "roc_auc_score(y_true, y_proba)"
   ]
  },
  {
   "cell_type": "markdown",
   "metadata": {},
   "source": [
    "# Rationals"
   ]
  },
  {
   "cell_type": "code",
   "execution_count": 9,
   "metadata": {},
   "outputs": [],
   "source": [
    "rationales = results['test_stats']['rationales']"
   ]
  },
  {
   "cell_type": "code",
   "execution_count": 10,
   "metadata": {},
   "outputs": [
    {
     "data": {
      "text/plain": [
       "'_ _ _ _ _ _ _ _ _ _ _ _ _ _ _ _ _ _ _ _ _ _ _ _ _ _ _ _ _ _ _ cazale _ _ _ _ _ _ _ _ _ _ _ _ _ _ _ _ _ _ _ _ _ _ _ _ _ _ _ _ _ _ _ _ _ _ _ _ _ _ _ _ _ _ _ _ _ _ _ _'"
      ]
     },
     "execution_count": 10,
     "metadata": {},
     "output_type": "execute_result"
    }
   ],
   "source": [
    "rationales[4]"
   ]
  },
  {
   "cell_type": "code",
   "execution_count": 11,
   "metadata": {},
   "outputs": [],
   "source": [
    "rationale_words = pd.Series(list(map(lambda r: ' '.join(r.replace('_', '').split()), rationales)))"
   ]
  },
  {
   "cell_type": "code",
   "execution_count": 12,
   "metadata": {},
   "outputs": [
    {
     "data": {
      "text/plain": [
       "1     232062\n",
       "2      20312\n",
       "3       3847\n",
       "4        944\n",
       "5        210\n",
       "6         69\n",
       "7         17\n",
       "8          6\n",
       "10         1\n",
       "dtype: int64"
      ]
     },
     "execution_count": 12,
     "metadata": {},
     "output_type": "execute_result"
    }
   ],
   "source": [
    "rationale_words.str.split(' ').str.len().value_counts()"
   ]
  },
  {
   "cell_type": "code",
   "execution_count": 13,
   "metadata": {},
   "outputs": [],
   "source": [
    "rational_df = pd.concat([\n",
    "    rationale_words.to_frame('word_list'),\n",
    "    pd.Series(y_true).to_frame('y_true'),\n",
    "    pd.Series(results['test_stats']['preds']).to_frame('y_pred')\n",
    "], axis=1)"
   ]
  },
  {
   "cell_type": "markdown",
   "metadata": {},
   "source": [
    "Overall most popular rationales"
   ]
  },
  {
   "cell_type": "code",
   "execution_count": 14,
   "metadata": {},
   "outputs": [
    {
     "data": {
      "text/plain": [
       "nyt          6429\n",
       "-            3075\n",
       ":            2336\n",
       "bush         2268\n",
       "             1669\n",
       "tuesday      1447\n",
       "monday       1410\n",
       "officials    1306\n",
       "sunday       1284\n",
       "wednesday    1268\n",
       "Name: word_list, dtype: int64"
      ]
     },
     "execution_count": 14,
     "metadata": {},
     "output_type": "execute_result"
    }
   ],
   "source": [
    "rational_df['word_list'].value_counts().head(10)"
   ]
  },
  {
   "cell_type": "markdown",
   "metadata": {},
   "source": [
    "Popular two-word rationales"
   ]
  },
  {
   "cell_type": "code",
   "execution_count": 15,
   "metadata": {},
   "outputs": [
    {
     "data": {
      "text/plain": [
       "mourns mourns          393\n",
       "nyt nyt                276\n",
       "kristof kristof        225\n",
       "( nyt                  147\n",
       "nj nj                  122\n",
       "krugman krugman         72\n",
       "mcgreevey mcgreevey     66\n",
       "safire safire           56\n",
       "swarns nyt              52\n",
       "mourn mourn             49\n",
       "Name: word_list, dtype: int64"
      ]
     },
     "execution_count": 15,
     "metadata": {},
     "output_type": "execute_result"
    }
   ],
   "source": [
    "rational_df['word_list'].loc[lambda s: s.str.split().str.len()==2].value_counts().head(10)"
   ]
  },
  {
   "cell_type": "markdown",
   "metadata": {},
   "source": [
    "Popular rationales for y_pred = 0 (article != front page)"
   ]
  },
  {
   "cell_type": "code",
   "execution_count": 16,
   "metadata": {},
   "outputs": [
    {
     "data": {
      "text/plain": [
       "nyt          6429\n",
       "-            3075\n",
       ":            2336\n",
       "             1669\n",
       "tuesday      1447\n",
       "monday       1410\n",
       "sunday       1284\n",
       "wednesday    1268\n",
       "thursday     1140\n",
       "editor        825\n",
       "Name: word_list, dtype: int64"
      ]
     },
     "execution_count": 16,
     "metadata": {},
     "output_type": "execute_result"
    }
   ],
   "source": [
    "rational_df.loc[lambda df: df['y_pred'] == 0]['word_list'].value_counts().head(10)"
   ]
  },
  {
   "cell_type": "markdown",
   "metadata": {},
   "source": [
    "Popular rationals for y_pred = 1 (article = front page)"
   ]
  },
  {
   "cell_type": "code",
   "execution_count": 17,
   "metadata": {},
   "outputs": [
    {
     "data": {
      "text/plain": [
       "bush         2268\n",
       "officials    1293\n",
       "largest       992\n",
       "bloomberg     793\n",
       "nation        613\n",
       "pataki        511\n",
       "announced     418\n",
       "experts       315\n",
       "lawmakers     258\n",
       "sgt           241\n",
       "Name: word_list, dtype: int64"
      ]
     },
     "execution_count": 17,
     "metadata": {},
     "output_type": "execute_result"
    }
   ],
   "source": [
    "rational_df.loc[lambda df: df['y_pred'] == 1]['word_list'].value_counts().head(10)"
   ]
  },
  {
   "cell_type": "code",
   "execution_count": null,
   "metadata": {},
   "outputs": [],
   "source": []
  },
  {
   "cell_type": "code",
   "execution_count": null,
   "metadata": {},
   "outputs": [],
   "source": []
  },
  {
   "cell_type": "code",
   "execution_count": null,
   "metadata": {},
   "outputs": [],
   "source": []
  },
  {
   "cell_type": "code",
   "execution_count": null,
   "metadata": {},
   "outputs": [],
   "source": []
  }
 ],
 "metadata": {
  "hide_input": false,
  "kernelspec": {
   "display_name": "Python 3",
   "language": "python",
   "name": "python3"
  },
  "language_info": {
   "codemirror_mode": {
    "name": "ipython",
    "version": 3
   },
   "file_extension": ".py",
   "mimetype": "text/x-python",
   "name": "python",
   "nbconvert_exporter": "python",
   "pygments_lexer": "ipython3",
   "version": "3.7.3"
  }
 },
 "nbformat": 4,
 "nbformat_minor": 2
}
