{
 "cells": [
  {
   "cell_type": "code",
   "execution_count": 11,
   "metadata": {},
   "outputs": [],
   "source": [
    "import re\n",
    "import numpy as np\n",
    "from sklearn.metrics import roc_auc_score\n",
    "import fasttext\n",
    "import pandas as pd\n",
    "from collections import Counter\n",
    "%matplotlib inline\n",
    "import matplotlib.pyplot as plt\n",
    "import numpy as np"
   ]
  },
  {
   "cell_type": "code",
   "execution_count": 8,
   "metadata": {},
   "outputs": [],
   "source": [
    "model = fasttext.train_supervised(\n",
    "    'data/fasttext_processed_data_train_balanced.txt',\n",
    "    minn=3,\n",
    "    minCount=100,\n",
    ")"
   ]
  },
  {
   "cell_type": "code",
   "execution_count": 27,
   "metadata": {},
   "outputs": [
    {
     "data": {
      "text/plain": [
       "21609"
      ]
     },
     "execution_count": 27,
     "metadata": {},
     "output_type": "execute_result"
    }
   ],
   "source": [
    "len(list(set(model.words)))"
   ]
  },
  {
   "cell_type": "code",
   "execution_count": 9,
   "metadata": {},
   "outputs": [],
   "source": [
    "test_data = open('data/fasttext_processed_data_test_unbalanced.txt').read().split('\\n')[:-1]\n",
    "test_data, y_true = list(zip(*list(map(lambda x: tuple(x.split('__label__')), test_data))))\n",
    "test_data = list(test_data)\n",
    "y_true = [int(x) for x in y_true]"
   ]
  },
  {
   "cell_type": "code",
   "execution_count": null,
   "metadata": {},
   "outputs": [],
   "source": [
    "y_pred, y_prob = model.predict(test_data)\n",
    "y_pred = np.array(y_pred).ravel()\n",
    "y_pred = list(map(lambda x: int(x.replace('__label__', '')), y_pred))\n",
    "y_prob = y_prob.ravel()\n",
    "y_prob = list(map(lambda x: x[1] if x[0] == 1 else 1 - x[1], zip(y_pred, y_prob)))"
   ]
  },
  {
   "cell_type": "markdown",
   "metadata": {},
   "source": [
    "Fast text AUC"
   ]
  },
  {
   "cell_type": "code",
   "execution_count": 14,
   "metadata": {},
   "outputs": [
    {
     "data": {
      "text/plain": [
       "0.8806910607906715"
      ]
     },
     "execution_count": 14,
     "metadata": {},
     "output_type": "execute_result"
    }
   ],
   "source": [
    "roc_auc_score(y_true, y_prob)"
   ]
  },
  {
   "cell_type": "markdown",
   "metadata": {},
   "source": [
    "True ratio 1s/0s"
   ]
  },
  {
   "cell_type": "code",
   "execution_count": 23,
   "metadata": {},
   "outputs": [
    {
     "data": {
      "text/plain": [
       "0    246089\n",
       "1     11379\n",
       "dtype: int64"
      ]
     },
     "execution_count": 23,
     "metadata": {},
     "output_type": "execute_result"
    }
   ],
   "source": [
    "pd.Series(y_true).value_counts()"
   ]
  },
  {
   "cell_type": "markdown",
   "metadata": {},
   "source": [
    "Predicted ratio 1s/0s"
   ]
  },
  {
   "cell_type": "code",
   "execution_count": 24,
   "metadata": {},
   "outputs": [
    {
     "data": {
      "text/plain": [
       "0    184508\n",
       "1     72960\n",
       "dtype: int64"
      ]
     },
     "execution_count": 24,
     "metadata": {},
     "output_type": "execute_result"
    }
   ],
   "source": [
    "pd.Series(y_pred).value_counts()"
   ]
  },
  {
   "cell_type": "code",
   "execution_count": 15,
   "metadata": {},
   "outputs": [],
   "source": [
    "test_df = pd.concat([\n",
    "    pd.Series(test_data).to_frame('X'),\n",
    "    pd.Series(y_true).to_frame('y')\n",
    "], axis=1)"
   ]
  },
  {
   "cell_type": "code",
   "execution_count": 16,
   "metadata": {},
   "outputs": [],
   "source": [
    "temp_sample = test_df.sample(500)"
   ]
  },
  {
   "cell_type": "code",
   "execution_count": 19,
   "metadata": {},
   "outputs": [],
   "source": [
    "words_0 = temp_sample.loc[lambda s: s['y']==0]['X'].str.split(expand=True).unstack().dropna().unique()\n",
    "words_1 = temp_sample.loc[lambda s: s['y']==1]['X'].str.split(expand=True).unstack().dropna().unique()\n",
    "\n",
    "words_0_unique = pd.Series(words_0).loc[lambda s: ~s.isin(words_1)]\n",
    "words_1_unique = pd.Series(words_1).loc[lambda s: ~s.isin(words_0)]\n",
    "\n",
    "words_0_in_model = words_0_unique.loc[lambda s: s.apply(lambda x: x in model)]\n",
    "words_1_in_model = words_1_unique.loc[lambda s: s.apply(lambda x: x in model)]\n",
    "\n",
    "words_1_sample = words_1_in_model.sample(10)\n",
    "words_1_embedding = [model[w] for w in words_1_sample]\n",
    "words_1_embedding = np.array(words_1_embedding)\n",
    "\n",
    "words_0_sample = words_0_in_model.sample(10)\n",
    "words_0_embedding = [model[w] for w in words_0_sample]\n",
    "words_0_embedding = np.array(words_0_embedding)"
   ]
  },
  {
   "cell_type": "code",
   "execution_count": 20,
   "metadata": {},
   "outputs": [],
   "source": [
    "import numpy as np\n",
    "from sklearn.decomposition import PCA\n",
    "pca = PCA(n_components=2)\n",
    "emb_2d = pca.fit_transform(np.vstack((words_0_embedding, words_1_embedding)))"
   ]
  },
  {
   "cell_type": "markdown",
   "metadata": {},
   "source": [
    "fast text embeddings"
   ]
  },
  {
   "cell_type": "code",
   "execution_count": 21,
   "metadata": {},
   "outputs": [
    {
     "data": {
      "text/plain": [
       "<matplotlib.legend.Legend at 0x278c689dbe0>"
      ]
     },
     "execution_count": 21,
     "metadata": {},
     "output_type": "execute_result"
    },
    {
     "data": {
      "image/png": "[encoded data removed]",
      "text/plain": [
       "<Figure size 864x576 with 1 Axes>"
      ]
     },
     "metadata": {
      "needs_background": "light"
     },
     "output_type": "display_data"
    }
   ],
   "source": [
    "plt.figure(figsize=(12, 8))\n",
    "plt.scatter(emb_2d[:10, 0], emb_2d[:10, 1], marker='x', label='y=0')\n",
    "for idx, word in enumerate(words_0_sample):\n",
    "    plt.text(emb_2d[idx, 0], emb_2d[idx, 1], word)\n",
    "    \n",
    "plt.scatter(emb_2d[10:, 0], emb_2d[10:, 1], marker='x', label='y=1')\n",
    "for idx, word in enumerate(words_1_sample):\n",
    "    plt.text(emb_2d[idx+10, 0], emb_2d[idx+10, 1], word)\n",
    "    \n",
    "plt.legend()"
   ]
  }
 ],
 "metadata": {
  "hide_input": false,
  "kernelspec": {
   "display_name": "Python 3",
   "language": "python",
   "name": "python3"
  },
  "language_info": {
   "codemirror_mode": {
    "name": "ipython",
    "version": 3
   },
   "file_extension": ".py",
   "mimetype": "text/x-python",
   "name": "python",
   "nbconvert_exporter": "python",
   "pygments_lexer": "ipython3",
   "version": "3.7.3"
  }
 },
 "nbformat": 4,
 "nbformat_minor": 2
}
