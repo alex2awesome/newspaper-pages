{
 "cells": [
  {
   "cell_type": "code",
   "execution_count": 1,
   "metadata": {},
   "outputs": [],
   "source": [
    "import pandas as pd\n",
    "import os\n",
    "import glob\n",
    "import json\n",
    "import codecs\n",
    "from tqdm import tqdm_notebook as tqdm\n",
    "%matplotlib inline\n",
    "import matplotlib.pyplot as plt\n",
    "from bs4 import BeautifulSoup\n",
    "import datefinder\n",
    "import datetime\n",
    "import swifter\n",
    "import numpy as np"
   ]
  },
  {
   "cell_type": "markdown",
   "metadata": {},
   "source": [
    "# Appeals Cases"
   ]
  },
  {
   "cell_type": "code",
   "execution_count": 2,
   "metadata": {},
   "outputs": [],
   "source": [
    "## get all courts \n",
    "court_jsons = []\n",
    "for x in glob.glob('../court_documents/all-courts/*.json'):\n",
    "    jsn_str = codecs.open(x, encoding='utf-8').read()\n",
    "    court_json = json.loads(jsn_str)\n",
    "    court_jsons.append(court_json)\n",
    "\n",
    "court_df = pd.DataFrame(court_jsons).loc[lambda df: df['full_name'].notnull()]\n",
    "\n",
    "## get just appeals courts\n",
    "appeals_courts = (court_df\n",
    " .loc[lambda df: df['short_name'].str.contains('Appeals')]\n",
    ")\n",
    "\n",
    "## get processed appeals courts\n",
    "court_opinions = pd.Series(glob.glob(\"../court_documents/opinions/*\"))\n",
    "## .csv files\n",
    "csv_files = (\n",
    "    court_opinions.loc[lambda s: s.str.endswith('.csv')]\n",
    "        .to_frame('csv')\n",
    "        .assign(name=lambda df: df['csv'].apply(os.path.basename).str.replace('.csv', ''))\n",
    "        .set_index('name')\n",
    ")\n",
    "\n",
    "appeals = (csv_files\n",
    "           .reindex(appeals_courts['id'])\n",
    "           .loc[lambda df: df['csv'].notnull()]\n",
    "           .assign(size=lambda df: df['csv'].apply(os.path.getsize))\n",
    "          )"
   ]
  },
  {
   "cell_type": "code",
   "execution_count": 24,
   "metadata": {
    "scrolled": true
   },
   "outputs": [
    {
     "data": {
      "text/html": [
       "<div>\n",
       "<style scoped>\n",
       "    .dataframe tbody tr th:only-of-type {\n",
       "        vertical-align: middle;\n",
       "    }\n",
       "\n",
       "    .dataframe tbody tr th {\n",
       "        vertical-align: top;\n",
       "    }\n",
       "\n",
       "    .dataframe thead th {\n",
       "        text-align: right;\n",
       "    }\n",
       "</style>\n",
       "<table border=\"1\" class=\"dataframe\">\n",
       "  <thead>\n",
       "    <tr style=\"text-align: right;\">\n",
       "      <th></th>\n",
       "      <th>csv</th>\n",
       "      <th>size</th>\n",
       "      <th>num_rows</th>\n",
       "      <th>ratio</th>\n",
       "    </tr>\n",
       "  </thead>\n",
       "  <tbody>\n",
       "    <tr>\n",
       "      <th>arkctapp</th>\n",
       "      <td>../court_documents/opinions\\arkctapp.csv</td>\n",
       "      <td>173154937</td>\n",
       "      <td>5410</td>\n",
       "      <td>32006.0</td>\n",
       "    </tr>\n",
       "    <tr>\n",
       "      <th>utahctapp</th>\n",
       "      <td>../court_documents/opinions\\utahctapp.csv</td>\n",
       "      <td>167008887</td>\n",
       "      <td>3454</td>\n",
       "      <td>48352.0</td>\n",
       "    </tr>\n",
       "    <tr>\n",
       "      <th>scctapp</th>\n",
       "      <td>../court_documents/opinions\\scctapp.csv</td>\n",
       "      <td>157078643</td>\n",
       "      <td>3861</td>\n",
       "      <td>40683.0</td>\n",
       "    </tr>\n",
       "    <tr>\n",
       "      <th>massappct</th>\n",
       "      <td>../court_documents/opinions\\massappct.csv</td>\n",
       "      <td>151820779</td>\n",
       "      <td>3639</td>\n",
       "      <td>41720.0</td>\n",
       "    </tr>\n",
       "    <tr>\n",
       "      <th>oklacivapp</th>\n",
       "      <td>../court_documents/opinions\\oklacivapp.csv</td>\n",
       "      <td>142552510</td>\n",
       "      <td>3222</td>\n",
       "      <td>44243.0</td>\n",
       "    </tr>\n",
       "  </tbody>\n",
       "</table>\n",
       "</div>"
      ],
      "text/plain": [
       "                                                   csv       size  num_rows  \\\n",
       "arkctapp      ../court_documents/opinions\\arkctapp.csv  173154937      5410   \n",
       "utahctapp    ../court_documents/opinions\\utahctapp.csv  167008887      3454   \n",
       "scctapp        ../court_documents/opinions\\scctapp.csv  157078643      3861   \n",
       "massappct    ../court_documents/opinions\\massappct.csv  151820779      3639   \n",
       "oklacivapp  ../court_documents/opinions\\oklacivapp.csv  142552510      3222   \n",
       "\n",
       "              ratio  \n",
       "arkctapp    32006.0  \n",
       "utahctapp   48352.0  \n",
       "scctapp     40683.0  \n",
       "massappct   41720.0  \n",
       "oklacivapp  44243.0  "
      ]
     },
     "execution_count": 24,
     "metadata": {},
     "output_type": "execute_result"
    }
   ],
   "source": [
    "appeals.merge(\n",
    "    pd.Series(opinion_dfs).apply(lambda x: x.shape[0]).to_frame('num_rows'),\n",
    "    left_index=True,\n",
    "    right_index=True\n",
    ").assign(ratio=lambda df: (df['size']/df['num_rows']).round(0)).sort_values('size', ascending=False).head()"
   ]
  },
  {
   "cell_type": "code",
   "execution_count": 30,
   "metadata": {},
   "outputs": [],
   "source": [
    "# csv_files.assign(size=lambda df: df['csv'].apply(os.path.getsize))"
   ]
  },
  {
   "cell_type": "code",
   "execution_count": null,
   "metadata": {},
   "outputs": [],
   "source": []
  },
  {
   "cell_type": "code",
   "execution_count": 28,
   "metadata": {},
   "outputs": [],
   "source": [
    "def get_text(row):\n",
    "    if pd.notnull(row['plain_text']) and row['plain_text'] != '':\n",
    "        return row['plain_text']\n",
    "    if pd.notnull(row['html_columbia']):\n",
    "        return BeautifulSoup(row['html_columbia']).get_text()\n",
    "    if pd.notnull(row['html_lawbox']):\n",
    "        return BeautifulSoup(row['html_lawbox']).get_text()\n",
    "    return ''\n",
    "\n",
    "def get_dates(text):\n",
    "    try:\n",
    "        date_list = list(datefinder.find_dates(text[:100]))\n",
    "        date_list = list(filter(lambda x: x < datetime.datetime(2018, 1, 1), date_list))\n",
    "        date_list = list(filter(lambda x: x > datetime.datetime(1980, 1, 1), date_list))\n",
    "        return date_list[0]\n",
    "    except:\n",
    "        return"
   ]
  },
  {
   "cell_type": "code",
   "execution_count": 43,
   "metadata": {},
   "outputs": [
    {
     "data": {
      "application/vnd.jupyter.widget-view+json": {
       "model_id": "57fca3c831ae4fe38a0f54bb23697ab7",
       "version_major": 2,
       "version_minor": 0
      },
      "text/plain": [
       "HBox(children=(IntProgress(value=0, max=51), HTML(value='')))"
      ]
     },
     "metadata": {},
     "output_type": "display_data"
    },
    {
     "name": "stderr",
     "output_type": "stream",
     "text": [
      "C:\\ProgramData\\Anaconda3\\lib\\site-packages\\dateutil\\parser\\_parser.py:1206: UnknownTimezoneWarning: tzname CST identified but not understood.  Pass `tzinfos` argument in order to correctly return a timezone-aware datetime.  In a future version, this will raise an exception.\n",
      "  category=UnknownTimezoneWarning)\n",
      "C:\\ProgramData\\Anaconda3\\lib\\site-packages\\dateutil\\parser\\_parser.py:1206: UnknownTimezoneWarning: tzname CDT identified but not understood.  Pass `tzinfos` argument in order to correctly return a timezone-aware datetime.  In a future version, this will raise an exception.\n",
      "  category=UnknownTimezoneWarning)\n",
      "C:\\ProgramData\\Anaconda3\\lib\\site-packages\\dateutil\\parser\\_parser.py:1206: UnknownTimezoneWarning: tzname M identified but not understood.  Pass `tzinfos` argument in order to correctly return a timezone-aware datetime.  In a future version, this will raise an exception.\n",
      "  category=UnknownTimezoneWarning)\n",
      "C:\\ProgramData\\Anaconda3\\lib\\site-packages\\dateutil\\parser\\_parser.py:1206: UnknownTimezoneWarning: tzname ATTO identified but not understood.  Pass `tzinfos` argument in order to correctly return a timezone-aware datetime.  In a future version, this will raise an exception.\n",
      "  category=UnknownTimezoneWarning)\n",
      "C:\\ProgramData\\Anaconda3\\lib\\site-packages\\dateutil\\parser\\_parser.py:1206: UnknownTimezoneWarning: tzname DUST identified but not understood.  Pass `tzinfos` argument in order to correctly return a timezone-aware datetime.  In a future version, this will raise an exception.\n",
      "  category=UnknownTimezoneWarning)\n",
      "C:\\ProgramData\\Anaconda3\\lib\\site-packages\\dateutil\\parser\\_parser.py:1206: UnknownTimezoneWarning: tzname AT identified but not understood.  Pass `tzinfos` argument in order to correctly return a timezone-aware datetime.  In a future version, this will raise an exception.\n",
      "  category=UnknownTimezoneWarning)\n",
      "C:\\ProgramData\\Anaconda3\\lib\\site-packages\\dateutil\\parser\\_parser.py:1206: UnknownTimezoneWarning: tzname CAT identified but not understood.  Pass `tzinfos` argument in order to correctly return a timezone-aware datetime.  In a future version, this will raise an exception.\n",
      "  category=UnknownTimezoneWarning)\n"
     ]
    }
   ],
   "source": [
    "opinion_dfs = []\n",
    "for idx, appeals_file, size in tqdm(appeals.sort_values('size').iloc[2:].itertuples(), total=len(appeals)):\n",
    "    fn = os.path.basename(appeals_file).replace('.csv', '')\n",
    "    \n",
    "    opinion_chunks = pd.read_csv(appeals_file, chunksize=1000)\n",
    "    for df in opinion_chunks:\n",
    "        plain_text = df.apply(get_text, axis=1).to_frame('plain_text')\n",
    "        plain_text['date'] = plain_text['plain_text'].apply(get_dates)\n",
    "        plain_text['file'] = fn \n",
    "        plain_text = plain_text.loc[lambda df: df['date'] > datetime.datetime(2008, 1, 1)]\n",
    "        opinion_dfs.append(plain_text)"
   ]
  },
  {
   "cell_type": "code",
   "execution_count": 65,
   "metadata": {},
   "outputs": [],
   "source": [
    "opinion_df_all = pd.concat(opinion_dfs)"
   ]
  },
  {
   "cell_type": "code",
   "execution_count": 67,
   "metadata": {
    "scrolled": true
   },
   "outputs": [],
   "source": [
    "opinion_df_all.to_csv(\"../court_documents/unprocessed_appeals_plain_text__current.csv\")"
   ]
  },
  {
   "cell_type": "code",
   "execution_count": 76,
   "metadata": {},
   "outputs": [
    {
     "data": {
      "text/plain": [
       "<matplotlib.axes._subplots.AxesSubplot at 0x192697362b0>"
      ]
     },
     "execution_count": 76,
     "metadata": {},
     "output_type": "execute_result"
    },
    {
     "data": {
      "image/png": "[encoded data removed]",
      "text/plain": [
       "<Figure size 432x288 with 1 Axes>"
      ]
     },
     "metadata": {
      "needs_background": "light"
     },
     "output_type": "display_data"
    }
   ],
   "source": [
    "opinion_df_all.assign(c=1).groupby(pd.Grouper(key='date', freq='365D'))['c'].sum().plot()"
   ]
  },
  {
   "cell_type": "markdown",
   "metadata": {},
   "source": [
    "# Modeling"
   ]
  },
  {
   "cell_type": "code",
   "execution_count": null,
   "metadata": {},
   "outputs": [],
   "source": []
  },
  {
   "cell_type": "code",
   "execution_count": null,
   "metadata": {},
   "outputs": [],
   "source": []
  },
  {
   "cell_type": "code",
   "execution_count": null,
   "metadata": {},
   "outputs": [],
   "source": []
  },
  {
   "cell_type": "code",
   "execution_count": null,
   "metadata": {},
   "outputs": [],
   "source": []
  },
  {
   "cell_type": "code",
   "execution_count": 71,
   "metadata": {},
   "outputs": [
    {
     "data": {
      "text/plain": [
       "(8715,)"
      ]
     },
     "execution_count": 71,
     "metadata": {},
     "output_type": "execute_result"
    }
   ],
   "source": [
    "t.shape"
   ]
  },
  {
   "cell_type": "code",
   "execution_count": 50,
   "metadata": {},
   "outputs": [
    {
     "data": {
      "text/plain": [
       "(145783, 4)"
      ]
     },
     "execution_count": 50,
     "metadata": {},
     "output_type": "execute_result"
    }
   ],
   "source": [
    "opinion_df_all.shape"
   ]
  },
  {
   "cell_type": "code",
   "execution_count": 46,
   "metadata": {},
   "outputs": [
    {
     "data": {
      "text/plain": [
       "False    12587\n",
       "True         6\n",
       "Name: plain_text, dtype: int64"
      ]
     },
     "execution_count": 46,
     "metadata": {},
     "output_type": "execute_result"
    }
   ],
   "source": [
    "t.str.contains('SUMMARY DISPOSITION ORDER').value_counts()"
   ]
  },
  {
   "cell_type": "code",
   "execution_count": 50,
   "metadata": {},
   "outputs": [
    {
     "data": {
      "text/plain": [
       "False    12373\n",
       "True       220\n",
       "Name: plain_text, dtype: int64"
      ]
     },
     "execution_count": 50,
     "metadata": {},
     "output_type": "execute_result"
    }
   ],
   "source": [
    "t.str.contains('FACT').value_counts()"
   ]
  },
  {
   "cell_type": "code",
   "execution_count": 64,
   "metadata": {},
   "outputs": [
    {
     "data": {
      "text/plain": [
       "False    6912\n",
       "True     1788\n",
       "Name: plain_text, dtype: int64"
      ]
     },
     "execution_count": 64,
     "metadata": {},
     "output_type": "execute_result"
    }
   ],
   "source": [
    "t.str.lower().str.contains('background').value_counts()"
   ]
  },
  {
   "cell_type": "code",
   "execution_count": null,
   "metadata": {},
   "outputs": [],
   "source": []
  },
  {
   "cell_type": "code",
   "execution_count": null,
   "metadata": {},
   "outputs": [],
   "source": []
  },
  {
   "cell_type": "code",
   "execution_count": null,
   "metadata": {},
   "outputs": [],
   "source": []
  },
  {
   "cell_type": "code",
   "execution_count": null,
   "metadata": {},
   "outputs": [],
   "source": []
  },
  {
   "cell_type": "code",
   "execution_count": 4,
   "metadata": {},
   "outputs": [],
   "source": [
    "from sklearn.feature_extraction.text import CountVectorizer\n",
    "from sklearn.linear_model import LogisticRegressionCV\n",
    "from sklearn.metrics import roc_auc_score\n",
    "\n",
    "court_cv = CountVectorizer(min_df=.005, max_df=.4, ngram_range=(2, 2))\n",
    "lr = LogisticRegressionCV(max_iter=2000)\n",
    "## fit court\n",
    "court_bow = court_cv.fit_transform(opinion_df_all['plain_text'])"
   ]
  },
  {
   "cell_type": "code",
   "execution_count": 91,
   "metadata": {
    "scrolled": true
   },
   "outputs": [
    {
     "name": "stderr",
     "output_type": "stream",
     "text": [
      "C:\\ProgramData\\Anaconda3\\lib\\site-packages\\IPython\\core\\interactiveshell.py:3057: DtypeWarning: Columns (1,4) have mixed types. Specify dtype option on import or set low_memory=False.\n",
      "  interactivity=interactivity, compiler=compiler, result=result)\n",
      "C:\\ProgramData\\Anaconda3\\lib\\site-packages\\IPython\\core\\interactiveshell.py:3057: DtypeWarning: Columns (6) have mixed types. Specify dtype option on import or set low_memory=False.\n",
      "  interactivity=interactivity, compiler=compiler, result=result)\n"
     ]
    },
    {
     "name": "stdout",
     "output_type": "stream",
     "text": [
      "newspaper BOW...\n",
      "print training LR...\n"
     ]
    },
    {
     "name": "stderr",
     "output_type": "stream",
     "text": [
      "C:\\ProgramData\\Anaconda3\\lib\\site-packages\\sklearn\\model_selection\\_split.py:1978: FutureWarning: The default value of cv will change from 3 to 5 in version 0.22. Specify it explicitly to silence this warning.\n",
      "  warnings.warn(CV_WARNING, FutureWarning)\n",
      "C:\\ProgramData\\Anaconda3\\lib\\site-packages\\sklearn\\linear_model\\logistic.py:947: ConvergenceWarning: lbfgs failed to converge. Increase the number of iterations.\n",
      "  \"of iterations.\", ConvergenceWarning)\n",
      "C:\\ProgramData\\Anaconda3\\lib\\site-packages\\sklearn\\linear_model\\logistic.py:947: ConvergenceWarning: lbfgs failed to converge. Increase the number of iterations.\n",
      "  \"of iterations.\", ConvergenceWarning)\n",
      "C:\\ProgramData\\Anaconda3\\lib\\site-packages\\sklearn\\linear_model\\logistic.py:947: ConvergenceWarning: lbfgs failed to converge. Increase the number of iterations.\n",
      "  \"of iterations.\", ConvergenceWarning)\n",
      "C:\\ProgramData\\Anaconda3\\lib\\site-packages\\sklearn\\linear_model\\logistic.py:947: ConvergenceWarning: lbfgs failed to converge. Increase the number of iterations.\n",
      "  \"of iterations.\", ConvergenceWarning)\n",
      "C:\\ProgramData\\Anaconda3\\lib\\site-packages\\sklearn\\linear_model\\logistic.py:947: ConvergenceWarning: lbfgs failed to converge. Increase the number of iterations.\n",
      "  \"of iterations.\", ConvergenceWarning)\n",
      "C:\\ProgramData\\Anaconda3\\lib\\site-packages\\sklearn\\linear_model\\logistic.py:947: ConvergenceWarning: lbfgs failed to converge. Increase the number of iterations.\n",
      "  \"of iterations.\", ConvergenceWarning)\n",
      "C:\\ProgramData\\Anaconda3\\lib\\site-packages\\sklearn\\linear_model\\logistic.py:947: ConvergenceWarning: lbfgs failed to converge. Increase the number of iterations.\n",
      "  \"of iterations.\", ConvergenceWarning)\n",
      "C:\\ProgramData\\Anaconda3\\lib\\site-packages\\sklearn\\linear_model\\logistic.py:947: ConvergenceWarning: lbfgs failed to converge. Increase the number of iterations.\n",
      "  \"of iterations.\", ConvergenceWarning)\n",
      "C:\\ProgramData\\Anaconda3\\lib\\site-packages\\sklearn\\linear_model\\logistic.py:947: ConvergenceWarning: lbfgs failed to converge. Increase the number of iterations.\n",
      "  \"of iterations.\", ConvergenceWarning)\n",
      "C:\\ProgramData\\Anaconda3\\lib\\site-packages\\sklearn\\linear_model\\logistic.py:947: ConvergenceWarning: lbfgs failed to converge. Increase the number of iterations.\n",
      "  \"of iterations.\", ConvergenceWarning)\n",
      "C:\\ProgramData\\Anaconda3\\lib\\site-packages\\sklearn\\linear_model\\logistic.py:947: ConvergenceWarning: lbfgs failed to converge. Increase the number of iterations.\n",
      "  \"of iterations.\", ConvergenceWarning)\n",
      "C:\\ProgramData\\Anaconda3\\lib\\site-packages\\sklearn\\linear_model\\logistic.py:947: ConvergenceWarning: lbfgs failed to converge. Increase the number of iterations.\n",
      "  \"of iterations.\", ConvergenceWarning)\n",
      "C:\\ProgramData\\Anaconda3\\lib\\site-packages\\sklearn\\linear_model\\logistic.py:947: ConvergenceWarning: lbfgs failed to converge. Increase the number of iterations.\n",
      "  \"of iterations.\", ConvergenceWarning)\n",
      "C:\\ProgramData\\Anaconda3\\lib\\site-packages\\sklearn\\linear_model\\logistic.py:947: ConvergenceWarning: lbfgs failed to converge. Increase the number of iterations.\n",
      "  \"of iterations.\", ConvergenceWarning)\n",
      "C:\\ProgramData\\Anaconda3\\lib\\site-packages\\sklearn\\linear_model\\logistic.py:947: ConvergenceWarning: lbfgs failed to converge. Increase the number of iterations.\n",
      "  \"of iterations.\", ConvergenceWarning)\n"
     ]
    },
    {
     "name": "stdout",
     "output_type": "stream",
     "text": [
      "predicting...\n"
     ]
    }
   ],
   "source": [
    "balanced_newspaper_train = pd.read_csv('data/processed_train_time_balanced_df.csv', index_col=0)\n",
    "unbalanced_newspaper_test = pd.read_csv('data/processed_test_time_unbalanced_df.csv', index_col=0)\n",
    "print(\"newspaper BOW...\")\n",
    "newspaper_bow = court_cv.transform(balanced_newspaper_train['processed_bodies'])\n",
    "print(\"training LR...\")\n",
    "lr.fit(newspaper_bow, balanced_newspaper_train['label'])\n",
    "newspaper_test_bow = court_cv.transform(unbalanced_newspaper_test['processed_bodies'])\n",
    "print(\"predicting...\")\n",
    "y_pred = lr.predict_proba(newspaper_test_bow)"
   ]
  },
  {
   "cell_type": "code",
   "execution_count": 136,
   "metadata": {},
   "outputs": [
    {
     "data": {
      "text/plain": [
       "0.8767141085540295"
      ]
     },
     "execution_count": 136,
     "metadata": {},
     "output_type": "execute_result"
    }
   ],
   "source": [
    "roc_auc_score(unbalanced_newspaper_test['label'], y_pred[:, 1])"
   ]
  },
  {
   "cell_type": "code",
   "execution_count": 97,
   "metadata": {},
   "outputs": [],
   "source": [
    "voc = pd.Series(court_cv.vocabulary_).sort_values().index\n",
    "\n",
    "## coefficient series\n",
    "coef_s = pd.Series(\n",
    "    lr.coef_[0],\n",
    "    index=voc,\n",
    ")\n",
    "## word count series \n",
    "word_counts_court_s = pd.Series(np.array((court_bow == 1).sum(axis=0)).ravel(), index=voc)\n",
    "word_counts_s = pd.Series(np.array((newspaper_bow == 1).sum(axis=0)).ravel(), index=voc)\n",
    "coef_df = pd.concat([\n",
    "    word_counts_s.to_frame('counts'),\n",
    "    coef_s.to_frame('coef')\n",
    "], axis=1)"
   ]
  },
  {
   "cell_type": "code",
   "execution_count": 141,
   "metadata": {},
   "outputs": [],
   "source": [
    "coef_df.to_csv('models/2019-09-05__coef-df-courts.csv')"
   ]
  },
  {
   "cell_type": "code",
   "execution_count": 140,
   "metadata": {},
   "outputs": [
    {
     "data": {
      "image/png": "[encoded data removed]",
      "text/plain": [
       "<Figure size 216x648 with 1 Axes>"
      ]
     },
     "metadata": {
      "needs_background": "light"
     },
     "output_type": "display_data"
    }
   ],
   "source": [
    "top_k = 20\n",
    "figsize= (3,9)\n",
    "cutoff = 300\n",
    "\n",
    "(coef_df\n",
    " .loc[lambda df: df['counts'] > cutoff]['coef']\n",
    " .sort_values()\n",
    " .pipe(lambda s: pd.concat([s[:top_k], s[-top_k:]]))\n",
    " .plot(kind='barh', figsize=figsize, title='coefficients, court-opinions')\n",
    ")\n",
    "plt.xlabel('Coefficient')\n",
    "plt.savefig('figures/2019-09-05__coefficients-court-documents.png', bbox_inches='tight')\n",
    "plt.savefig('figures/2019-09-05__coefficients-court-documents.pdf', bbox_inches='tight')"
   ]
  },
  {
   "cell_type": "code",
   "execution_count": 109,
   "metadata": {},
   "outputs": [
    {
     "data": {
      "text/plain": [
       "(1256, 2)"
      ]
     },
     "execution_count": 109,
     "metadata": {},
     "output_type": "execute_result"
    }
   ],
   "source": [
    "coef_df.loc[lambda df: df['counts']==0].shape"
   ]
  },
  {
   "cell_type": "code",
   "execution_count": 110,
   "metadata": {},
   "outputs": [
    {
     "data": {
      "text/plain": [
       "(18937, 2)"
      ]
     },
     "execution_count": 110,
     "metadata": {},
     "output_type": "execute_result"
    }
   ],
   "source": [
    "coef_df.shape"
   ]
  },
  {
   "cell_type": "code",
   "execution_count": 111,
   "metadata": {},
   "outputs": [],
   "source": [
    "court_sorted = pd.concat([\n",
    "    opinion_df_all.reset_index(),\n",
    "    pd.Series(lr.predict_proba(court_bow)[:, 1]).to_frame('y_pred'),\n",
    "], axis=1).sort_values('y_pred', ascending=False)"
   ]
  },
  {
   "cell_type": "code",
   "execution_count": 135,
   "metadata": {
    "scrolled": true
   },
   "outputs": [],
   "source": [
    "court_sorted.to_csv(\"../court_documents/scored_appeals.csv\")"
   ]
  },
  {
   "cell_type": "code",
   "execution_count": 1,
   "metadata": {},
   "outputs": [],
   "source": [
    "import pandas as pd"
   ]
  },
  {
   "cell_type": "code",
   "execution_count": 2,
   "metadata": {},
   "outputs": [],
   "source": [
    "court_sorted = pd.read_csv(\"../court_documents/scored_appeals.csv\")"
   ]
  },
  {
   "cell_type": "code",
   "execution_count": 13,
   "metadata": {},
   "outputs": [
    {
     "name": "stdout",
     "output_type": "stream",
     "text": [
      "                                                              September 8, 2015\n",
      "                                NO. PD-1067-15\n",
      "\n",
      "                               IN THE\n",
      "                 COURT OF CRIMINAL APPEALS OF TEXAS\n",
      "\n",
      "\n",
      "             EX PARTE JAMES RICHARD \"RICK\" PERRY,\n",
      "                              Appellant\n",
      "      ________________________________________________________\n",
      "\n",
      "               On Appeal from the 390th Judicial District Court,\n",
      "             Travis County, Texas, Cause No. D-1-DC-14-100139\n",
      "      ________________________________________________________\n",
      "\n",
      "  APPELLANT'S CROSS-PETITION FOR DISCRETIONARY REVIEW\n",
      "    ________________________________________________________\n",
      "\n",
      "\n",
      "THE BUZBEE LAW FIRM                              BAKER BOTTS L.L.P.\n",
      "Anthony G. Buzbee                                Thomas R. Phillips\n",
      "State Bar No. 24001820                           State Bar No. 00000102\n",
      "JPMorgan Chase Tower                             San Jacinto Center\n",
      "600 Travis Street, Suite 7300             \n"
     ]
    }
   ],
   "source": [
    "print(court_sorted.iloc[7]['plain_text'][:1000])"
   ]
  },
  {
   "cell_type": "code",
   "execution_count": null,
   "metadata": {},
   "outputs": [],
   "source": [
    "# top examples\n",
    "\n",
    "# Tiger Oil Corporation (New Tiger)[1] challenges several superior court orders arising from (1) Model Toxics Control Act (MTCA)[2] litigation and a consent decree entered after Washington's Department of Ecology sued New Tiger for gasoline spills in Yakima during the late 1970s and early 1980s, and (2) New Tiger's incomplete remediation efforts under the consent decree...\n",
    "# Mr. Long was convicted of the shooting death of a fourteen-year-old boy, Ronald Williamson, two weeks after Mr. Williamson threatened Mr. Long at gunpoint...\n",
    "# In this appeal involving a dispute between law enforcement authorities and the Cayuga Indian Nation concerning the collection of cigarette sales taxes...\n",
    "# ...a two-count indictment was returned against Governor Perry for violating Sections 36.03(a)(1), 1.07(a)(9)(F) (Count II, coercion of publicservant), and 39.02(a)(2) (Count I, abuse of official capacity) of the Texas Penal Code by threatening to exercise, and then actually exercising, the authority to veto appropriations vested in the Governor by the Texas Constitution. \n",
    "\n",
    "\n",
    "# bottom examples\n",
    "\n",
    "# ...It is also a matter of record that Jones held hostage his infant son in the Dominican Republic for five months to gain financial advantage in the pending divorce that was finalized on July 17, 2013...\n",
    "# ...filed against the City by current and former police officers, firefighters, and rescue officers (the Officers) alleging that the City breached its contract with them regarding their pay...\n",
    "# ...in this appeal, Defendant-Appellant Brenda Irene Dickson-Weinberg (Wife or Defendant) challenges (1) the divorce decree entered by the Family Court of the First Circuit (family court)[1] on May 18, 2006 (Divorce Decree), which ended her marriage to Plaintiff-Appellee Jan Michael Weinberg..."
   ]
  },
  {
   "cell_type": "code",
   "execution_count": null,
   "metadata": {},
   "outputs": [],
   "source": []
  },
  {
   "cell_type": "code",
   "execution_count": null,
   "metadata": {},
   "outputs": [],
   "source": []
  },
  {
   "cell_type": "code",
   "execution_count": null,
   "metadata": {},
   "outputs": [],
   "source": []
  },
  {
   "cell_type": "code",
   "execution_count": null,
   "metadata": {},
   "outputs": [],
   "source": []
  },
  {
   "cell_type": "markdown",
   "metadata": {},
   "source": [
    "# Earlier Explorations with All Data"
   ]
  },
  {
   "cell_type": "code",
   "execution_count": 73,
   "metadata": {},
   "outputs": [
    {
     "name": "stderr",
     "output_type": "stream",
     "text": [
      "C:\\ProgramData\\Anaconda3\\lib\\site-packages\\ipykernel_launcher.py:1: FutureWarning: Sorting because non-concatenation axis is not aligned. A future version\n",
      "of pandas will change to not sort by default.\n",
      "\n",
      "To accept the future behavior, pass 'sort=False'.\n",
      "\n",
      "To retain the current behavior and silence the warning, pass 'sort=True'.\n",
      "\n",
      "  \"\"\"Entry point for launching an IPython kernel.\n"
     ]
    }
   ],
   "source": [
    "opinion_df_all = pd.concat(opinion_dfs)\n",
    "opinion_df_all = opinion_df_all.reset_index(drop=True)"
   ]
  },
  {
   "cell_type": "code",
   "execution_count": 92,
   "metadata": {},
   "outputs": [
    {
     "data": {
      "text/plain": [
       "<matplotlib.axes._subplots.AxesSubplot at 0x17a6cbfc8d0>"
      ]
     },
     "execution_count": 92,
     "metadata": {},
     "output_type": "execute_result"
    },
    {
     "data": {
      "image/png": "[encoded data removed]",
      "text/plain": [
       "<Figure size 432x288 with 1 Axes>"
      ]
     },
     "metadata": {
      "needs_background": "light"
     },
     "output_type": "display_data"
    }
   ],
   "source": [
    "opinion_df_all.assign(c=1).groupby(pd.Grouper(key='dates', freq='365D'))['c'].sum().plot()"
   ]
  },
  {
   "cell_type": "code",
   "execution_count": 89,
   "metadata": {},
   "outputs": [
    {
     "data": {
      "text/plain": [
       "alactapp       17610\n",
       "alacivapp       9710\n",
       "hawapp          7269\n",
       "arkctapp        5410\n",
       "bva             3960\n",
       "scctapp         3861\n",
       "massappct       3639\n",
       "oklacivapp      3222\n",
       "ccpa            2776\n",
       "asbca           2272\n",
       "alaskactapp     2188\n",
       "kyctapp         2125\n",
       "nmcca           1577\n",
       "acca            1469\n",
       "armfor          1218\n",
       "afcca           1138\n",
       "eca               97\n",
       "ndctapp           65\n",
       "Name: file, dtype: int64"
      ]
     },
     "execution_count": 89,
     "metadata": {},
     "output_type": "execute_result"
    }
   ],
   "source": [
    "opinion_df_all['file'].value_counts()"
   ]
  },
  {
   "cell_type": "code",
   "execution_count": null,
   "metadata": {},
   "outputs": [],
   "source": [
    "(opinion_df_all\n",
    " .loc[lambda df: df['plain_text'].notnull()]\n",
    " .to_csv(\"../court_documents/unprocessed_appeals_plain_text.csv\")\n",
    ")"
   ]
  },
  {
   "cell_type": "code",
   "execution_count": 64,
   "metadata": {},
   "outputs": [
    {
     "data": {
      "text/plain": [
       "<matplotlib.axes._subplots.AxesSubplot at 0x219720be9b0>"
      ]
     },
     "execution_count": 64,
     "metadata": {},
     "output_type": "execute_result"
    },
    {
     "data": {
      "image/png": "[encoded data removed]",
      "text/plain": [
       "<Figure size 432x288 with 1 Axes>"
      ]
     },
     "metadata": {
      "needs_background": "light"
     },
     "output_type": "display_data"
    }
   ],
   "source": [
    "opinion_df_all['plain_text'].str.len().hist(bins=100, range=(0, 50000))"
   ]
  },
  {
   "cell_type": "code",
   "execution_count": 73,
   "metadata": {},
   "outputs": [],
   "source": [
    "from sklearn.feature_extraction.text import CountVectorizer"
   ]
  },
  {
   "cell_type": "code",
   "execution_count": null,
   "metadata": {},
   "outputs": [],
   "source": [
    "for df in opinion_dfs:\n",
    "    print('plain_text' in df.columns)\n",
    "#     if 'plain_text' in df.columns:\n",
    "#         print(df['plain_text'].isnull().value_counts())"
   ]
  },
  {
   "cell_type": "code",
   "execution_count": 85,
   "metadata": {},
   "outputs": [
    {
     "data": {
      "text/plain": [
       "<166262x10963 sparse matrix of type '<class 'numpy.int64'>'\n",
       "\twith 79582524 stored elements in Compressed Sparse Row format>"
      ]
     },
     "execution_count": 85,
     "metadata": {},
     "output_type": "execute_result"
    }
   ],
   "source": [
    "army_cv = CountVectorizer(min_df=.005, max_df=.4)\n",
    "army_cv.fit_transform(opinion_df_all['plain_text'].dropna())"
   ]
  },
  {
   "cell_type": "code",
   "execution_count": null,
   "metadata": {},
   "outputs": [],
   "source": []
  },
  {
   "cell_type": "code",
   "execution_count": null,
   "metadata": {},
   "outputs": [],
   "source": []
  },
  {
   "cell_type": "code",
   "execution_count": null,
   "metadata": {},
   "outputs": [],
   "source": []
  },
  {
   "cell_type": "code",
   "execution_count": null,
   "metadata": {},
   "outputs": [],
   "source": []
  }
 ],
 "metadata": {
  "hide_input": false,
  "kernelspec": {
   "display_name": "Python 3",
   "language": "python",
   "name": "python3"
  },
  "language_info": {
   "codemirror_mode": {
    "name": "ipython",
    "version": 3
   },
   "file_extension": ".py",
   "mimetype": "text/x-python",
   "name": "python",
   "nbconvert_exporter": "python",
   "pygments_lexer": "ipython3",
   "version": "3.7.3"
  },
  "latex_envs": {
   "LaTeX_envs_menu_present": true,
   "autoclose": false,
   "autocomplete": true,
   "bibliofile": "biblio.bib",
   "cite_by": "apalike",
   "current_citInitial": 1,
   "eqLabelWithNumbers": true,
   "eqNumInitial": 1,
   "hotkeys": {
    "equation": "Ctrl-E",
    "itemize": "Ctrl-I"
   },
   "labels_anchors": false,
   "latex_user_defs": false,
   "report_style_numbering": false,
   "user_envs_cfg": false
  }
 },
 "nbformat": 4,
 "nbformat_minor": 2
}
