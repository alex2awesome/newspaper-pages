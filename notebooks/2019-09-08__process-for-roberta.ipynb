{
 "cells": [
  {
   "cell_type": "code",
   "execution_count": 27,
   "metadata": {},
   "outputs": [],
   "source": [
    "import argparse\n",
    "import os\n",
    "import random\n",
    "from glob import glob\n",
    "\n",
    "random.seed(0)\n",
    "\n",
    "def main(args):\n",
    "    for split in ['train', 'test']:\n",
    "        samples = []\n",
    "        for class_label in ['pos', 'neg']:\n",
    "            file_prefix = os.path.join(args.datadir, split, class_label)\n",
    "            fnames = glob( file_prefix + '/*.txt' )\n",
    "            ## \n",
    "            for fname in fnames:\n",
    "                with open(fname) as fin:\n",
    "                    line = fin.readline()\n",
    "                    samples.append((line, 1 if class_label == 'pos' else 0))\n",
    "        ##\n",
    "        random.shuffle(samples)\n",
    "        ##\n",
    "        out_fname = 'train' if split == 'train' else 'dev'\n",
    "        f1 = open(os.path.join(args.datadir, out_fname + '.input0'), 'w')\n",
    "        f2 = open(os.path.join(args.datadir, out_fname + '.label'), 'w')\n",
    "        ##\n",
    "        for sample in samples:\n",
    "            f1.write(sample[0] + '\\n')\n",
    "            f2.write(str(sample[1]) + '\\n')\n",
    "        ##\n",
    "        f1.close()\n",
    "        f2.close()"
   ]
  },
  {
   "cell_type": "code",
   "execution_count": 3,
   "metadata": {},
   "outputs": [],
   "source": [
    "import pandas as pd"
   ]
  },
  {
   "cell_type": "code",
   "execution_count": 5,
   "metadata": {},
   "outputs": [
    {
     "name": "stdout",
     "output_type": "stream",
     "text": [
      " Volume in drive C is Local Disk\n",
      " Volume Serial Number is 3422-B048\n",
      "\n",
      " Directory of C:\\Users\\alexa\\Projects\\usc-research\\newspaper-pages\\notebooks\\data\n",
      "\n",
      "09/02/2019  03:57 PM    <DIR>          .\n",
      "09/02/2019  03:57 PM    <DIR>          ..\n",
      "08/30/2019  12:46 PM       823,452,289 fasttext_processed_data_test_unbalanced.txt\n",
      "08/30/2019  12:47 PM       273,153,512 fasttext_processed_data_train_balanced.txt\n",
      "08/26/2019  03:03 PM       887,330,707 processed_sampled_data_df.csv\n",
      "08/29/2019  02:03 PM       243,785,982 processed_test_time_balanced_df.csv\n",
      "08/28/2019  09:10 PM     1,962,242,125 processed_test_time_unbalanced_df.csv\n",
      "08/28/2019  08:17 PM       646,630,837 processed_train_time_balanced_df.csv\n",
      "08/28/2019  10:43 AM     2,005,622,976 semi_processed_test_time_unbalanced_df.csv\n",
      "08/27/2019  03:08 PM     4,073,763,417 unprocessed_full_data_df.csv\n",
      "09/02/2019  04:00 PM     3,923,311,380 unprocessed_full_newspaper_body_headline.csv\n",
      "08/23/2019  12:29 PM       510,590,632 unprocessed_sampled_data_df.csv\n",
      "08/27/2019  04:21 PM       141,126,009 unprocessed_test_time_balanced_df.csv\n",
      "08/27/2019  04:20 PM     1,163,511,058 unprocessed_test_time_unbalanced_df.csv\n",
      "08/27/2019  04:21 PM       372,928,782 unprocessed_train_time_balanced_df.csv\n",
      "              13 File(s) 17,027,449,706 bytes\n",
      "               2 Dir(s)  80,904,269,824 bytes free\n"
     ]
    }
   ],
   "source": [
    "ls data"
   ]
  },
  {
   "cell_type": "code",
   "execution_count": 9,
   "metadata": {},
   "outputs": [
    {
     "name": "stderr",
     "output_type": "stream",
     "text": [
      "C:\\ProgramData\\Anaconda3\\lib\\site-packages\\IPython\\core\\interactiveshell.py:3057: DtypeWarning: Columns (1,4) have mixed types. Specify dtype option on import or set low_memory=False.\n",
      "  interactivity=interactivity, compiler=compiler, result=result)\n",
      "C:\\ProgramData\\Anaconda3\\lib\\site-packages\\IPython\\core\\interactiveshell.py:3057: DtypeWarning: Columns (6) have mixed types. Specify dtype option on import or set low_memory=False.\n",
      "  interactivity=interactivity, compiler=compiler, result=result)\n"
     ]
    }
   ],
   "source": [
    "train_df = pd.read_csv('data/processed_train_time_balanced_df.csv', index_col=0)\n",
    "test_df = pd.read_csv('data/processed_test_time_unbalanced_df.csv', index_col=0)"
   ]
  },
  {
   "cell_type": "code",
   "execution_count": 16,
   "metadata": {},
   "outputs": [],
   "source": [
    "import numpy as np"
   ]
  },
  {
   "cell_type": "code",
   "execution_count": 23,
   "metadata": {},
   "outputs": [],
   "source": [
    "train_idx = list(train_df.index)\n",
    "np.random.shuffle(train_idx)\n",
    "train_df = train_df.loc[train_idx]\n",
    "\n",
    "test_idx = list(test_df.index)\n",
    "np.random.shuffle(test_idx)\n",
    "test_df = test_df.loc[test_idx]"
   ]
  },
  {
   "cell_type": "code",
   "execution_count": 30,
   "metadata": {},
   "outputs": [
    {
     "name": "stdout",
     "output_type": "stream",
     "text": [
      " Volume in drive C is Local Disk\n",
      " Volume Serial Number is 3422-B048\n",
      "\n",
      " Directory of C:\\Users\\alexa\\Projects\\usc-research\\newspaper-pages\\models\\data\n",
      "\n",
      "09/08/2019  05:25 PM    <DIR>          .\n",
      "09/08/2019  05:25 PM    <DIR>          ..\n",
      "09/08/2019  05:23 PM    <DIR>          wikitext-2\n",
      "09/26/2016  05:14 PM    <DIR>          wikitext-2-raw\n",
      "09/08/2019  05:25 PM         4,721,645 wikitext-2-raw-v1.zip\n",
      "09/08/2019  05:10 PM         4,475,746 wikitext-2-v1.zip\n",
      "               2 File(s)      9,197,391 bytes\n",
      "               4 Dir(s)  80,777,863,168 bytes free\n"
     ]
    }
   ],
   "source": [
    "ls ..\\\\models\\\\data"
   ]
  },
  {
   "cell_type": "code",
   "execution_count": 33,
   "metadata": {},
   "outputs": [],
   "source": [
    "with open('../models/data/nyt-train.input0', 'w') as f:\n",
    "    for line in train_df['processed_bodies']:\n",
    "        f.write(line + '\\n')\n",
    "        \n",
    "with open('../models/data/nyt-train.labels', 'w') as f:\n",
    "    for label in train_df['label']:\n",
    "        f.write(str(label) + '\\n')\n",
    "        \n",
    "with open('../models/data/nyt-test.input0', 'w') as f:\n",
    "    for line in test_df['processed_bodies']:\n",
    "        f.write(line + '\\n')\n",
    "        \n",
    "with open('../models/data/nyt-test.labels', 'w') as f:\n",
    "    for label in test_df['label']:\n",
    "        f.write(str(label) + '\\n')"
   ]
  },
  {
   "cell_type": "code",
   "execution_count": null,
   "metadata": {},
   "outputs": [],
   "source": []
  },
  {
   "cell_type": "code",
   "execution_count": 57,
   "metadata": {},
   "outputs": [
    {
     "data": {
      "text/plain": [
       "['get_glue.py',\n",
       " 'glue_data',\n",
       " 'roberta',\n",
       " 'squad-dev-v2.0.json',\n",
       " 'squad-train-v2.0.json',\n",
       " 'wikitext-2',\n",
       " 'wikitext-2-raw',\n",
       " 'wikitext-2-raw-v1.zip',\n",
       " 'wikitext-2-v1.zip']"
      ]
     },
     "execution_count": 57,
     "metadata": {},
     "output_type": "execute_result"
    }
   ],
   "source": [
    "import os\n",
    "os.listdir('../models/data/')"
   ]
  },
  {
   "cell_type": "code",
   "execution_count": 58,
   "metadata": {},
   "outputs": [],
   "source": [
    "train_df[['processed_bodies', 'label']].to_csv('bert-training-data.tsv', index=False, sep='\\t', line_terminator='\\n')\n",
    "test_df[['processed_bodies', 'label']].to_csv('bert-test-data.tsv', index=False, sep='\\t', line_terminator='\\n')"
   ]
  },
  {
   "cell_type": "code",
   "execution_count": null,
   "metadata": {},
   "outputs": [],
   "source": []
  },
  {
   "cell_type": "code",
   "execution_count": 60,
   "metadata": {},
   "outputs": [
    {
     "data": {
      "text/plain": [
       "4        2432\n",
       "42821    2542\n",
       "48406     195\n",
       "57989     761\n",
       "29041    1079\n",
       "16003    1221\n",
       "12014     302\n",
       "11783    2476\n",
       "55536    1201\n",
       "66076    2425\n",
       "23160    1599\n",
       "67435     781\n",
       "3717     2503\n",
       "29715    2768\n",
       "8567     2624\n",
       "62154    2593\n",
       "52950    2415\n",
       "63886     557\n",
       "7612     2501\n",
       "36185    2703\n",
       "44064     817\n",
       "18316     395\n",
       "15612    2331\n",
       "61838    2516\n",
       "59388    2547\n",
       "19782    1035\n",
       "44078    2227\n",
       "35505    2491\n",
       "16372    2098\n",
       "57345     958\n",
       "         ... \n",
       "67648    1354\n",
       "8799     2303\n",
       "26204    2783\n",
       "23618    2788\n",
       "58649    2167\n",
       "49048    2607\n",
       "1859      821\n",
       "53491     716\n",
       "41063    2472\n",
       "25769    2727\n",
       "57726    2378\n",
       "24532    2463\n",
       "32332    2866\n",
       "7884     2710\n",
       "7249     2579\n",
       "679      2400\n",
       "7109     2598\n",
       "57948    2654\n",
       "39661    2682\n",
       "44957    2379\n",
       "39684    2541\n",
       "49549    1457\n",
       "24309    2240\n",
       "48520    2659\n",
       "42314    2517\n",
       "65890    2480\n",
       "55442    2384\n",
       "60346    2326\n",
       "41222    2709\n",
       "36196    2550\n",
       "Name: processed_bodies, Length: 68290, dtype: int64"
      ]
     },
     "execution_count": 60,
     "metadata": {},
     "output_type": "execute_result"
    }
   ],
   "source": [
    "train_df['processed_bodies'].str.split().apply(lambda x: x[:400]).str.join(' ').str.len()"
   ]
  },
  {
   "cell_type": "code",
   "execution_count": null,
   "metadata": {},
   "outputs": [],
   "source": []
  },
  {
   "cell_type": "code",
   "execution_count": null,
   "metadata": {},
   "outputs": [],
   "source": []
  },
  {
   "cell_type": "code",
   "execution_count": 34,
   "metadata": {},
   "outputs": [],
   "source": [
    "import json"
   ]
  },
  {
   "cell_type": "code",
   "execution_count": 40,
   "metadata": {},
   "outputs": [],
   "source": [
    "file = \"..//models//data/squad-train-v2.0.json\"\n",
    "training_json = json.load(open(file))"
   ]
  },
  {
   "cell_type": "code",
   "execution_count": 41,
   "metadata": {},
   "outputs": [],
   "source": [
    "file = \"..//models//data/squad-dev-v2.0.json\"\n",
    "dev_json = json.load(open(file))"
   ]
  },
  {
   "cell_type": "code",
   "execution_count": null,
   "metadata": {},
   "outputs": [],
   "source": []
  },
  {
   "cell_type": "code",
   "execution_count": null,
   "metadata": {},
   "outputs": [],
   "source": []
  },
  {
   "cell_type": "code",
   "execution_count": 6,
   "metadata": {},
   "outputs": [
    {
     "name": "stdout",
     "output_type": "stream",
     "text": [
      "Go to the following link in your browser: \n",
      "\n",
      "https://api.linkedin.com/oauth/v1/authorize?oauth_token=77--35fdcc3a-ef36-4368-8203-db0b9b572433\n",
      "Have you authorized me? (y/n)y\n",
      "What is the PIN?90727\n",
      "Access Token: \n",
      "\n",
      "- oauth_token        = 3a45356d-c699-446c-b66a-c85978148da8\n",
      "\n",
      "- oauth_token_secret = 1dd87ac5-c435-4e94-8497-35cb4f94844a\n",
      "You may now access protected resources using the access tokens above.\n"
     ]
    }
   ],
   "source": [
    "import oauth2 as oauth\n",
    "import urllib\n",
    "\n",
    "consumer_key = '77l0l35iegdhzw' #from Linkedin site\n",
    "consumer_secret = '1aprPhkvOWG2YlKt' #from Linkedin site\n",
    "consumer = oauth.Consumer(consumer_key, consumer_secret)\n",
    "client = oauth.Client(consumer)\n",
    "\n",
    "request_token_url = 'https://api.linkedin.com/uas/oauth/requestToken'\n",
    "resp, content = client.request(request_token_url, \"POST\")\n",
    "if resp['status'] != '200' :\n",
    "    raise Exception('Invalid response %s.' % resp['status'])\n",
    "content_utf8 = str(content,'utf-8')\n",
    "request_token = dict(urllib.parse.parse_qsl(content_utf8))\n",
    "authorize_url = request_token['xoauth_request_auth_url']\n",
    "\n",
    "print('Go to the following link in your browser:', \"\\n\")\n",
    "print(authorize_url + '?oauth_token=' + request_token['oauth_token'])\n",
    "\n",
    "accepted='n'\n",
    "while accepted.lower() == 'n' :\n",
    "    accepted = input('Have you authorized me? (y/n)')\n",
    "oauth_verifier = input('What is the PIN?')\n",
    "\n",
    "access_token_url = 'https://api.linkedin.com/uas/oauth/accessToken'\n",
    "token = oauth.Token(request_token['oauth_token'], request_token['oauth_token_secret'])\n",
    "token.set_verifier(oauth_verifier)\n",
    "client = oauth.Client(consumer, token)\n",
    "resp, content = client.request(access_token_url, 'POST')\n",
    "content8 = str(content,'utf-8')\n",
    "access_token = dict(urllib.parse.parse_qsl(content8))\n",
    "\n",
    "print('Access Token:', \"\\n\")\n",
    "print('- oauth_token        = ' + access_token['oauth_token']+'\\n')\n",
    "print('- oauth_token_secret = ' + access_token['oauth_token_secret'])\n",
    "print('You may now access protected resources using the access tokens above.')"
   ]
  },
  {
   "cell_type": "code",
   "execution_count": 7,
   "metadata": {},
   "outputs": [
    {
     "data": {
      "text/plain": [
       "{'oauth_token': '3a45356d-c699-446c-b66a-c85978148da8',\n",
       " 'oauth_token_secret': '1dd87ac5-c435-4e94-8497-35cb4f94844a',\n",
       " 'oauth_expires_in': '5183990',\n",
       " 'oauth_authorization_expires_in': '5183990'}"
      ]
     },
     "execution_count": 7,
     "metadata": {},
     "output_type": "execute_result"
    }
   ],
   "source": [
    "access_token"
   ]
  },
  {
   "cell_type": "code",
   "execution_count": 9,
   "metadata": {},
   "outputs": [
    {
     "data": {
      "text/plain": [
       "({'x-li-responseorigin': 'RGW',\n",
       "  'x-restli-gateway-error': 'true',\n",
       "  'content-type': 'application/json',\n",
       "  'content-length': '62',\n",
       "  'date': 'Wed, 11 Sep 2019 03:13:45 GMT',\n",
       "  'x-li-fabric': 'prod-lva1',\n",
       "  'connection': 'keep-alive',\n",
       "  'x-li-pop': 'prod-ela1',\n",
       "  'x-li-proto': 'http/1.1',\n",
       "  'x-li-uuid': 'Q0Mb+chDwxVAZxNwzyoAAA==',\n",
       "  'set-cookie': 'lidc=\"b=VB12:g=2899:u=1:i=1568171625:t=1568258025:s=AQFHN4s6xoKs1a6hmN-W1lLcv0mXeXmc\"; Expires=Thu, 12 Sep 2019 03:13:45 GMT; domain=.linkedin.com; Path=/',\n",
       "  'status': '403'},\n",
       " b'{\"serviceErrorCode\":102,\"message\":\"ssl required\",\"status\":403}')"
      ]
     },
     "execution_count": 9,
     "metadata": {},
     "output_type": "execute_result"
    }
   ],
   "source": [
    "client.request('http://api.linkedin.com/v2/people-search?company-name=Apple&current-company=true')"
   ]
  },
  {
   "cell_type": "code",
   "execution_count": null,
   "metadata": {},
   "outputs": [],
   "source": []
  },
  {
   "cell_type": "code",
   "execution_count": null,
   "metadata": {},
   "outputs": [],
   "source": []
  },
  {
   "cell_type": "code",
   "execution_count": null,
   "metadata": {},
   "outputs": [],
   "source": []
  },
  {
   "cell_type": "code",
   "execution_count": null,
   "metadata": {},
   "outputs": [],
   "source": []
  },
  {
   "cell_type": "code",
   "execution_count": null,
   "metadata": {},
   "outputs": [],
   "source": []
  },
  {
   "cell_type": "code",
   "execution_count": null,
   "metadata": {},
   "outputs": [],
   "source": []
  },
  {
   "cell_type": "code",
   "execution_count": null,
   "metadata": {},
   "outputs": [],
   "source": []
  },
  {
   "cell_type": "markdown",
   "metadata": {},
   "source": [
    "# Experiment with Scraping LinkedIn"
   ]
  },
  {
   "cell_type": "code",
   "execution_count": 12,
   "metadata": {},
   "outputs": [],
   "source": [
    "import os\n",
    "from linkedin_scraper import Company, actions\n",
    "from selenium import webdriver\n",
    "from selenium.webdriver.common.by import By\n",
    "from selenium.webdriver.support.ui import WebDriverWait\n",
    "from selenium.webdriver.support import expected_conditions as EC"
   ]
  },
  {
   "cell_type": "code",
   "execution_count": 3,
   "metadata": {
    "scrolled": true
   },
   "outputs": [],
   "source": [
    "driver = webdriver.Chrome('C:/Users/alexa/chromedriver_win32/chromedriver.exe')\n",
    "\n",
    "email = \"aas2230@columbia.edu\"\n",
    "password = \"Pica_pic00000\"\n",
    "actions.login(driver, email, password)"
   ]
  },
  {
   "cell_type": "code",
   "execution_count": null,
   "metadata": {},
   "outputs": [],
   "source": [
    "company = Company(\"https://ca.linkedin.com/company/google\", driver=driver, scrape=True)"
   ]
  },
  {
   "cell_type": "code",
   "execution_count": null,
   "metadata": {},
   "outputs": [],
   "source": [
    "company.get_employees(wait_time=10)"
   ]
  },
  {
   "cell_type": "code",
   "execution_count": null,
   "metadata": {},
   "outputs": [],
   "source": [
    "driver.find_element_by_xpath('//span[@data-control-name=\"topcard_see_all_employees\"]')"
   ]
  },
  {
   "cell_type": "code",
   "execution_count": 5,
   "metadata": {},
   "outputs": [
    {
     "data": {
      "text/plain": [
       "<selenium.webdriver.remote.webelement.WebElement (session=\"ef9c2dc07f52416a4e8ae73da4281da1\", element=\"33127767-6986-478f-8522-d436ef414a5b\")>"
      ]
     },
     "execution_count": 5,
     "metadata": {},
     "output_type": "execute_result"
    }
   ],
   "source": [
    "driver.find_element_by_id('ember1298')"
   ]
  },
  {
   "cell_type": "code",
   "execution_count": 10,
   "metadata": {},
   "outputs": [],
   "source": [
    "results_list = driver.find_element_by_class_name('search-results__list')\n",
    "results_li = results_list.find_elements_by_tag_name(\"li\")"
   ]
  },
  {
   "cell_type": "code",
   "execution_count": 13,
   "metadata": {},
   "outputs": [],
   "source": [
    "def __parse_employee__(employee_raw):\n",
    "    return dict(\n",
    "        linkedin_url = employee_raw.find_element_by_class_name(\"search-result__result-link\").get_attribute(\"href\"),\n",
    "        name = employee_raw.find_elements_by_class_name(\"search-result__result-link\")[1].text.encode('utf-8').strip(),\n",
    "    )"
   ]
  },
  {
   "cell_type": "code",
   "execution_count": 20,
   "metadata": {},
   "outputs": [
    {
     "data": {
      "text/plain": [
       "['Xavier E.\\nXavier E.\\n2nd degree connection\\n2nd\\n.\\nUnited States\\nGoogle has 3+ open jobs for you\\nAd\\nConnect',\n",
       " '',\n",
       " '',\n",
       " 'Alexandra Berke\\n2nd degree connection\\n2nd\\nTechnologist\\nGreater New York City Area\\nJohn Pavley, Michael Renz, and 4 other shared connections\\nConnect',\n",
       " 'Celena Fergusson\\n2nd degree connection\\n2nd\\nGo-To-Market Lead at Google\\nGreater New York City Area\\nChristina Gonsalves, Katherine Howitt, and 2 other shared connections\\nConnect',\n",
       " 'Rivka Levitan\\nRivka Levitan\\n2nd degree connection\\n2nd\\nAssistant Professor at Brooklyn College\\nGreater New York City Area\\nDina Lamdany and Kathy Sun are shared connections\\nConnect',\n",
       " 'Shaun Seo\\n2nd degree connection\\n2nd\\nHead of Product @ TpT\\nGreater New York City Area\\nDon Yu is a shared connection\\nConnect',\n",
       " 'Rafat Nigar\\n2nd degree connection\\n2nd\\nAnalytics at Google\\nGreater New York City Area\\nSiddhant Bhatt, Elizabeth Volk, and 5 other shared connections\\nConnect',\n",
       " 'Malik Drabla\\n2nd degree connection\\n2nd\\nStudent at Columbia University in the City of New York\\nGreater New York City Area\\nChristopher J. Kunkel is a shared connection\\nConnect',\n",
       " 'Cecilia Schudel\\n2nd degree connection\\n2nd\\nSenior Software Engineer at Google\\nGreater New York City Area\\nJordan Kong, Michael Discenza, and 13 other shared connections\\nConnect',\n",
       " 'Maddy McAdams\\n2nd degree connection\\n2nd\\nHR Manager, North America at Botify\\nGreater New York City Area\\nEllie Krupnick, Kevin W. Lee, and 2 other shared connections\\nConnect',\n",
       " 'Justin Rosenstein\\n2nd degree connection\\n2nd Justin Rosenstein is an Influencer\\nCo-Founder of Asana\\nSan Francisco Bay Area\\nFollow']"
      ]
     },
     "execution_count": 20,
     "metadata": {},
     "output_type": "execute_result"
    }
   ],
   "source": [
    "list(map(lambda x: x.text, results_li))"
   ]
  },
  {
   "cell_type": "code",
   "execution_count": 16,
   "metadata": {},
   "outputs": [
    {
     "ename": "NoSuchElementException",
     "evalue": "Message: no such element: Unable to locate element: {\"method\":\"css selector\",\"selector\":\".search-result__result-link\"}\n  (Session info: chrome=76.0.3809.132)\n",
     "output_type": "error",
     "traceback": [
      "\u001b[1;31m---------------------------------------------------------------------------\u001b[0m",
      "\u001b[1;31mNoSuchElementException\u001b[0m                    Traceback (most recent call last)",
      "\u001b[1;32m<ipython-input-16-0f95f1dff046>\u001b[0m in \u001b[0;36m<module>\u001b[1;34m\u001b[0m\n\u001b[0;32m      2\u001b[0m \u001b[1;32mfor\u001b[0m \u001b[0mres\u001b[0m \u001b[1;32min\u001b[0m \u001b[0mresults_li\u001b[0m\u001b[1;33m:\u001b[0m\u001b[1;33m\u001b[0m\u001b[1;33m\u001b[0m\u001b[0m\n\u001b[0;32m      3\u001b[0m \u001b[1;31m#     _ = WebDriverWait(driver, 10).until(EC.visibility_of(res))\u001b[0m\u001b[1;33m\u001b[0m\u001b[1;33m\u001b[0m\u001b[1;33m\u001b[0m\u001b[0m\n\u001b[1;32m----> 4\u001b[1;33m     \u001b[0mtotal\u001b[0m\u001b[1;33m.\u001b[0m\u001b[0mappend\u001b[0m\u001b[1;33m(\u001b[0m\u001b[0m__parse_employee__\u001b[0m\u001b[1;33m(\u001b[0m\u001b[0mres\u001b[0m\u001b[1;33m)\u001b[0m\u001b[1;33m)\u001b[0m\u001b[1;33m\u001b[0m\u001b[1;33m\u001b[0m\u001b[0m\n\u001b[0m",
      "\u001b[1;32m<ipython-input-13-c1591994d705>\u001b[0m in \u001b[0;36m__parse_employee__\u001b[1;34m(employee_raw)\u001b[0m\n\u001b[0;32m      1\u001b[0m \u001b[1;32mdef\u001b[0m \u001b[0m__parse_employee__\u001b[0m\u001b[1;33m(\u001b[0m\u001b[0memployee_raw\u001b[0m\u001b[1;33m)\u001b[0m\u001b[1;33m:\u001b[0m\u001b[1;33m\u001b[0m\u001b[1;33m\u001b[0m\u001b[0m\n\u001b[0;32m      2\u001b[0m     return dict(\n\u001b[1;32m----> 3\u001b[1;33m         \u001b[0mlinkedin_url\u001b[0m \u001b[1;33m=\u001b[0m \u001b[0memployee_raw\u001b[0m\u001b[1;33m.\u001b[0m\u001b[0mfind_element_by_class_name\u001b[0m\u001b[1;33m(\u001b[0m\u001b[1;34m\"search-result__result-link\"\u001b[0m\u001b[1;33m)\u001b[0m\u001b[1;33m.\u001b[0m\u001b[0mget_attribute\u001b[0m\u001b[1;33m(\u001b[0m\u001b[1;34m\"href\"\u001b[0m\u001b[1;33m)\u001b[0m\u001b[1;33m,\u001b[0m\u001b[1;33m\u001b[0m\u001b[1;33m\u001b[0m\u001b[0m\n\u001b[0m\u001b[0;32m      4\u001b[0m         \u001b[0mname\u001b[0m \u001b[1;33m=\u001b[0m \u001b[0memployee_raw\u001b[0m\u001b[1;33m.\u001b[0m\u001b[0mfind_elements_by_class_name\u001b[0m\u001b[1;33m(\u001b[0m\u001b[1;34m\"search-result__result-link\"\u001b[0m\u001b[1;33m)\u001b[0m\u001b[1;33m[\u001b[0m\u001b[1;36m1\u001b[0m\u001b[1;33m]\u001b[0m\u001b[1;33m.\u001b[0m\u001b[0mtext\u001b[0m\u001b[1;33m.\u001b[0m\u001b[0mencode\u001b[0m\u001b[1;33m(\u001b[0m\u001b[1;34m'utf-8'\u001b[0m\u001b[1;33m)\u001b[0m\u001b[1;33m.\u001b[0m\u001b[0mstrip\u001b[0m\u001b[1;33m(\u001b[0m\u001b[1;33m)\u001b[0m\u001b[1;33m,\u001b[0m\u001b[1;33m\u001b[0m\u001b[1;33m\u001b[0m\u001b[0m\n\u001b[0;32m      5\u001b[0m     )\n",
      "\u001b[1;32mC:\\ProgramData\\Anaconda3\\lib\\site-packages\\selenium\\webdriver\\remote\\webelement.py\u001b[0m in \u001b[0;36mfind_element_by_class_name\u001b[1;34m(self, name)\u001b[0m\n\u001b[0;32m    396\u001b[0m             \u001b[0melement\u001b[0m \u001b[1;33m=\u001b[0m \u001b[0melement\u001b[0m\u001b[1;33m.\u001b[0m\u001b[0mfind_element_by_class_name\u001b[0m\u001b[1;33m(\u001b[0m\u001b[1;34m'foo'\u001b[0m\u001b[1;33m)\u001b[0m\u001b[1;33m\u001b[0m\u001b[1;33m\u001b[0m\u001b[0m\n\u001b[0;32m    397\u001b[0m         \"\"\"\n\u001b[1;32m--> 398\u001b[1;33m         \u001b[1;32mreturn\u001b[0m \u001b[0mself\u001b[0m\u001b[1;33m.\u001b[0m\u001b[0mfind_element\u001b[0m\u001b[1;33m(\u001b[0m\u001b[0mby\u001b[0m\u001b[1;33m=\u001b[0m\u001b[0mBy\u001b[0m\u001b[1;33m.\u001b[0m\u001b[0mCLASS_NAME\u001b[0m\u001b[1;33m,\u001b[0m \u001b[0mvalue\u001b[0m\u001b[1;33m=\u001b[0m\u001b[0mname\u001b[0m\u001b[1;33m)\u001b[0m\u001b[1;33m\u001b[0m\u001b[1;33m\u001b[0m\u001b[0m\n\u001b[0m\u001b[0;32m    399\u001b[0m \u001b[1;33m\u001b[0m\u001b[0m\n\u001b[0;32m    400\u001b[0m     \u001b[1;32mdef\u001b[0m \u001b[0mfind_elements_by_class_name\u001b[0m\u001b[1;33m(\u001b[0m\u001b[0mself\u001b[0m\u001b[1;33m,\u001b[0m \u001b[0mname\u001b[0m\u001b[1;33m)\u001b[0m\u001b[1;33m:\u001b[0m\u001b[1;33m\u001b[0m\u001b[1;33m\u001b[0m\u001b[0m\n",
      "\u001b[1;32mC:\\ProgramData\\Anaconda3\\lib\\site-packages\\selenium\\webdriver\\remote\\webelement.py\u001b[0m in \u001b[0;36mfind_element\u001b[1;34m(self, by, value)\u001b[0m\n\u001b[0;32m    657\u001b[0m \u001b[1;33m\u001b[0m\u001b[0m\n\u001b[0;32m    658\u001b[0m         return self._execute(Command.FIND_CHILD_ELEMENT,\n\u001b[1;32m--> 659\u001b[1;33m                              {\"using\": by, \"value\": value})['value']\n\u001b[0m\u001b[0;32m    660\u001b[0m \u001b[1;33m\u001b[0m\u001b[0m\n\u001b[0;32m    661\u001b[0m     \u001b[1;32mdef\u001b[0m \u001b[0mfind_elements\u001b[0m\u001b[1;33m(\u001b[0m\u001b[0mself\u001b[0m\u001b[1;33m,\u001b[0m \u001b[0mby\u001b[0m\u001b[1;33m=\u001b[0m\u001b[0mBy\u001b[0m\u001b[1;33m.\u001b[0m\u001b[0mID\u001b[0m\u001b[1;33m,\u001b[0m \u001b[0mvalue\u001b[0m\u001b[1;33m=\u001b[0m\u001b[1;32mNone\u001b[0m\u001b[1;33m)\u001b[0m\u001b[1;33m:\u001b[0m\u001b[1;33m\u001b[0m\u001b[1;33m\u001b[0m\u001b[0m\n",
      "\u001b[1;32mC:\\ProgramData\\Anaconda3\\lib\\site-packages\\selenium\\webdriver\\remote\\webelement.py\u001b[0m in \u001b[0;36m_execute\u001b[1;34m(self, command, params)\u001b[0m\n\u001b[0;32m    631\u001b[0m             \u001b[0mparams\u001b[0m \u001b[1;33m=\u001b[0m \u001b[1;33m{\u001b[0m\u001b[1;33m}\u001b[0m\u001b[1;33m\u001b[0m\u001b[1;33m\u001b[0m\u001b[0m\n\u001b[0;32m    632\u001b[0m         \u001b[0mparams\u001b[0m\u001b[1;33m[\u001b[0m\u001b[1;34m'id'\u001b[0m\u001b[1;33m]\u001b[0m \u001b[1;33m=\u001b[0m \u001b[0mself\u001b[0m\u001b[1;33m.\u001b[0m\u001b[0m_id\u001b[0m\u001b[1;33m\u001b[0m\u001b[1;33m\u001b[0m\u001b[0m\n\u001b[1;32m--> 633\u001b[1;33m         \u001b[1;32mreturn\u001b[0m \u001b[0mself\u001b[0m\u001b[1;33m.\u001b[0m\u001b[0m_parent\u001b[0m\u001b[1;33m.\u001b[0m\u001b[0mexecute\u001b[0m\u001b[1;33m(\u001b[0m\u001b[0mcommand\u001b[0m\u001b[1;33m,\u001b[0m \u001b[0mparams\u001b[0m\u001b[1;33m)\u001b[0m\u001b[1;33m\u001b[0m\u001b[1;33m\u001b[0m\u001b[0m\n\u001b[0m\u001b[0;32m    634\u001b[0m \u001b[1;33m\u001b[0m\u001b[0m\n\u001b[0;32m    635\u001b[0m     \u001b[1;32mdef\u001b[0m \u001b[0mfind_element\u001b[0m\u001b[1;33m(\u001b[0m\u001b[0mself\u001b[0m\u001b[1;33m,\u001b[0m \u001b[0mby\u001b[0m\u001b[1;33m=\u001b[0m\u001b[0mBy\u001b[0m\u001b[1;33m.\u001b[0m\u001b[0mID\u001b[0m\u001b[1;33m,\u001b[0m \u001b[0mvalue\u001b[0m\u001b[1;33m=\u001b[0m\u001b[1;32mNone\u001b[0m\u001b[1;33m)\u001b[0m\u001b[1;33m:\u001b[0m\u001b[1;33m\u001b[0m\u001b[1;33m\u001b[0m\u001b[0m\n",
      "\u001b[1;32mC:\\ProgramData\\Anaconda3\\lib\\site-packages\\selenium\\webdriver\\remote\\webdriver.py\u001b[0m in \u001b[0;36mexecute\u001b[1;34m(self, driver_command, params)\u001b[0m\n\u001b[0;32m    319\u001b[0m         \u001b[0mresponse\u001b[0m \u001b[1;33m=\u001b[0m \u001b[0mself\u001b[0m\u001b[1;33m.\u001b[0m\u001b[0mcommand_executor\u001b[0m\u001b[1;33m.\u001b[0m\u001b[0mexecute\u001b[0m\u001b[1;33m(\u001b[0m\u001b[0mdriver_command\u001b[0m\u001b[1;33m,\u001b[0m \u001b[0mparams\u001b[0m\u001b[1;33m)\u001b[0m\u001b[1;33m\u001b[0m\u001b[1;33m\u001b[0m\u001b[0m\n\u001b[0;32m    320\u001b[0m         \u001b[1;32mif\u001b[0m \u001b[0mresponse\u001b[0m\u001b[1;33m:\u001b[0m\u001b[1;33m\u001b[0m\u001b[1;33m\u001b[0m\u001b[0m\n\u001b[1;32m--> 321\u001b[1;33m             \u001b[0mself\u001b[0m\u001b[1;33m.\u001b[0m\u001b[0merror_handler\u001b[0m\u001b[1;33m.\u001b[0m\u001b[0mcheck_response\u001b[0m\u001b[1;33m(\u001b[0m\u001b[0mresponse\u001b[0m\u001b[1;33m)\u001b[0m\u001b[1;33m\u001b[0m\u001b[1;33m\u001b[0m\u001b[0m\n\u001b[0m\u001b[0;32m    322\u001b[0m             response['value'] = self._unwrap_value(\n\u001b[0;32m    323\u001b[0m                 response.get('value', None))\n",
      "\u001b[1;32mC:\\ProgramData\\Anaconda3\\lib\\site-packages\\selenium\\webdriver\\remote\\errorhandler.py\u001b[0m in \u001b[0;36mcheck_response\u001b[1;34m(self, response)\u001b[0m\n\u001b[0;32m    240\u001b[0m                 \u001b[0malert_text\u001b[0m \u001b[1;33m=\u001b[0m \u001b[0mvalue\u001b[0m\u001b[1;33m[\u001b[0m\u001b[1;34m'alert'\u001b[0m\u001b[1;33m]\u001b[0m\u001b[1;33m.\u001b[0m\u001b[0mget\u001b[0m\u001b[1;33m(\u001b[0m\u001b[1;34m'text'\u001b[0m\u001b[1;33m)\u001b[0m\u001b[1;33m\u001b[0m\u001b[1;33m\u001b[0m\u001b[0m\n\u001b[0;32m    241\u001b[0m             \u001b[1;32mraise\u001b[0m \u001b[0mexception_class\u001b[0m\u001b[1;33m(\u001b[0m\u001b[0mmessage\u001b[0m\u001b[1;33m,\u001b[0m \u001b[0mscreen\u001b[0m\u001b[1;33m,\u001b[0m \u001b[0mstacktrace\u001b[0m\u001b[1;33m,\u001b[0m \u001b[0malert_text\u001b[0m\u001b[1;33m)\u001b[0m\u001b[1;33m\u001b[0m\u001b[1;33m\u001b[0m\u001b[0m\n\u001b[1;32m--> 242\u001b[1;33m         \u001b[1;32mraise\u001b[0m \u001b[0mexception_class\u001b[0m\u001b[1;33m(\u001b[0m\u001b[0mmessage\u001b[0m\u001b[1;33m,\u001b[0m \u001b[0mscreen\u001b[0m\u001b[1;33m,\u001b[0m \u001b[0mstacktrace\u001b[0m\u001b[1;33m)\u001b[0m\u001b[1;33m\u001b[0m\u001b[1;33m\u001b[0m\u001b[0m\n\u001b[0m\u001b[0;32m    243\u001b[0m \u001b[1;33m\u001b[0m\u001b[0m\n\u001b[0;32m    244\u001b[0m     \u001b[1;32mdef\u001b[0m \u001b[0m_value_or_default\u001b[0m\u001b[1;33m(\u001b[0m\u001b[0mself\u001b[0m\u001b[1;33m,\u001b[0m \u001b[0mobj\u001b[0m\u001b[1;33m,\u001b[0m \u001b[0mkey\u001b[0m\u001b[1;33m,\u001b[0m \u001b[0mdefault\u001b[0m\u001b[1;33m)\u001b[0m\u001b[1;33m:\u001b[0m\u001b[1;33m\u001b[0m\u001b[1;33m\u001b[0m\u001b[0m\n",
      "\u001b[1;31mNoSuchElementException\u001b[0m: Message: no such element: Unable to locate element: {\"method\":\"css selector\",\"selector\":\".search-result__result-link\"}\n  (Session info: chrome=76.0.3809.132)\n"
     ]
    }
   ],
   "source": [
    "total = []\n",
    "for res in results_li:\n",
    "#     _ = WebDriverWait(driver, 10).until(EC.visibility_of(res))\n",
    "    total.append(__parse_employee__(res))"
   ]
  },
  {
   "cell_type": "code",
   "execution_count": null,
   "metadata": {},
   "outputs": [],
   "source": []
  }
 ],
 "metadata": {
  "hide_input": false,
  "kernelspec": {
   "display_name": "Python 3",
   "language": "python",
   "name": "python3"
  },
  "language_info": {
   "codemirror_mode": {
    "name": "ipython",
    "version": 3
   },
   "file_extension": ".py",
   "mimetype": "text/x-python",
   "name": "python",
   "nbconvert_exporter": "python",
   "pygments_lexer": "ipython3",
   "version": "3.7.3"
  }
 },
 "nbformat": 4,
 "nbformat_minor": 2
}
