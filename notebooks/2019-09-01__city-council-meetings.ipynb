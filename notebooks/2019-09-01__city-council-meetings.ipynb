{
 "cells": [
  {
   "cell_type": "code",
   "execution_count": 1,
   "metadata": {},
   "outputs": [],
   "source": [
    "import datefinder\n",
    "import pandas as pd\n",
    "from bs4 import BeautifulSoup\n",
    "import os\n",
    "import glob\n",
    "import unidecode\n",
    "from collections import defaultdict\n",
    "import codecs\n",
    "from tqdm import tqdm_notebook as tqdm\n",
    "import datetime"
   ]
  },
  {
   "cell_type": "code",
   "execution_count": 149,
   "metadata": {},
   "outputs": [],
   "source": [
    "council_meetings = glob.glob('../council_meetings/*/*')"
   ]
  },
  {
   "cell_type": "code",
   "execution_count": 150,
   "metadata": {},
   "outputs": [],
   "source": [
    "meeting_dfs = []"
   ]
  },
  {
   "cell_type": "code",
   "execution_count": 276,
   "metadata": {},
   "outputs": [
    {
     "data": {
      "application/vnd.jupyter.widget-view+json": {
       "model_id": "3e4c92bb5ee743049938eeb70e6e3f48",
       "version_major": 2,
       "version_minor": 0
      },
      "text/plain": [
       "HBox(children=(IntProgress(value=0, max=1149), HTML(value='')))"
      ]
     },
     "metadata": {},
     "output_type": "display_data"
    },
    {
     "name": "stdout",
     "output_type": "stream",
     "text": [
      "failed on clkreferralmemo992789_01122015.htm...\n",
      "failed on clkreferralmemo9103082_04252016.htm...\n"
     ]
    }
   ],
   "source": [
    "for meeting_file_path in tqdm(council_meetings):\n",
    "    html = codecs.open(meeting_file_path, encoding='utf-8').read()\n",
    "    soup = BeautifulSoup(html, 'lxml')\n",
    "\n",
    "    ## get date\n",
    "    meeting_file = os.path.basename(meeting_file_path)\n",
    "    fp_datepart = meeting_file.split('_')[1].replace('.htm', '')\n",
    "    minutes_date = datetime.datetime.strptime(fp_datepart, '%m%d%Y')\n",
    "    \n",
    "    ## get all links\n",
    "    minute_links = pd.Series(soup.find_all('a', href=lambda href: href and \"cityclerk.lacity.org\" in href))\n",
    "\n",
    "    ## if links exist, parse...\n",
    "    if len(minute_links)> 0:\n",
    "        try:\n",
    "            metadata_df = pd.concat([\n",
    "                minute_links.apply(lambda x: x['href']).to_frame('link'),\n",
    "                minute_links.apply(lambda x: x.get_text()).apply(unidecode.unidecode).to_frame('bill_number'),\n",
    "            ], axis=1).set_index('bill_number')\n",
    "\n",
    "            ## get text\n",
    "            htmnl_text = unidecode.unidecode(soup.get_text())\n",
    "            html_lines = list(map(lambda x: x.strip(), htmnl_text.split('\\n')))\n",
    "\n",
    "            ## parse text\n",
    "            minutes_metadata = defaultdict(list)\n",
    "            in_bill = False\n",
    "            for line in html_lines:\n",
    "                if line in metadata_df.index:\n",
    "                    in_bill = line\n",
    "\n",
    "                if in_bill:\n",
    "                    minutes_metadata[in_bill].append(line)\n",
    "\n",
    "            ## put it together\n",
    "            metadata_df = metadata_df.merge(pd.Series(minutes_metadata).to_frame('text'), left_index=True, right_index=True)\n",
    "            metadata_df['text'] = (\n",
    "                metadata_df\n",
    "                 .apply(lambda x: list(filter(lambda y: (y != '') and (y != x.name), x['text'])), axis=1)\n",
    "                 .str.join(' ')\n",
    "            )\n",
    "            metadata_df['date'] = minutes_date\n",
    "\n",
    "            meeting_dfs.append(metadata_df)\n",
    "        except:\n",
    "            print('failed on %s...' % meeting_file)"
   ]
  },
  {
   "cell_type": "code",
   "execution_count": 277,
   "metadata": {},
   "outputs": [],
   "source": [
    "all_meetings_dfs = pd.concat(meeting_dfs)"
   ]
  },
  {
   "cell_type": "code",
   "execution_count": 278,
   "metadata": {},
   "outputs": [
    {
     "data": {
      "text/plain": [
       "<matplotlib.axes._subplots.AxesSubplot at 0x247988759e8>"
      ]
     },
     "execution_count": 278,
     "metadata": {},
     "output_type": "execute_result"
    },
    {
     "data": {
      "image/png": "[encoded data removed]",
      "text/plain": [
       "<Figure size 432x288 with 1 Axes>"
      ]
     },
     "metadata": {
      "needs_background": "light"
     },
     "output_type": "display_data"
    }
   ],
   "source": [
    "%matplotlib inline\n",
    "all_meetings_dfs.assign(c=1).groupby(pd.Grouper(key='date', freq='7D'))['c'].sum().plot()"
   ]
  },
  {
   "cell_type": "code",
   "execution_count": 279,
   "metadata": {},
   "outputs": [
    {
     "data": {
      "text/plain": [
       "<matplotlib.axes._subplots.AxesSubplot at 0x247996f8eb8>"
      ]
     },
     "execution_count": 279,
     "metadata": {},
     "output_type": "execute_result"
    },
    {
     "data": {
      "image/png": "[encoded data removed]",
      "text/plain": [
       "<Figure size 432x288 with 1 Axes>"
      ]
     },
     "metadata": {
      "needs_background": "light"
     },
     "output_type": "display_data"
    }
   ],
   "source": [
    "all_meetings_dfs['text'].str.split().str.len().hist(bins=50, range=(0, 200))"
   ]
  },
  {
   "cell_type": "code",
   "execution_count": null,
   "metadata": {},
   "outputs": [],
   "source": []
  },
  {
   "cell_type": "code",
   "execution_count": 293,
   "metadata": {},
   "outputs": [],
   "source": [
    "import util\n",
    "from importlib import reload\n",
    "import swifter"
   ]
  },
  {
   "cell_type": "code",
   "execution_count": 295,
   "metadata": {},
   "outputs": [
    {
     "data": {
      "text/plain": [
       "<module 'util' from 'C:\\\\Users\\\\alexa\\\\Projects\\\\usc-research\\\\newspaper-pages\\\\notebooks\\\\util.py'>"
      ]
     },
     "execution_count": 295,
     "metadata": {},
     "output_type": "execute_result"
    }
   ],
   "source": [
    "reload(util)"
   ]
  },
  {
   "cell_type": "code",
   "execution_count": null,
   "metadata": {},
   "outputs": [
    {
     "data": {
      "application/vnd.jupyter.widget-view+json": {
       "model_id": "909c7ddfab7c4de889ea04e8c8c42137",
       "version_major": 2,
       "version_minor": 0
      },
      "text/plain": [
       "HBox(children=(IntProgress(value=0, description='Pandas Apply', max=113276, style=ProgressStyle(description_wi…"
      ]
     },
     "metadata": {},
     "output_type": "display_data"
    }
   ],
   "source": [
    "all_meetings_dfs['processed_text'] = all_meetings_dfs['text'].swifter.apply(util.preprocess)"
   ]
  },
  {
   "cell_type": "code",
   "execution_count": 303,
   "metadata": {},
   "outputs": [],
   "source": [
    "all_meetings_dfs.to_csv(\"../council_meetings/processed_council_meetings.csv\")"
   ]
  },
  {
   "cell_type": "code",
   "execution_count": null,
   "metadata": {},
   "outputs": [],
   "source": []
  },
  {
   "cell_type": "markdown",
   "metadata": {},
   "source": [
    "# Parse City Council Meeting Minute Files"
   ]
  },
  {
   "cell_type": "code",
   "execution_count": 37,
   "metadata": {},
   "outputs": [],
   "source": [
    "from bs4 import BeautifulSoup\n",
    "from xml.etree import ElementTree as ET\n",
    "import re\n",
    "import datetime\n",
    "from tqdm import tqdm_notebook as tqdm"
   ]
  },
  {
   "cell_type": "code",
   "execution_count": 21,
   "metadata": {},
   "outputs": [],
   "source": [
    "council_action_files = glob.glob('../council_meetings/meetings/raw_html/*')\n",
    "council_action_files = list(filter(lambda x: 'clkcouncilactions' in x, council_action_files))"
   ]
  },
  {
   "cell_type": "code",
   "execution_count": null,
   "metadata": {
    "scrolled": true
   },
   "outputs": [],
   "source": [
    "all_output = []\n",
    "for council_action_file in tqdm(council_action_files):\n",
    "    fn_date = re.findall('\\_(\\d\\d)(\\d\\d)(\\d\\d\\d\\d).html', council_action_file.lower())\n",
    "    if len(fn_date) != 1:\n",
    "        print('error')\n",
    "        print(council_action_file)\n",
    "\n",
    "    month, day, year = fn_date[0]\n",
    "    fn_date = datetime.datetime(int(year), int(month), int(day))\n",
    "    \n",
    "    soup = BeautifulSoup(open(council_action_file, encoding='latin1').read())\n",
    "    ## get tables\n",
    "    tables = soup.findAll('table')\n",
    "    content_tables = tables[1:]\n",
    "    ## parse output from tables\n",
    "    output =[]\n",
    "    to_append = ''\n",
    "    appending = False\n",
    "    for t in content_tables:\n",
    "        t = t.get_text()\n",
    "        if appending:\n",
    "            if len(to_append) < 1000:\n",
    "                to_append += ' ' + t\n",
    "            else:\n",
    "                output.append(to_append)\n",
    "                to_append = ''\n",
    "                appending = False\n",
    "\n",
    "        if 'ITEM NO.' in t:\n",
    "            appending = False\n",
    "            to_append = ''\n",
    "            if len(t) < 15:\n",
    "                to_append += t\n",
    "                appending = True\n",
    "            else:\n",
    "                output.append(t)\n",
    "\n",
    "    for o in output:\n",
    "        text = unidecode.unidecode(o)\n",
    "        item_no = re.findall('(ITEM NO.\\(\\d+\\))', text)\n",
    "        if len(item_no) != 1:\n",
    "            print('item-parsing error')\n",
    "            print(text.replace('\\n', '')[:100] + '...')\n",
    "        all_output.append({\n",
    "            'item_num': item_no[0],\n",
    "            'date': fn_date,\n",
    "            'text': text\n",
    "        })"
   ]
  },
  {
   "cell_type": "code",
   "execution_count": 207,
   "metadata": {},
   "outputs": [],
   "source": [
    "all_output_df = pd.DataFrame(all_output).assign(item_num=lambda df: df['item_num'].str.get(0))"
   ]
  },
  {
   "cell_type": "code",
   "execution_count": 212,
   "metadata": {},
   "outputs": [],
   "source": [
    "import matplotlib.pyplot as plt\n",
    "%matplotlib inline"
   ]
  },
  {
   "cell_type": "code",
   "execution_count": 218,
   "metadata": {},
   "outputs": [
    {
     "data": {
      "text/plain": [
       "<matplotlib.axes._subplots.AxesSubplot at 0x205c8578eb8>"
      ]
     },
     "execution_count": 218,
     "metadata": {},
     "output_type": "execute_result"
    },
    {
     "data": {
      "image/png": "[encoded data removed]",
      "text/plain": [
       "<Figure size 432x288 with 1 Axes>"
      ]
     },
     "metadata": {
      "needs_background": "light"
     },
     "output_type": "display_data"
    }
   ],
   "source": [
    "all_output_df.assign(c=1).groupby(pd.Grouper(key='date', freq='7D'))['c'].sum().plot()"
   ]
  },
  {
   "cell_type": "code",
   "execution_count": 222,
   "metadata": {},
   "outputs": [],
   "source": [
    "all_meetings_df = all_output_df"
   ]
  },
  {
   "cell_type": "code",
   "execution_count": 224,
   "metadata": {},
   "outputs": [],
   "source": [
    "all_referrals_dfs = pd.read_csv(\"../council_meetings/referrals/processed_council_meetings.csv\", index_col=0)"
   ]
  },
  {
   "cell_type": "code",
   "execution_count": 250,
   "metadata": {},
   "outputs": [
    {
     "data": {
      "text/plain": [
       "<matplotlib.axes._subplots.AxesSubplot at 0x205f407eac8>"
      ]
     },
     "execution_count": 250,
     "metadata": {},
     "output_type": "execute_result"
    },
    {
     "data": {
      "image/png": "[encoded data removed]",
      "text/plain": [
       "<Figure size 432x288 with 1 Axes>"
      ]
     },
     "metadata": {
      "needs_background": "light"
     },
     "output_type": "display_data"
    }
   ],
   "source": [
    "all_referrals_dfs['text'].str.split().str.len().hist(range=(0, 500), bins=50)"
   ]
  },
  {
   "cell_type": "code",
   "execution_count": 240,
   "metadata": {},
   "outputs": [
    {
     "data": {
      "text/plain": [
       "100"
      ]
     },
     "execution_count": 240,
     "metadata": {},
     "output_type": "execute_result"
    }
   ],
   "source": [
    "len(all_meetings_df['text'][400].split())"
   ]
  },
  {
   "cell_type": "code",
   "execution_count": 251,
   "metadata": {},
   "outputs": [
    {
     "data": {
      "text/plain": [
       "<matplotlib.axes._subplots.AxesSubplot at 0x205ec82f438>"
      ]
     },
     "execution_count": 251,
     "metadata": {},
     "output_type": "execute_result"
    },
    {
     "data": {
      "image/png": "[encoded data removed]",
      "text/plain": [
       "<Figure size 432x288 with 1 Axes>"
      ]
     },
     "metadata": {
      "needs_background": "light"
     },
     "output_type": "display_data"
    }
   ],
   "source": [
    "all_meetings_df['text'].str.split().str.len().hist(range=(0, 500), bins=50)"
   ]
  },
  {
   "cell_type": "code",
   "execution_count": 323,
   "metadata": {},
   "outputs": [],
   "source": [
    "import spacy\n",
    "import re\n",
    "nlp = spacy.load('en_core_web_lg')\n",
    "def preprocess(body, nlp=nlp):\n",
    "    ## \n",
    "    salient_lines = list(filter(get_salient_lines, body.split('\\n')))\n",
    "    text = ' '.join(salient_lines)\n",
    "    \n",
    "    ## splice irrelevant numbers and punctuation\n",
    "    text = text.replace('ITEM NO.', ' ')\n",
    "    text = re.sub('\\d', ' ', text)\n",
    "    text = ' '.join(text.split())\n",
    "    text = re.sub('\\([A-Z]*\\s*\\)', ' ', text)\n",
    "    text = ' '.join(text.replace('-', ' ').replace('$', ' ').replace(',', ' ').split())\n",
    "    \n",
    "    ## cut sentence fragments.\n",
    "    doc = nlp(text)\n",
    "    sentences = list(filter(lambda x: len(x.text.split())>5, doc.sents))\n",
    "    \n",
    "    ## \n",
    "    text = [word.text for sent in sentences for word in sent]\n",
    "    body = ' '.join(text)\n",
    "\n",
    "    ### other cleanup\n",
    "    body = body.lower()\n",
    "    body = body.strip()\n",
    "    ## return \n",
    "    return body"
   ]
  },
  {
   "cell_type": "code",
   "execution_count": 321,
   "metadata": {},
   "outputs": [],
   "source": [
    "def get_salient_lines(text):\n",
    "    words = text.split()\n",
    "    if len(words)>0:\n",
    "        is_upper =  words[0].isupper()\n",
    "        if is_upper:\n",
    "            return (\n",
    "                'TIME LIMIT FILE' not in text and\n",
    "                'LAST DAY FOR COUNCIL ACTION' not in text\n",
    "            )\n",
    "    else:\n",
    "        return False"
   ]
  },
  {
   "cell_type": "code",
   "execution_count": 334,
   "metadata": {},
   "outputs": [
    {
     "data": {
      "application/vnd.jupyter.widget-view+json": {
       "model_id": "6d0955d7fe0244419a4fc970ad39c3a9",
       "version_major": 2,
       "version_minor": 0
      },
      "text/plain": [
       "HBox(children=(IntProgress(value=0, max=15129), HTML(value='')))"
      ]
     },
     "metadata": {},
     "output_type": "display_data"
    }
   ],
   "source": [
    "preprocessed_meetings = []\n",
    "for meeting in tqdm(all_meetings_df['text']):\n",
    "    preprocessed_meetings.append(preprocess(meeting))"
   ]
  },
  {
   "cell_type": "code",
   "execution_count": 336,
   "metadata": {},
   "outputs": [],
   "source": [
    "all_meetings_df['processed_text'] = preprocessed_meetings"
   ]
  },
  {
   "cell_type": "code",
   "execution_count": 339,
   "metadata": {},
   "outputs": [],
   "source": [
    "all_meetings_df.to_csv('../council_meetings/meetings/all_meetings_df_processed.csv')"
   ]
  },
  {
   "cell_type": "code",
   "execution_count": 340,
   "metadata": {},
   "outputs": [],
   "source": [
    "pd.concat([\n",
    "    all_meetings_df,\n",
    "    all_referrals_dfs\n",
    "], sort=True).to_csv('../council_meetings/all_items_df_processed.csv')"
   ]
  },
  {
   "cell_type": "code",
   "execution_count": 342,
   "metadata": {},
   "outputs": [
    {
     "name": "stderr",
     "output_type": "stream",
     "text": [
      "C:\\ProgramData\\Anaconda3\\lib\\site-packages\\ipykernel_launcher.py:4: FutureWarning: The signature of `Series.to_csv` was aligned to that of `DataFrame.to_csv`, and argument 'header' will change its default value from False to True: please pass an explicit value to suppress this warning.\n",
      "  after removing the cwd from sys.path.\n"
     ]
    }
   ],
   "source": [
    "pd.concat([\n",
    "    all_meetings_df,\n",
    "    all_referrals_dfs\n",
    "], sort=True)['processed_text'].to_csv('../council_meetings/data.tsv', index=False)"
   ]
  },
  {
   "cell_type": "code",
   "execution_count": 4,
   "metadata": {},
   "outputs": [
    {
     "name": "stdout",
     "output_type": "stream",
     "text": [
      "128405 ..\\\\council_meetings\\\\data.tsv\n"
     ]
    }
   ],
   "source": [
    "! wc -l ..\\\\council_meetings\\\\data.tsv"
   ]
  },
  {
   "cell_type": "markdown",
   "metadata": {},
   "source": [
    "# Read data"
   ]
  },
  {
   "cell_type": "code",
   "execution_count": null,
   "metadata": {},
   "outputs": [],
   "source": []
  },
  {
   "cell_type": "code",
   "execution_count": 1,
   "metadata": {},
   "outputs": [],
   "source": [
    "import pandas as pd"
   ]
  },
  {
   "cell_type": "code",
   "execution_count": 2,
   "metadata": {},
   "outputs": [
    {
     "data": {
      "text/html": [
       "<div>\n",
       "<style scoped>\n",
       "    .dataframe tbody tr th:only-of-type {\n",
       "        vertical-align: middle;\n",
       "    }\n",
       "\n",
       "    .dataframe tbody tr th {\n",
       "        vertical-align: top;\n",
       "    }\n",
       "\n",
       "    .dataframe thead th {\n",
       "        text-align: right;\n",
       "    }\n",
       "</style>\n",
       "<table border=\"1\" class=\"dataframe\">\n",
       "  <thead>\n",
       "    <tr style=\"text-align: right;\">\n",
       "      <th></th>\n",
       "      <th>0</th>\n",
       "    </tr>\n",
       "  </thead>\n",
       "  <tbody>\n",
       "    <tr>\n",
       "      <th>0</th>\n",
       "      <td>hearing protest appeals or objections to build...</td>\n",
       "    </tr>\n",
       "    <tr>\n",
       "      <th>1</th>\n",
       "      <td>cd negative declaration planning and land use ...</td>\n",
       "    </tr>\n",
       "    <tr>\n",
       "      <th>2</th>\n",
       "      <td>cd transportation committee report relative to...</td>\n",
       "    </tr>\n",
       "    <tr>\n",
       "      <th>3</th>\n",
       "      <td>personnel and animal welfare committee report ...</td>\n",
       "    </tr>\n",
       "    <tr>\n",
       "      <th>4</th>\n",
       "      <td>s s cd planning and land use management commit...</td>\n",
       "    </tr>\n",
       "  </tbody>\n",
       "</table>\n",
       "</div>"
      ],
      "text/plain": [
       "                                                   0\n",
       "0  hearing protest appeals or objections to build...\n",
       "1  cd negative declaration planning and land use ...\n",
       "2  cd transportation committee report relative to...\n",
       "3  personnel and animal welfare committee report ...\n",
       "4  s s cd planning and land use management commit..."
      ]
     },
     "execution_count": 2,
     "metadata": {},
     "output_type": "execute_result"
    }
   ],
   "source": [
    "pd.read_csv('../council_meetings/data.tsv', sep='\\t', header=-1).head()"
   ]
  },
  {
   "cell_type": "code",
   "execution_count": null,
   "metadata": {},
   "outputs": [],
   "source": []
  }
 ],
 "metadata": {
  "hide_input": false,
  "kernelspec": {
   "display_name": "Python 3",
   "language": "python",
   "name": "python3"
  },
  "language_info": {
   "codemirror_mode": {
    "name": "ipython",
    "version": 3
   },
   "file_extension": ".py",
   "mimetype": "text/x-python",
   "name": "python",
   "nbconvert_exporter": "python",
   "pygments_lexer": "ipython3",
   "version": "3.7.3"
  },
  "latex_envs": {
   "LaTeX_envs_menu_present": true,
   "autoclose": false,
   "autocomplete": true,
   "bibliofile": "biblio.bib",
   "cite_by": "apalike",
   "current_citInitial": 1,
   "eqLabelWithNumbers": true,
   "eqNumInitial": 1,
   "hotkeys": {
    "equation": "Ctrl-E",
    "itemize": "Ctrl-I"
   },
   "labels_anchors": false,
   "latex_user_defs": false,
   "report_style_numbering": false,
   "user_envs_cfg": false
  }
 },
 "nbformat": 4,
 "nbformat_minor": 2
}
