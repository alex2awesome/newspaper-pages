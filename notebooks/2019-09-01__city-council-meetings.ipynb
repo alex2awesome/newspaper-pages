{
 "cells": [
  {
   "cell_type": "code",
   "execution_count": 141,
   "metadata": {},
   "outputs": [],
   "source": [
    "import datefinder\n",
    "import pandas as pd\n",
    "from bs4 import BeautifulSoup\n",
    "import os\n",
    "import glob\n",
    "import unidecode\n",
    "from collections import defaultdict\n",
    "import codecs\n",
    "from tqdm import tqdm_notebook as tqdm\n",
    "import datetime"
   ]
  },
  {
   "cell_type": "code",
   "execution_count": 149,
   "metadata": {},
   "outputs": [],
   "source": [
    "council_meetings = glob.glob('../council_meetings/*/*')"
   ]
  },
  {
   "cell_type": "code",
   "execution_count": 150,
   "metadata": {},
   "outputs": [],
   "source": [
    "meeting_dfs = []"
   ]
  },
  {
   "cell_type": "code",
   "execution_count": 276,
   "metadata": {},
   "outputs": [
    {
     "data": {
      "application/vnd.jupyter.widget-view+json": {
       "model_id": "3e4c92bb5ee743049938eeb70e6e3f48",
       "version_major": 2,
       "version_minor": 0
      },
      "text/plain": [
       "HBox(children=(IntProgress(value=0, max=1149), HTML(value='')))"
      ]
     },
     "metadata": {},
     "output_type": "display_data"
    },
    {
     "name": "stdout",
     "output_type": "stream",
     "text": [
      "failed on clkreferralmemo992789_01122015.htm...\n",
      "failed on clkreferralmemo9103082_04252016.htm...\n"
     ]
    }
   ],
   "source": [
    "for meeting_file_path in tqdm(council_meetings):\n",
    "    html = codecs.open(meeting_file_path, encoding='utf-8').read()\n",
    "    soup = BeautifulSoup(html, 'lxml')\n",
    "\n",
    "    ## get date\n",
    "    meeting_file = os.path.basename(meeting_file_path)\n",
    "    fp_datepart = meeting_file.split('_')[1].replace('.htm', '')\n",
    "    minutes_date = datetime.datetime.strptime(fp_datepart, '%m%d%Y')\n",
    "    \n",
    "    ## get all links\n",
    "    minute_links = pd.Series(soup.find_all('a', href=lambda href: href and \"cityclerk.lacity.org\" in href))\n",
    "\n",
    "    ## if links exist, parse...\n",
    "    if len(minute_links)> 0:\n",
    "        try:\n",
    "            metadata_df = pd.concat([\n",
    "                minute_links.apply(lambda x: x['href']).to_frame('link'),\n",
    "                minute_links.apply(lambda x: x.get_text()).apply(unidecode.unidecode).to_frame('bill_number'),\n",
    "            ], axis=1).set_index('bill_number')\n",
    "\n",
    "            ## get text\n",
    "            htmnl_text = unidecode.unidecode(soup.get_text())\n",
    "            html_lines = list(map(lambda x: x.strip(), htmnl_text.split('\\n')))\n",
    "\n",
    "            ## parse text\n",
    "            minutes_metadata = defaultdict(list)\n",
    "            in_bill = False\n",
    "            for line in html_lines:\n",
    "                if line in metadata_df.index:\n",
    "                    in_bill = line\n",
    "\n",
    "                if in_bill:\n",
    "                    minutes_metadata[in_bill].append(line)\n",
    "\n",
    "            ## put it together\n",
    "            metadata_df = metadata_df.merge(pd.Series(minutes_metadata).to_frame('text'), left_index=True, right_index=True)\n",
    "            metadata_df['text'] = (\n",
    "                metadata_df\n",
    "                 .apply(lambda x: list(filter(lambda y: (y != '') and (y != x.name), x['text'])), axis=1)\n",
    "                 .str.join(' ')\n",
    "            )\n",
    "            metadata_df['date'] = minutes_date\n",
    "\n",
    "            meeting_dfs.append(metadata_df)\n",
    "        except:\n",
    "            print('failed on %s...' % meeting_file)"
   ]
  },
  {
   "cell_type": "code",
   "execution_count": 277,
   "metadata": {},
   "outputs": [],
   "source": [
    "all_meetings_dfs = pd.concat(meeting_dfs)"
   ]
  },
  {
   "cell_type": "code",
   "execution_count": 278,
   "metadata": {},
   "outputs": [
    {
     "data": {
      "text/plain": [
       "<matplotlib.axes._subplots.AxesSubplot at 0x247988759e8>"
      ]
     },
     "execution_count": 278,
     "metadata": {},
     "output_type": "execute_result"
    },
    {
     "data": {
      "image/png": "[encoded data removed]",
      "text/plain": [
       "<Figure size 432x288 with 1 Axes>"
      ]
     },
     "metadata": {
      "needs_background": "light"
     },
     "output_type": "display_data"
    }
   ],
   "source": [
    "%matplotlib inline\n",
    "all_meetings_dfs.assign(c=1).groupby(pd.Grouper(key='date', freq='7D'))['c'].sum().plot()"
   ]
  },
  {
   "cell_type": "code",
   "execution_count": 279,
   "metadata": {},
   "outputs": [
    {
     "data": {
      "text/plain": [
       "<matplotlib.axes._subplots.AxesSubplot at 0x247996f8eb8>"
      ]
     },
     "execution_count": 279,
     "metadata": {},
     "output_type": "execute_result"
    },
    {
     "data": {
      "image/png": "[encoded data removed]",
      "text/plain": [
       "<Figure size 432x288 with 1 Axes>"
      ]
     },
     "metadata": {
      "needs_background": "light"
     },
     "output_type": "display_data"
    }
   ],
   "source": [
    "all_meetings_dfs['text'].str.split().str.len().hist(bins=50, range=(0, 200))"
   ]
  },
  {
   "cell_type": "code",
   "execution_count": null,
   "metadata": {},
   "outputs": [],
   "source": []
  },
  {
   "cell_type": "code",
   "execution_count": 293,
   "metadata": {},
   "outputs": [],
   "source": [
    "import util\n",
    "from importlib import reload\n",
    "import swifter"
   ]
  },
  {
   "cell_type": "code",
   "execution_count": 295,
   "metadata": {},
   "outputs": [
    {
     "data": {
      "text/plain": [
       "<module 'util' from 'C:\\\\Users\\\\alexa\\\\Projects\\\\usc-research\\\\newspaper-pages\\\\notebooks\\\\util.py'>"
      ]
     },
     "execution_count": 295,
     "metadata": {},
     "output_type": "execute_result"
    }
   ],
   "source": [
    "reload(util)"
   ]
  },
  {
   "cell_type": "code",
   "execution_count": null,
   "metadata": {},
   "outputs": [
    {
     "data": {
      "application/vnd.jupyter.widget-view+json": {
       "model_id": "909c7ddfab7c4de889ea04e8c8c42137",
       "version_major": 2,
       "version_minor": 0
      },
      "text/plain": [
       "HBox(children=(IntProgress(value=0, description='Pandas Apply', max=113276, style=ProgressStyle(description_wi…"
      ]
     },
     "metadata": {},
     "output_type": "display_data"
    }
   ],
   "source": [
    "all_meetings_dfs['processed_text'] = all_meetings_dfs['text'].swifter.apply(util.preprocess)"
   ]
  },
  {
   "cell_type": "code",
   "execution_count": 303,
   "metadata": {},
   "outputs": [],
   "source": [
    "all_meetings_dfs.to_csv(\"../council_meetings/processed_council_meetings.csv\")"
   ]
  },
  {
   "cell_type": "code",
   "execution_count": null,
   "metadata": {},
   "outputs": [],
   "source": []
  },
  {
   "cell_type": "code",
   "execution_count": null,
   "metadata": {},
   "outputs": [],
   "source": []
  },
  {
   "cell_type": "code",
   "execution_count": null,
   "metadata": {},
   "outputs": [],
   "source": []
  }
 ],
 "metadata": {
  "hide_input": false,
  "kernelspec": {
   "display_name": "Python 3",
   "language": "python",
   "name": "python3"
  },
  "language_info": {
   "codemirror_mode": {
    "name": "ipython",
    "version": 3
   },
   "file_extension": ".py",
   "mimetype": "text/x-python",
   "name": "python",
   "nbconvert_exporter": "python",
   "pygments_lexer": "ipython3",
   "version": "3.7.3"
  }
 },
 "nbformat": 4,
 "nbformat_minor": 2
}
