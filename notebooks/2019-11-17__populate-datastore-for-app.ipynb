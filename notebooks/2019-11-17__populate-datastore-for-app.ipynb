{
 "cells": [
  {
   "cell_type": "code",
   "execution_count": 22,
   "metadata": {},
   "outputs": [],
   "source": [
    "from google.cloud import datastore\n",
    "import json\n",
    "import pandas as pd\n",
    "import os"
   ]
  },
  {
   "cell_type": "code",
   "execution_count": 23,
   "metadata": {},
   "outputs": [],
   "source": [
    "os.environ['GOOGLE_APPLICATION_CREDENTIALS'] = 'C:/Users/alexa/google-cloud/usc-research-c087445cf499.json'"
   ]
  },
  {
   "cell_type": "code",
   "execution_count": 24,
   "metadata": {},
   "outputs": [],
   "source": [
    "client = datastore.Client()"
   ]
  },
  {
   "cell_type": "code",
   "execution_count": 25,
   "metadata": {},
   "outputs": [],
   "source": [
    "council_meeting_sample = pd.read_csv('../app/data/council-meetings-for-datastore.csv', header=-1, squeeze=True)"
   ]
  },
  {
   "cell_type": "code",
   "execution_count": 6,
   "metadata": {},
   "outputs": [],
   "source": [
    "import numpy as np "
   ]
  },
  {
   "cell_type": "code",
   "execution_count": 28,
   "metadata": {},
   "outputs": [],
   "source": [
    "for row_idx, entity_idx, text in council_meeting_sample.iloc[:100].itertuples():\n",
    "    ## make key\n",
    "    key = client.key('council-meetings-unscored', entity_idx)\n",
    "    entity = datastore.Entity(\n",
    "        key=key,\n",
    "        exclude_from_indexes=['text']\n",
    "    )\n",
    "    ### add data\n",
    "    entity.update({\n",
    "        'text' : text,\n",
    "        'score': np.random.rand(),\n",
    "        'batch': int(row_idx / 3),\n",
    "        'num_completed': 0,\n",
    "        'finished': False\n",
    "    })\n",
    "\n",
    "    client.put(entity)"
   ]
  },
  {
   "cell_type": "code",
   "execution_count": null,
   "metadata": {},
   "outputs": [],
   "source": []
  },
  {
   "cell_type": "code",
   "execution_count": 194,
   "metadata": {},
   "outputs": [],
   "source": [
    "query = client.query(kind='council-meetings-unscored')\n",
    "query.add_filter('finished', '=', False)\n",
    "results = list(query.fetch(limit=5))"
   ]
  },
  {
   "cell_type": "code",
   "execution_count": 217,
   "metadata": {},
   "outputs": [
    {
     "data": {
      "text/plain": [
       "{'num_completed': 0,\n",
       " 'score': 0.7866655522100708,\n",
       " 'finished': False,\n",
       " 'batch': 3,\n",
       " 'text': 'CATEGORICAL EXEMPTION, TRANSPORTATION COMMITTEE REPORT and RESOLUTION relative to the establishment of Temporary Preferential Parking District (TPPD) No. 228.\\n \\nRecommendations for Council action:\\n \\n\\n\\nFIND that the establishment of TPPD No. 228, pursuant to Los Angeles Municipal Code (LAMC) Section 80.58.d, is exempt from the California Environmental Quality Act (CEQA) as a Class 1 Categorical Exemption, under Article III.1.a.3 of the 2002 Los Angeles City CEQA Guidelines.\\n\\n\\n\\n\\nFIND that the residents of the streets listed below in Recommendation No. 3 and in the June 6, 2016 Los Angeles Department of Transportation (LADOT) report, attached to the Council file,  are suffering an excessive parking impact due to the recent popularity of a nearby nightclub, which has insufficient parking for its patrons resulting in the patrons frequently monopolize the parking from early evening until 2 AM, making it virtually impossible for residents to park near their homes and as such, the residents of the area deserve immediate relief from the aforementioned activities.\\n\\n\\n\\nADOPT the accompanying RESOLUTION establishing TPPD No. 228 pursuant to Los Angeles Municipal Code (LAMC) Section 80.58.d for:\\n\\n\\nDillon Street between Marathon Street and Ellsworth Street\\n\\n\\nMarathon Street between Dillon Street and Vendome Street\\n\\n\\nRobinson Street between Marathon Street and Descanso Drive\\n\\n\\nDillon Street between Marathon Street and Vendome Street\\n\\n\\nRobinson Street between Marathon Street and Ellsworth Street\\n        \\n                        \\n\\n\\nAUTHORIZE the NO PARKING 6 PM TO 8 AM; DISTRICT NO. 228 PERMITS EXEMPT restriction for use on both sides of the residential portions of the street segments set forth above in Recommendation No. 3, except when parking is already prohibited for safety or traffic reasons. \\n\\n\\nINSTRUCT the LADOT to initiate the necessary procedures for the preparation and sale of parking permits to residents within the boundaries of TPPD No. 228 pursuant to LAMC Section 80.58.\\n\\n\\nDIRECT the LADOT, upon Council adoption of the RESOLUTION establishing TPPD No. 228, to post or remove the authorized parking restrictions upon receipt and verification of the requisite petition, without further actions by City Council. \\n\\n      \\nFiscal Impact Statement:  The LADOT reports that revenue from the sale of permits will cover the cost of implementing and administering TPPD No. 228.     If motorists violate the posted restrictions and are found liable for their citations, additional General Fund Revenue may result.\\n \\nCommunity Impact Statement:  None submitted.'}"
      ]
     },
     "execution_count": 217,
     "metadata": {},
     "output_type": "execute_result"
    }
   ],
   "source": [
    "dict(results[0])"
   ]
  },
  {
   "cell_type": "code",
   "execution_count": 215,
   "metadata": {},
   "outputs": [
    {
     "data": {
      "text/plain": [
       "<Key('council-meetings-unscored', 2082), project=usc-research>"
      ]
     },
     "execution_count": 215,
     "metadata": {},
     "output_type": "execute_result"
    }
   ],
   "source": [
    "t"
   ]
  },
  {
   "cell_type": "code",
   "execution_count": 214,
   "metadata": {},
   "outputs": [
    {
     "data": {
      "text/plain": [
       "2082"
      ]
     },
     "execution_count": 214,
     "metadata": {},
     "output_type": "execute_result"
    }
   ],
   "source": [
    "t.id"
   ]
  },
  {
   "cell_type": "code",
   "execution_count": 203,
   "metadata": {},
   "outputs": [
    {
     "data": {
      "text/plain": [
       "[4, 5]"
      ]
     },
     "execution_count": 203,
     "metadata": {},
     "output_type": "execute_result"
    }
   ],
   "source": [
    "[2,3,4,5][-2:]"
   ]
  },
  {
   "cell_type": "code",
   "execution_count": 201,
   "metadata": {},
   "outputs": [
    {
     "data": {
      "text/plain": [
       "True"
      ]
     },
     "execution_count": 201,
     "metadata": {},
     "output_type": "execute_result"
    }
   ],
   "source": [
    "3%2==1"
   ]
  },
  {
   "cell_type": "code",
   "execution_count": 196,
   "metadata": {},
   "outputs": [
    {
     "data": {
      "text/plain": [
       "[<Entity('council-meetings-unscored', 3798) {'num_completed': 0, 'score': 0.261870339054349, 'finished': False, 'batch': 1, 'text': 'PUBLIC SAFETY COMMITTEE REPORT relative to the status of the Council District One Public Benefits Trust Fund No. 889 covering Fiscal Year 2015-16.\\n\\n \\nRecommendation for Council action: \\n \\n\\nNOTE and FILE the City Clerk report to the Mayor and Council dated September 30, 2016, attached to the Council file, relative to the status of the Council District One Public Benefits Trust Fund No. 889 covering Fiscal Year 2015-16.\\n\\n \\n\\nFiscal Impact Statement: Not applicable.\\n\\n \\n\\nCommunity Impact Statement:  None submitted.'}>,\n",
       " <Entity('council-meetings-unscored', 6158) {'score': 0.5980749714211385, 'num_completed': 0, 'finished': False, 'batch': 1, 'text': 'CONTINUED CONSIDERATION OF HEARING PROTESTS and ORDINANCE FIRST CONSIDERATION relative to the improvement and maintenance of the Sweetzer and Rosewood Avenues Street Lighting District.\\n \\nRecommendations for Council action, SUBJECT TO THE APPROVAL OF THE MAYOR:\\n \\n\\nDENY the protest and confirm the assessments.\\n\\n\\nPRESENT and ADOPT the accompanying ORDINANCE levying the assessments and ordering the maintenance of the above lighting district, in accordance with Sections 6.95-6.127 of the Los Angeles Administrative Code and Government Code Section 53753 (Proposition 218).'}>,\n",
       " <Entity('council-meetings-unscored', 2082) {'num_completed': 0, 'score': 0.7866655522100708, 'finished': False, 'batch': 3, 'text': 'CATEGORICAL EXEMPTION, TRANSPORTATION COMMITTEE REPORT and RESOLUTION relative to the establishment of Temporary Preferential Parking District (TPPD) No. 228.\\n \\nRecommendations for Council action:\\n \\n\\n\\nFIND that the establishment of TPPD No. 228, pursuant to Los Angeles Municipal Code (LAMC) Section 80.58.d, is exempt from the California Environmental Quality Act (CEQA) as a Class 1 Categorical Exemption, under Article III.1.a.3 of the 2002 Los Angeles City CEQA Guidelines.\\n\\n\\n\\n\\nFIND that the residents of the streets listed below in Recommendation No. 3 and in the June 6, 2016 Los Angeles Department of Transportation (LADOT) report, attached to the Council file,  are suffering an excessive parking impact due to the recent popularity of a nearby nightclub, which has insufficient parking for its patrons resulting in the patrons frequently monopolize the parking from early evening until 2 AM, making it virtually impossible for residents to park near their homes and as such, the residents of the area deserve immediate relief from the aforementioned activities.\\n\\n\\n\\nADOPT the accompanying RESOLUTION establishing TPPD No. 228 pursuant to Los Angeles Municipal Code (LAMC) Section 80.58.d for:\\n\\n\\nDillon Street between Marathon Street and Ellsworth Street\\n\\n\\nMarathon Street between Dillon Street and Vendome Street\\n\\n\\nRobinson Street between Marathon Street and Descanso Drive\\n\\n\\nDillon Street between Marathon Street and Vendome Street\\n\\n\\nRobinson Street between Marathon Street and Ellsworth Street\\n        \\n                        \\n\\n\\nAUTHORIZE the NO PARKING 6 PM TO 8 AM; DISTRICT NO. 228 PERMITS EXEMPT restriction for use on both sides of the residential portions of the street segments set forth above in Recommendation No. 3, except when parking is already prohibited for safety or traffic reasons. \\n\\n\\nINSTRUCT the LADOT to initiate the necessary procedures for the preparation and sale of parking permits to residents within the boundaries of TPPD No. 228 pursuant to LAMC Section 80.58.\\n\\n\\nDIRECT the LADOT, upon Council adoption of the RESOLUTION establishing TPPD No. 228, to post or remove the authorized parking restrictions upon receipt and verification of the requisite petition, without further actions by City Council. \\n\\n      \\nFiscal Impact Statement:  The LADOT reports that revenue from the sale of permits will cover the cost of implementing and administering TPPD No. 228.     If motorists violate the posted restrictions and are found liable for their citations, additional General Fund Revenue may result.\\n \\nCommunity Impact Statement:  None submitted.'}>,\n",
       " <Entity('council-meetings-unscored', 5476) {'num_completed': 0, 'score': 0.8820732350243851, 'finished': False, 'batch': 2, 'text': \"HOUSING COMMITTEE REPORT relative to funding for a Los Angeles Housing and Community Investment Department (HCIDLA) agreement with Fuse Corps to place a Fuse Fellow in the Department's Asset Management Division.\\n \\nRecommendations for Council action, SUBJECT TO THE APPROVAL OF THE MAYOR:\\n \\n\\nAUTHORIZE the Controller to establish a new account, 43N616 Fuse Program, and appropriate $150,000 within Fund No. 55J/43 Low- and Moderate-Income Housing Fund, and to expend those funds upon proper demand of the General Manager, HCIDLA.\\n\\n\\nAUTHORIZE the General Manager, HCIDLA, or designee, to prepare Controller instructions and any necessary technical adjustments consistent with this action, subject to the approval of the City Administrative Officer (CAO); and, AUTHORIZE the Controller to implement the instructions. \\n\\n \\nFiscal Impact Statement: The CAO reports that this action will not impact the General Fund. The above recommendations are in compliance with City financial policies in that the requested funding will be provided by the Low- and Moderate-Income Housing Fund.\\n \\nCommunity Impact Statement: None submitted.\\n \\nTIME LIMIT FILE - AUGUST 25, 2017\\n \\n(LAST DAY FOR COUNCIL ACTION - AUGUST 25, 2017)\"}>,\n",
       " <Entity('council-meetings-unscored', 2441) {'num_completed': 0, 'score': 0.9790637657334386, 'finished': False, 'batch': 2, 'text': \"RESOLUTIONS relative to removing various properties from the Rent Escrow Account Program.\\nRecommendation for Council action:\\nADOPT the accompanying RESOLUTIONS removing the following properties from the Rent Escrow Account Program (REAP), inasmuch as the owner(s) have corrected the cited REAP violations and provided proof of compliance with the Los Angeles Housing and Community Investment Department (LAHCID), Code Enforcement Unit, habitability citations, pursuant to Ordinance 173810, and ADOPT the Findings contained in the LAHCID's report attached to the Council File: (a)16-0005-S34516-0005-S345CD 1218356 West Napa Street (Case No. 558200) Assessor I.D. No. 2786-024-034\\n \\n  Adopted,  (11); Absent: Bonin, Fuentes, Krekorian, Price (4)   (b)16-0005-S34616-0005-S346CD 8622 West 79th Street (Case No. 235984) Assessor I.D. No. 6032-027-028\\n \\n  Adopted,  (11); Absent: Bonin, Fuentes, Krekorian, Price (4)   (c)16-0005-S34716-0005-S347CD 102615 South Somerset Drive (Case No. 533532) Assessor I.D. No. 5050-002-024\"}>]"
      ]
     },
     "execution_count": 196,
     "metadata": {},
     "output_type": "execute_result"
    }
   ],
   "source": [
    "sorted(results, key=lambda x: x['score'])"
   ]
  },
  {
   "cell_type": "code",
   "execution_count": 192,
   "metadata": {},
   "outputs": [],
   "source": [
    "import json"
   ]
  },
  {
   "cell_type": "code",
   "execution_count": null,
   "metadata": {},
   "outputs": [],
   "source": []
  },
  {
   "cell_type": "code",
   "execution_count": null,
   "metadata": {},
   "outputs": [],
   "source": []
  }
 ],
 "metadata": {
  "hide_input": false,
  "kernelspec": {
   "display_name": "Python 3",
   "language": "python",
   "name": "python3"
  },
  "language_info": {
   "codemirror_mode": {
    "name": "ipython",
    "version": 3
   },
   "file_extension": ".py",
   "mimetype": "text/x-python",
   "name": "python",
   "nbconvert_exporter": "python",
   "pygments_lexer": "ipython3",
   "version": "3.7.3"
  },
  "latex_envs": {
   "LaTeX_envs_menu_present": true,
   "autoclose": false,
   "autocomplete": true,
   "bibliofile": "biblio.bib",
   "cite_by": "apalike",
   "current_citInitial": 1,
   "eqLabelWithNumbers": true,
   "eqNumInitial": 1,
   "hotkeys": {
    "equation": "Ctrl-E",
    "itemize": "Ctrl-I"
   },
   "labels_anchors": false,
   "latex_user_defs": false,
   "report_style_numbering": false,
   "user_envs_cfg": false
  }
 },
 "nbformat": 4,
 "nbformat_minor": 2
}
