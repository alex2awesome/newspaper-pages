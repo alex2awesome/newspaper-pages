{
 "cells": [
  {
   "cell_type": "code",
   "execution_count": null,
   "metadata": {},
   "outputs": [],
   "source": [
    "from sklearn.feature_extraction.text import TfidfVectorizer\n",
    "import pandas as pd"
   ]
  },
  {
   "cell_type": "code",
   "execution_count": 5,
   "metadata": {},
   "outputs": [],
   "source": [
    "train_df = pd.read_csv(\"data/processed_train_time_balanced_df.csv\", index_col=0)"
   ]
  },
  {
   "cell_type": "code",
   "execution_count": 8,
   "metadata": {},
   "outputs": [],
   "source": [
    "X_train = train_df['processed_bodies']\n",
    "y_train = train_df['label']"
   ]
  },
  {
   "cell_type": "code",
   "execution_count": 9,
   "metadata": {},
   "outputs": [],
   "source": [
    "tfidf = TfidfVectorizer(min_df=.01, max_df=1.0, ngram_range=(1, 3))"
   ]
  },
  {
   "cell_type": "code",
   "execution_count": 10,
   "metadata": {},
   "outputs": [],
   "source": [
    "X_vec = tfidf.fit_transform(X_train)"
   ]
  },
  {
   "cell_type": "code",
   "execution_count": 18,
   "metadata": {},
   "outputs": [],
   "source": [
    "X_vec_df = pd.DataFrame(X_vec.todense(), columns=pd.Series(tfidf.vocabulary_).sort_values().index)"
   ]
  },
  {
   "cell_type": "code",
   "execution_count": 23,
   "metadata": {},
   "outputs": [],
   "source": [
    "unigrams = X_vec_df.T.reset_index().loc[lambda df: df['index'].str.split(' ').str.len() == 1].set_index('index').T\n",
    "bigrams = X_vec_df.T.reset_index().loc[lambda df: df['index'].str.split(' ').str.len() == 2].set_index('index').T\n",
    "trigrams = X_vec_df.T.reset_index().loc[lambda df: df['index'].str.split(' ').str.len() == 3].set_index('index').T"
   ]
  },
  {
   "cell_type": "code",
   "execution_count": 27,
   "metadata": {},
   "outputs": [
    {
     "data": {
      "text/plain": [
       "index\n",
       "000           0.000000\n",
       "10            0.015766\n",
       "100           0.000000\n",
       "10th          0.000000\n",
       "11            0.000000\n",
       "110           0.000000\n",
       "11th          0.000000\n",
       "12            0.039651\n",
       "120           0.000000\n",
       "125           0.000000\n",
       "13            0.011355\n",
       "130           0.000000\n",
       "14            0.046020\n",
       "140           0.000000\n",
       "15            0.019017\n",
       "150           0.000000\n",
       "16            0.000000\n",
       "160           0.000000\n",
       "17            0.000000\n",
       "18            0.022275\n",
       "180           0.000000\n",
       "19            0.012241\n",
       "1930          0.000000\n",
       "1940          0.000000\n",
       "1950          0.000000\n",
       "1960          0.000000\n",
       "1964          0.000000\n",
       "1967          0.000000\n",
       "1968          0.000000\n",
       "1969          0.000000\n",
       "                ...   \n",
       "write         0.000000\n",
       "writer        0.000000\n",
       "writers       0.000000\n",
       "writing       0.015615\n",
       "written       0.000000\n",
       "wrong         0.000000\n",
       "wrongdoing    0.000000\n",
       "wrote         0.000000\n",
       "yale          0.000000\n",
       "yankees       0.000000\n",
       "yard          0.000000\n",
       "yards         0.000000\n",
       "year          0.195814\n",
       "years         0.079958\n",
       "yellow        0.000000\n",
       "yeltsin       0.000000\n",
       "yes           0.000000\n",
       "yesterday     0.000000\n",
       "yet           0.000000\n",
       "yield         0.000000\n",
       "york          0.000000\n",
       "yorkers       0.000000\n",
       "young         0.000000\n",
       "younger       0.000000\n",
       "youth         0.000000\n",
       "youths        0.000000\n",
       "yr            0.000000\n",
       "yugoslavia    0.000000\n",
       "zero          0.000000\n",
       "zone          0.000000\n",
       "Name: 0, Length: 4978, dtype: float64"
      ]
     },
     "execution_count": 27,
     "metadata": {},
     "output_type": "execute_result"
    }
   ],
   "source": [
    "unigrams.loc[0]"
   ]
  },
  {
   "cell_type": "code",
   "execution_count": null,
   "metadata": {},
   "outputs": [],
   "source": []
  }
 ],
 "metadata": {
  "hide_input": false,
  "kernelspec": {
   "display_name": "Python 3",
   "language": "python",
   "name": "python3"
  },
  "language_info": {
   "codemirror_mode": {
    "name": "ipython",
    "version": 3
   },
   "file_extension": ".py",
   "mimetype": "text/x-python",
   "name": "python",
   "nbconvert_exporter": "python",
   "pygments_lexer": "ipython3",
   "version": "3.7.3"
  }
 },
 "nbformat": 4,
 "nbformat_minor": 2
}
